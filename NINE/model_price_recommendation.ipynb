{
  "metadata": {
    "kernelspec": {
      "name": "python3",
      "display_name": "Python 3",
      "language": "python"
    },
    "language_info": {
      "name": "python",
      "version": "3.10.12",
      "mimetype": "text/x-python",
      "codemirror_mode": {
        "name": "ipython",
        "version": 3
      },
      "pygments_lexer": "ipython3",
      "nbconvert_exporter": "python",
      "file_extension": ".py"
    },
    "colab": {
      "provenance": [],
      "collapsed_sections": [
        "Nx_8Z7nr6RJR",
        "w2YzWWzhA0dO"
      ],
      "name": "model_price_recommendation",
      "include_colab_link": true
    },
    "kaggle": {
      "accelerator": "nvidiaTeslaT4",
      "dataSources": [
        {
          "sourceId": 11017540,
          "sourceType": "datasetVersion",
          "datasetId": 6860034
        }
      ],
      "dockerImageVersionId": 30918,
      "isInternetEnabled": true,
      "language": "python",
      "sourceType": "notebook",
      "isGpuEnabled": true
    }
  },
  "nbformat_minor": 0,
  "nbformat": 4,
  "cells": [
    {
      "cell_type": "markdown",
      "metadata": {
        "id": "view-in-github",
        "colab_type": "text"
      },
      "source": [
        "<a href=\"https://colab.research.google.com/github/nxxk23/NAKBID/blob/main/NINE/model_price_recommendation.ipynb\" target=\"_parent\"><img src=\"https://colab.research.google.com/assets/colab-badge.svg\" alt=\"Open In Colab\"/></a>"
      ]
    },
    {
      "source": [
        "# IMPORTANT: SOME KAGGLE DATA SOURCES ARE PRIVATE\n",
        "# RUN THIS CELL IN ORDER TO IMPORT YOUR KAGGLE DATA SOURCES.\n",
        "import kagglehub\n",
        "kagglehub.login()\n"
      ],
      "metadata": {
        "id": "Ji1VMH2lsywa"
      },
      "cell_type": "code",
      "outputs": [],
      "execution_count": null
    },
    {
      "source": [
        "# IMPORTANT: RUN THIS CELL IN ORDER TO IMPORT YOUR KAGGLE DATA SOURCES,\n",
        "# THEN FEEL FREE TO DELETE THIS CELL.\n",
        "# NOTE: THIS NOTEBOOK ENVIRONMENT DIFFERS FROM KAGGLE'S PYTHON\n",
        "# ENVIRONMENT SO THERE MAY BE MISSING LIBRARIES USED BY YOUR\n",
        "# NOTEBOOK.\n",
        "\n",
        "ninebuthsri_hospital_path = kagglehub.dataset_download('ninebuthsri/hospital')\n",
        "\n",
        "print('Data source import complete.')\n"
      ],
      "metadata": {
        "id": "-SzR4auMsywb"
      },
      "cell_type": "code",
      "outputs": [],
      "execution_count": null
    },
    {
      "cell_type": "markdown",
      "source": [
        "\n",
        "\n",
        "#   Transaction\n",
        "\n"
      ],
      "metadata": {
        "id": "wT10aAUicFVw"
      }
    },
    {
      "cell_type": "code",
      "source": [
        "import pandas as pd\n",
        "data1 = pd.read_csv('/kaggle/input/hospital/RYH_DrNote_202412.csv',  encoding='TIS-620')\n",
        "data1\n",
        "#Inv in lab\n",
        "#PEtext"
      ],
      "metadata": {
        "id": "t_FKqerr39dl",
        "outputId": "a1cbc122-d52a-425c-85a3-352e68aa8d1b",
        "trusted": true,
        "execution": {
          "iopub.status.busy": "2025-03-14T07:13:04.013202Z",
          "iopub.execute_input": "2025-03-14T07:13:04.013487Z",
          "iopub.status.idle": "2025-03-14T07:13:04.171471Z",
          "shell.execute_reply.started": "2025-03-14T07:13:04.013463Z",
          "shell.execute_reply": "2025-03-14T07:13:04.17055Z"
        }
      },
      "outputs": [
        {
          "execution_count": 75,
          "output_type": "execute_result",
          "data": {
            "text/plain": "            ID OcmPatTyp               NurseStation  \\\n0       608768         O           SKIN ห้องผิวหนัง   \n1       886211         O  CheckUp Center ตรวจสุขภาพ   \n2       890749         O               PED ห้องเด็ก   \n3       890751         O               PED ห้องเด็ก   \n4       894455         O               PED ห้องเด็ก   \n...        ...       ...                        ...   \n11987  1146347         O             ER ห้องฉุกเฉิน   \n11988  1146352         O             ER ห้องฉุกเฉิน   \n11989  1146357         O             ER ห้องฉุกเฉิน   \n11990  1146358         O             ER ห้องฉุกเฉิน   \n11991  1146361         I             ER ห้องฉุกเฉิน   \n\n                               CC  \\\n0                  เกลื้อนที่หลัง   \n1                ตรวจสุขภาพบริษัท   \n2                          วัคซีน   \n3                          วัคซีน   \n4      วัคซีน ไม่เอาสมุดวัคซีนมา    \n...                           ...   \n11987                   ไอ เจ็บคอ   \n11988  ลื่นล้ม ปวดเข่า2ข้าง มีแผล   \n11989             ล้ม ปวดเท้าซ้าย   \n11990             ผื่นแดงที่ขาขวา   \n11991                        ไข้    \n\n                                                      Pi  \\\n0           มีผื่นขาวที่หลัง ต้นแขนใหม่ คันเวลาเหงื่อออก   \n1                                                    NaN   \n2                                              แข็งแรงดี   \n3                                              แข็งแรงดี   \n4      ป5 รร อนุบาลนครหาดใหญ่ เรียนดี nutrition ดี \\r...   \n...                                                  ...   \n11987   2 วัน ไข้ ไอแห้งๆ ไม่มีน้ำมูก ไม่เหนื่อย เจ็บคอ    \n11988  15.00 น ลื่นล้มมีแผลถลอกที่ข้อเข่าทั้งสองข้าง ...   \n11989  ลื่นล้ม ข้อเท้าพลิก ปวดเท้าซ้าย เดินลงน้ำหนักไ...   \n11990  3-4 วัน เป็นผื่นแดงที่ขาขวา เกาแล้วเป็นแผล วัน...   \n11991  ไข้ 2 วัน ไอเสมหะ ไม่เจ็บคอ มีน้ำมูก กินยา (Pa...   \n\n                                                    Diag  \\\n0                         เกลื้อน(Pityriasis versicolor)   \n1      การตรวจทั่วไปและสืบค้นโรคในบุคคลที่ไม่มีอาการผ...   \n2      ต้องการก่อภูมิคุ้มกันต่อโรคไข้หวัดใหญ่(Need fo...   \n3      ต้องการก่อภูมิคุ้มกันต่อโรคไข้หวัดใหญ่(Need fo...   \n4      ต้องการก่อภูมิคุ้มกันต่อโรคไข้หวัดใหญ่(Need fo...   \n...                                                  ...   \n11987            คอหอยอักเสบเฉียบพลัน(Acute pharyngitis)   \n11988  การถลอกที่เข่าและขาท่อนปลาย(Abrasion of knee a...   \n11989  การเคลื่อน แพลง และเคล็ดของข้อและเอ็นที่ระดับข...   \n11990  เซลล์เนื้อเยื่ออักเสบที่ส่วนอื่นที่แขนขา(Cellu...   \n11991    ไข้อื่นที่มีลักษณะจำเพาะ(Other specified fever)   \n\n                                                    Plan  \\\n0                                                    NaN   \n1                                                    NaN   \n2                                         Influvac tetra   \n3                                         Influvac tetra   \n4                         advice side effect of vaccine    \n...                                                  ...   \n11987                                                med   \n11988  =dressing wound od >> f/U 2/1/68 13.00 น \\r\\n=...   \n11989  - Film: no Fx >> ankle spraing Gr.2\\r\\n- on sh...   \n11990      Dressing wound, HM ATBx, F/U OPD Sx. พรุ่งนี้   \n11991                          Swab + Admit IV hydration   \n\n                                                     Inv  \\\n0                                                    NaN   \n1      CBC, UA (Urine Analysis), FBS, BUN, Creatinine...   \n2                                                    NaN   \n3                                                    NaN   \n4                                                    NaN   \n...                                                  ...   \n11987                                                NaN   \n11988                                                NaN   \n11989  Ankle / AP, LAT, Mortise (Left): not see fracture   \n11990                                                NaN   \n11991  Covid Ag/ Influenza A/B /RSV / Adenovirus/HMPV...   \n\n                                                  PEtext  \\\n0      hypopigmented macule with fine scale at back a...   \n1                                                    NaN   \n2        Chest: Normal, Heart: Normal, Abdomen: Normal,    \n3                         Chest: Normal, Heart: Normal,    \n4      active \\r\\nheart no murmur \\r\\nlung clear\\r\\na...   \n...                                                  ...   \n11987  good concious\\r\\nHEENT : not pale , no Jx , ph...   \n11988  Trauma PE\\r\\nHead / Face: no wound\\r\\nNeck: no...   \n11989  ? affected part: Lt ankle\\r\\n- swelling and te...   \n11990  ? affected part: Rt thigh\\r\\n- Skin redness, s...   \n11991  Alert, febrile, no dyspnea, look fatique\\r\\nHE...   \n\n                                                   ICD10 PhyDtrCod  \\\n0                          [B36.0] Pityriasis versicolor  DRF0096    \n1      [Z00] General examination and investigation of...  DRF0235    \n2        [Z25.1] Need for immunization against influenza  DRF0322    \n3        [Z25.1] Need for immunization against influenza  DRF0322    \n4        [Z25.1] Need for immunization against influenza  DRF0916    \n...                                                  ...       ...   \n11987                            [J02] Acute pharyngitis  DRF0944    \n11988             [S80.80] Abrasion of knee and leg (TM)  DRF0944    \n11989  [S93] Dislocation, sprain and strain of joints...  DRF1222    \n11990          [L03.1] Cellulitis of other parts of limb  DRF1222    \n11991            [J12.3] Human metapneumovirus pneumonia  DRF1222    \n\n                              docname  \n0          พญ. ขวัญเสด็จ วังศิริไพศาล  \n1        พญ. ณภัทร เทพหัสดิน ณ อยุธยา  \n2              พญ. ศิริพร สมรรคจันทร์  \n3              พญ. ศิริพร สมรรคจันทร์  \n4                 พญ. กมรพรรณ แสงอรุณ  \n...                               ...  \n11987  นพ. เพียรชัย ฉัตรพิรุฬห์พันธุ์  \n11988  นพ. เพียรชัย ฉัตรพิรุฬห์พันธุ์  \n11989              นพ. ศุภกร เทพบำรุง  \n11990              นพ. ศุภกร เทพบำรุง  \n11991              นพ. ศุภกร เทพบำรุง  \n\n[11992 rows x 12 columns]",
            "text/html": "<div>\n<style scoped>\n    .dataframe tbody tr th:only-of-type {\n        vertical-align: middle;\n    }\n\n    .dataframe tbody tr th {\n        vertical-align: top;\n    }\n\n    .dataframe thead th {\n        text-align: right;\n    }\n</style>\n<table border=\"1\" class=\"dataframe\">\n  <thead>\n    <tr style=\"text-align: right;\">\n      <th></th>\n      <th>ID</th>\n      <th>OcmPatTyp</th>\n      <th>NurseStation</th>\n      <th>CC</th>\n      <th>Pi</th>\n      <th>Diag</th>\n      <th>Plan</th>\n      <th>Inv</th>\n      <th>PEtext</th>\n      <th>ICD10</th>\n      <th>PhyDtrCod</th>\n      <th>docname</th>\n    </tr>\n  </thead>\n  <tbody>\n    <tr>\n      <th>0</th>\n      <td>608768</td>\n      <td>O</td>\n      <td>SKIN ห้องผิวหนัง</td>\n      <td>เกลื้อนที่หลัง</td>\n      <td>มีผื่นขาวที่หลัง ต้นแขนใหม่ คันเวลาเหงื่อออก</td>\n      <td>เกลื้อน(Pityriasis versicolor)</td>\n      <td>NaN</td>\n      <td>NaN</td>\n      <td>hypopigmented macule with fine scale at back a...</td>\n      <td>[B36.0] Pityriasis versicolor</td>\n      <td>DRF0096</td>\n      <td>พญ. ขวัญเสด็จ วังศิริไพศาล</td>\n    </tr>\n    <tr>\n      <th>1</th>\n      <td>886211</td>\n      <td>O</td>\n      <td>CheckUp Center ตรวจสุขภาพ</td>\n      <td>ตรวจสุขภาพบริษัท</td>\n      <td>NaN</td>\n      <td>การตรวจทั่วไปและสืบค้นโรคในบุคคลที่ไม่มีอาการผ...</td>\n      <td>NaN</td>\n      <td>CBC, UA (Urine Analysis), FBS, BUN, Creatinine...</td>\n      <td>NaN</td>\n      <td>[Z00] General examination and investigation of...</td>\n      <td>DRF0235</td>\n      <td>พญ. ณภัทร เทพหัสดิน ณ อยุธยา</td>\n    </tr>\n    <tr>\n      <th>2</th>\n      <td>890749</td>\n      <td>O</td>\n      <td>PED ห้องเด็ก</td>\n      <td>วัคซีน</td>\n      <td>แข็งแรงดี</td>\n      <td>ต้องการก่อภูมิคุ้มกันต่อโรคไข้หวัดใหญ่(Need fo...</td>\n      <td>Influvac tetra</td>\n      <td>NaN</td>\n      <td>Chest: Normal, Heart: Normal, Abdomen: Normal,</td>\n      <td>[Z25.1] Need for immunization against influenza</td>\n      <td>DRF0322</td>\n      <td>พญ. ศิริพร สมรรคจันทร์</td>\n    </tr>\n    <tr>\n      <th>3</th>\n      <td>890751</td>\n      <td>O</td>\n      <td>PED ห้องเด็ก</td>\n      <td>วัคซีน</td>\n      <td>แข็งแรงดี</td>\n      <td>ต้องการก่อภูมิคุ้มกันต่อโรคไข้หวัดใหญ่(Need fo...</td>\n      <td>Influvac tetra</td>\n      <td>NaN</td>\n      <td>Chest: Normal, Heart: Normal,</td>\n      <td>[Z25.1] Need for immunization against influenza</td>\n      <td>DRF0322</td>\n      <td>พญ. ศิริพร สมรรคจันทร์</td>\n    </tr>\n    <tr>\n      <th>4</th>\n      <td>894455</td>\n      <td>O</td>\n      <td>PED ห้องเด็ก</td>\n      <td>วัคซีน ไม่เอาสมุดวัคซีนมา</td>\n      <td>ป5 รร อนุบาลนครหาดใหญ่ เรียนดี nutrition ดี \\r...</td>\n      <td>ต้องการก่อภูมิคุ้มกันต่อโรคไข้หวัดใหญ่(Need fo...</td>\n      <td>advice side effect of vaccine</td>\n      <td>NaN</td>\n      <td>active \\r\\nheart no murmur \\r\\nlung clear\\r\\na...</td>\n      <td>[Z25.1] Need for immunization against influenza</td>\n      <td>DRF0916</td>\n      <td>พญ. กมรพรรณ แสงอรุณ</td>\n    </tr>\n    <tr>\n      <th>...</th>\n      <td>...</td>\n      <td>...</td>\n      <td>...</td>\n      <td>...</td>\n      <td>...</td>\n      <td>...</td>\n      <td>...</td>\n      <td>...</td>\n      <td>...</td>\n      <td>...</td>\n      <td>...</td>\n      <td>...</td>\n    </tr>\n    <tr>\n      <th>11987</th>\n      <td>1146347</td>\n      <td>O</td>\n      <td>ER ห้องฉุกเฉิน</td>\n      <td>ไอ เจ็บคอ</td>\n      <td>2 วัน ไข้ ไอแห้งๆ ไม่มีน้ำมูก ไม่เหนื่อย เจ็บคอ</td>\n      <td>คอหอยอักเสบเฉียบพลัน(Acute pharyngitis)</td>\n      <td>med</td>\n      <td>NaN</td>\n      <td>good concious\\r\\nHEENT : not pale , no Jx , ph...</td>\n      <td>[J02] Acute pharyngitis</td>\n      <td>DRF0944</td>\n      <td>นพ. เพียรชัย ฉัตรพิรุฬห์พันธุ์</td>\n    </tr>\n    <tr>\n      <th>11988</th>\n      <td>1146352</td>\n      <td>O</td>\n      <td>ER ห้องฉุกเฉิน</td>\n      <td>ลื่นล้ม ปวดเข่า2ข้าง มีแผล</td>\n      <td>15.00 น ลื่นล้มมีแผลถลอกที่ข้อเข่าทั้งสองข้าง ...</td>\n      <td>การถลอกที่เข่าและขาท่อนปลาย(Abrasion of knee a...</td>\n      <td>=dressing wound od &gt;&gt; f/U 2/1/68 13.00 น \\r\\n=...</td>\n      <td>NaN</td>\n      <td>Trauma PE\\r\\nHead / Face: no wound\\r\\nNeck: no...</td>\n      <td>[S80.80] Abrasion of knee and leg (TM)</td>\n      <td>DRF0944</td>\n      <td>นพ. เพียรชัย ฉัตรพิรุฬห์พันธุ์</td>\n    </tr>\n    <tr>\n      <th>11989</th>\n      <td>1146357</td>\n      <td>O</td>\n      <td>ER ห้องฉุกเฉิน</td>\n      <td>ล้ม ปวดเท้าซ้าย</td>\n      <td>ลื่นล้ม ข้อเท้าพลิก ปวดเท้าซ้าย เดินลงน้ำหนักไ...</td>\n      <td>การเคลื่อน แพลง และเคล็ดของข้อและเอ็นที่ระดับข...</td>\n      <td>- Film: no Fx &gt;&gt; ankle spraing Gr.2\\r\\n- on sh...</td>\n      <td>Ankle / AP, LAT, Mortise (Left): not see fracture</td>\n      <td>? affected part: Lt ankle\\r\\n- swelling and te...</td>\n      <td>[S93] Dislocation, sprain and strain of joints...</td>\n      <td>DRF1222</td>\n      <td>นพ. ศุภกร เทพบำรุง</td>\n    </tr>\n    <tr>\n      <th>11990</th>\n      <td>1146358</td>\n      <td>O</td>\n      <td>ER ห้องฉุกเฉิน</td>\n      <td>ผื่นแดงที่ขาขวา</td>\n      <td>3-4 วัน เป็นผื่นแดงที่ขาขวา เกาแล้วเป็นแผล วัน...</td>\n      <td>เซลล์เนื้อเยื่ออักเสบที่ส่วนอื่นที่แขนขา(Cellu...</td>\n      <td>Dressing wound, HM ATBx, F/U OPD Sx. พรุ่งนี้</td>\n      <td>NaN</td>\n      <td>? affected part: Rt thigh\\r\\n- Skin redness, s...</td>\n      <td>[L03.1] Cellulitis of other parts of limb</td>\n      <td>DRF1222</td>\n      <td>นพ. ศุภกร เทพบำรุง</td>\n    </tr>\n    <tr>\n      <th>11991</th>\n      <td>1146361</td>\n      <td>I</td>\n      <td>ER ห้องฉุกเฉิน</td>\n      <td>ไข้</td>\n      <td>ไข้ 2 วัน ไอเสมหะ ไม่เจ็บคอ มีน้ำมูก กินยา (Pa...</td>\n      <td>ไข้อื่นที่มีลักษณะจำเพาะ(Other specified fever)</td>\n      <td>Swab + Admit IV hydration</td>\n      <td>Covid Ag/ Influenza A/B /RSV / Adenovirus/HMPV...</td>\n      <td>Alert, febrile, no dyspnea, look fatique\\r\\nHE...</td>\n      <td>[J12.3] Human metapneumovirus pneumonia</td>\n      <td>DRF1222</td>\n      <td>นพ. ศุภกร เทพบำรุง</td>\n    </tr>\n  </tbody>\n</table>\n<p>11992 rows × 12 columns</p>\n</div>"
          },
          "metadata": {}
        }
      ],
      "execution_count": null
    },
    {
      "cell_type": "code",
      "source": [
        "data1[data1['ID']==1146361]"
      ],
      "metadata": {
        "trusted": true,
        "execution": {
          "iopub.status.busy": "2025-03-14T07:13:04.172642Z",
          "iopub.execute_input": "2025-03-14T07:13:04.17301Z",
          "iopub.status.idle": "2025-03-14T07:13:04.184686Z",
          "shell.execute_reply.started": "2025-03-14T07:13:04.172948Z",
          "shell.execute_reply": "2025-03-14T07:13:04.183879Z"
        },
        "id": "LELoeU_ksywe",
        "outputId": "89849b88-b439-4cbc-b10f-a927a67efcaf"
      },
      "outputs": [
        {
          "execution_count": 76,
          "output_type": "execute_result",
          "data": {
            "text/plain": "            ID OcmPatTyp    NurseStation    CC  \\\n11991  1146361         I  ER ห้องฉุกเฉิน  ไข้    \n\n                                                      Pi  \\\n11991  ไข้ 2 วัน ไอเสมหะ ไม่เจ็บคอ มีน้ำมูก กินยา (Pa...   \n\n                                                  Diag  \\\n11991  ไข้อื่นที่มีลักษณะจำเพาะ(Other specified fever)   \n\n                            Plan  \\\n11991  Swab + Admit IV hydration   \n\n                                                     Inv  \\\n11991  Covid Ag/ Influenza A/B /RSV / Adenovirus/HMPV...   \n\n                                                  PEtext  \\\n11991  Alert, febrile, no dyspnea, look fatique\\r\\nHE...   \n\n                                         ICD10 PhyDtrCod             docname  \n11991  [J12.3] Human metapneumovirus pneumonia  DRF1222   นพ. ศุภกร เทพบำรุง  ",
            "text/html": "<div>\n<style scoped>\n    .dataframe tbody tr th:only-of-type {\n        vertical-align: middle;\n    }\n\n    .dataframe tbody tr th {\n        vertical-align: top;\n    }\n\n    .dataframe thead th {\n        text-align: right;\n    }\n</style>\n<table border=\"1\" class=\"dataframe\">\n  <thead>\n    <tr style=\"text-align: right;\">\n      <th></th>\n      <th>ID</th>\n      <th>OcmPatTyp</th>\n      <th>NurseStation</th>\n      <th>CC</th>\n      <th>Pi</th>\n      <th>Diag</th>\n      <th>Plan</th>\n      <th>Inv</th>\n      <th>PEtext</th>\n      <th>ICD10</th>\n      <th>PhyDtrCod</th>\n      <th>docname</th>\n    </tr>\n  </thead>\n  <tbody>\n    <tr>\n      <th>11991</th>\n      <td>1146361</td>\n      <td>I</td>\n      <td>ER ห้องฉุกเฉิน</td>\n      <td>ไข้</td>\n      <td>ไข้ 2 วัน ไอเสมหะ ไม่เจ็บคอ มีน้ำมูก กินยา (Pa...</td>\n      <td>ไข้อื่นที่มีลักษณะจำเพาะ(Other specified fever)</td>\n      <td>Swab + Admit IV hydration</td>\n      <td>Covid Ag/ Influenza A/B /RSV / Adenovirus/HMPV...</td>\n      <td>Alert, febrile, no dyspnea, look fatique\\r\\nHE...</td>\n      <td>[J12.3] Human metapneumovirus pneumonia</td>\n      <td>DRF1222</td>\n      <td>นพ. ศุภกร เทพบำรุง</td>\n    </tr>\n  </tbody>\n</table>\n</div>"
          },
          "metadata": {}
        }
      ],
      "execution_count": null
    },
    {
      "cell_type": "code",
      "source": [
        "data1[data1['Inv'].notna()]"
      ],
      "metadata": {
        "id": "mooRlhOwh_oH",
        "outputId": "b663f02e-09cc-4f34-a2eb-f76ad4f4a7b4",
        "trusted": true,
        "execution": {
          "iopub.status.busy": "2025-03-14T07:13:04.186109Z",
          "iopub.execute_input": "2025-03-14T07:13:04.186336Z",
          "iopub.status.idle": "2025-03-14T07:13:04.211356Z",
          "shell.execute_reply.started": "2025-03-14T07:13:04.186315Z",
          "shell.execute_reply": "2025-03-14T07:13:04.21067Z"
        }
      },
      "outputs": [
        {
          "execution_count": 77,
          "output_type": "execute_result",
          "data": {
            "text/plain": "            ID OcmPatTyp                NurseStation                       CC  \\\n1       886211         O   CheckUp Center ตรวจสุขภาพ         ตรวจสุขภาพบริษัท   \n9       905343         O               CDC ห้องหัวใจ           นัดติดตามอาการ   \n15      990233         O            SKIN ห้องผิวหนัง  มีเชื้อราที่นิ้วเท้าขวา   \n17     1003307         O   CheckUp Center ตรวจสุขภาพ          นัดติดเรื่องตับ   \n18     1004193         O                  OPD ทั่วไป           นัดติดตามอาการ   \n...        ...       ...                         ...                      ...   \n11978  1146334         O  Ortho ศัลยกรรมกระดูกและข้อ     ล้มปวดนิ้วกลางมือขวา   \n11981  1146340         O              ER ห้องฉุกเฉิน            MCA มีแผลถลอก   \n11983  1146343         I              ER ห้องฉุกเฉิน                      ไข้   \n11989  1146357         O              ER ห้องฉุกเฉิน          ล้ม ปวดเท้าซ้าย   \n11991  1146361         I              ER ห้องฉุกเฉิน                     ไข้    \n\n                                                      Pi  \\\n1                                                    NaN   \n9      66YOM\\r\\nHT on losartan 50 mg/d, DLP on Rx\\r\\n...   \n15     เล็บงอกกว่าเดิมเล็กน้อย ยังไม่ถึงปลายเล็บด้านข...   \n17     OPD 800/day\\r\\nWt 125--121.2\\r\\nAST 50--35\\r\\n...   \n18     bilateral breast mass\\r\\nprevious excision at ...   \n...                                                  ...   \n11978  3rd digit pain 18.00  31/12/67\\r\\nfalling down...   \n11981  19.00น. MCA ล้ม มีแผลถลอกตามตัว ศีรษะกระแทกโคร...   \n11983  เมื่อวานไข้ต่ำๆ วันนี้มีไข้สูง ไอแห้งๆเล็กน้อย...   \n11989  ลื่นล้ม ข้อเท้าพลิก ปวดเท้าซ้าย เดินลงน้ำหนักไ...   \n11991  ไข้ 2 วัน ไอเสมหะ ไม่เจ็บคอ มีน้ำมูก กินยา (Pa...   \n\n                                                    Diag  \\\n1      การตรวจทั่วไปและสืบค้นโรคในบุคคลที่ไม่มีอาการผ...   \n9                    เจ็บหน้าอกแบบอื่น(Other chest pain)   \n15                   โรคติดเชื้อราที่เล็บ(Tinea unguium)   \n17     ตับอักเสบแบบปฏิกิริยาไม่จำเพาะ(Nonspecific rea...   \n18     ความผิดปกติที่พบจากการวินิจฉัยทางรังสีของเต้าน...   \n...                                                  ...   \n11978  การแพลงและเคล็ดของข้อของนิ้วหัวแม่มือและนิ้วมื...   \n11981  แผลเปิดที่หลายบริเวณ ไม่ระบุรายละเอียด(Multipl...   \n11983  ทอนซิลอักเสบเฉียบพลัน ไม่ระบุรายละเอียด(Acute ...   \n11989  การเคลื่อน แพลง และเคล็ดของข้อและเอ็นที่ระดับข...   \n11991    ไข้อื่นที่มีลักษณะจำเพาะ(Other specified fever)   \n\n                                                    Plan  \\\n1                                                    NaN   \n9                                                    NaN   \n15                                                   NaN   \n17                                                advice   \n18                    USG guided CNB at  L8-9  BIRADS 4a   \n...                                                  ...   \n11978  pain control \\r\\nrest \\r\\nadvice for revisit s...   \n11981  USG FAST Bedside: -ve\\r\\nTT booster 1 dose\\r\\n...   \n11983                            Admit for IV antibiotic   \n11989  - Film: no Fx >> ankle spraing Gr.2\\r\\n- on sh...   \n11991                          Swab + Admit IV hydration   \n\n                                                     Inv  \\\n1      CBC, UA (Urine Analysis), FBS, BUN, Creatinine...   \n9                                      U/S Upper Abdomen   \n15                                AST (SGOT), ALT (SGPT)   \n17     AST (SGOT), ALT (SGPT) AST (SGOT), [50], ALT (...   \n18                        U/S General Breast (Both Side)   \n...                                                  ...   \n11978                      HAND / PA,LAT,Oblique (Right)   \n11981  CHEST / PA Upright, SHOULDER / AP, Transcapula...   \n11983                             Covid Ag/Influenza A/B   \n11989  Ankle / AP, LAT, Mortise (Left): not see fracture   \n11991  Covid Ag/ Influenza A/B /RSV / Adenovirus/HMPV...   \n\n                                                  PEtext  \\\n1                                                    NaN   \n9                                                    NaN   \n15                                                   NaN   \n17     ตรวจร่างกาย = ปกติ\\r\\nPE : GA good consciousne...   \n18     both breast ; cannot palpated mass\\r\\n...\\r\\nu...   \n...                                                  ...   \n11978  tender on volar side at prox phalanx and at MC...   \n11981  Primary survey:\\r\\nA : can talk, not tender at...   \n11983  Alert, febrile, no dyspnea, look fatique\\r\\nHE...   \n11989  ? affected part: Lt ankle\\r\\n- swelling and te...   \n11991  Alert, febrile, no dyspnea, look fatique\\r\\nHE...   \n\n                                                   ICD10 PhyDtrCod  \\\n1      [Z00] General examination and investigation of...  DRF0235    \n9                               [R07.3] Other chest pain  DRF1227    \n15                                 [B35.1] Tinea unguium  DRF0097    \n17                [K75.2] Nonspecific reactive hepatitis  DRF1123    \n18     [R92] Abnormal findings on diagnostic imaging ...  DRP0306    \n...                                                  ...       ...   \n11978             [S63.6] Sprain and strain of finger(s)  DRP1297    \n11981          [T01.9] Multiple open wounds, unspecified  DRF1222    \n11983             [J03.9] Acute tonsillitis, unspecified  DRF1222    \n11989  [S93] Dislocation, sprain and strain of joints...  DRF1222    \n11991            [J12.3] Human metapneumovirus pneumonia  DRF1222    \n\n                            docname  \n1      พญ. ณภัทร เทพหัสดิน ณ อยุธยา  \n9             นพ. ณัฐพงศ์ เพชรอักษร  \n15       พญ. ขวัญเสด็จ วังศิริไพศาล  \n17              พญ. เปรมกมล อินไชยา  \n18     ผศ.นพ ศุภวัฒน์ เลาหวิริยะกมล  \n...                             ...  \n11978      ผศ.นพ วิชญ์ โอฬาพิริยกุล  \n11981            นพ. ศุภกร เทพบำรุง  \n11983            นพ. ศุภกร เทพบำรุง  \n11989            นพ. ศุภกร เทพบำรุง  \n11991            นพ. ศุภกร เทพบำรุง  \n\n[4503 rows x 12 columns]",
            "text/html": "<div>\n<style scoped>\n    .dataframe tbody tr th:only-of-type {\n        vertical-align: middle;\n    }\n\n    .dataframe tbody tr th {\n        vertical-align: top;\n    }\n\n    .dataframe thead th {\n        text-align: right;\n    }\n</style>\n<table border=\"1\" class=\"dataframe\">\n  <thead>\n    <tr style=\"text-align: right;\">\n      <th></th>\n      <th>ID</th>\n      <th>OcmPatTyp</th>\n      <th>NurseStation</th>\n      <th>CC</th>\n      <th>Pi</th>\n      <th>Diag</th>\n      <th>Plan</th>\n      <th>Inv</th>\n      <th>PEtext</th>\n      <th>ICD10</th>\n      <th>PhyDtrCod</th>\n      <th>docname</th>\n    </tr>\n  </thead>\n  <tbody>\n    <tr>\n      <th>1</th>\n      <td>886211</td>\n      <td>O</td>\n      <td>CheckUp Center ตรวจสุขภาพ</td>\n      <td>ตรวจสุขภาพบริษัท</td>\n      <td>NaN</td>\n      <td>การตรวจทั่วไปและสืบค้นโรคในบุคคลที่ไม่มีอาการผ...</td>\n      <td>NaN</td>\n      <td>CBC, UA (Urine Analysis), FBS, BUN, Creatinine...</td>\n      <td>NaN</td>\n      <td>[Z00] General examination and investigation of...</td>\n      <td>DRF0235</td>\n      <td>พญ. ณภัทร เทพหัสดิน ณ อยุธยา</td>\n    </tr>\n    <tr>\n      <th>9</th>\n      <td>905343</td>\n      <td>O</td>\n      <td>CDC ห้องหัวใจ</td>\n      <td>นัดติดตามอาการ</td>\n      <td>66YOM\\r\\nHT on losartan 50 mg/d, DLP on Rx\\r\\n...</td>\n      <td>เจ็บหน้าอกแบบอื่น(Other chest pain)</td>\n      <td>NaN</td>\n      <td>U/S Upper Abdomen</td>\n      <td>NaN</td>\n      <td>[R07.3] Other chest pain</td>\n      <td>DRF1227</td>\n      <td>นพ. ณัฐพงศ์ เพชรอักษร</td>\n    </tr>\n    <tr>\n      <th>15</th>\n      <td>990233</td>\n      <td>O</td>\n      <td>SKIN ห้องผิวหนัง</td>\n      <td>มีเชื้อราที่นิ้วเท้าขวา</td>\n      <td>เล็บงอกกว่าเดิมเล็กน้อย ยังไม่ถึงปลายเล็บด้านข...</td>\n      <td>โรคติดเชื้อราที่เล็บ(Tinea unguium)</td>\n      <td>NaN</td>\n      <td>AST (SGOT), ALT (SGPT)</td>\n      <td>NaN</td>\n      <td>[B35.1] Tinea unguium</td>\n      <td>DRF0097</td>\n      <td>พญ. ขวัญเสด็จ วังศิริไพศาล</td>\n    </tr>\n    <tr>\n      <th>17</th>\n      <td>1003307</td>\n      <td>O</td>\n      <td>CheckUp Center ตรวจสุขภาพ</td>\n      <td>นัดติดเรื่องตับ</td>\n      <td>OPD 800/day\\r\\nWt 125--121.2\\r\\nAST 50--35\\r\\n...</td>\n      <td>ตับอักเสบแบบปฏิกิริยาไม่จำเพาะ(Nonspecific rea...</td>\n      <td>advice</td>\n      <td>AST (SGOT), ALT (SGPT) AST (SGOT), [50], ALT (...</td>\n      <td>ตรวจร่างกาย = ปกติ\\r\\nPE : GA good consciousne...</td>\n      <td>[K75.2] Nonspecific reactive hepatitis</td>\n      <td>DRF1123</td>\n      <td>พญ. เปรมกมล อินไชยา</td>\n    </tr>\n    <tr>\n      <th>18</th>\n      <td>1004193</td>\n      <td>O</td>\n      <td>OPD ทั่วไป</td>\n      <td>นัดติดตามอาการ</td>\n      <td>bilateral breast mass\\r\\nprevious excision at ...</td>\n      <td>ความผิดปกติที่พบจากการวินิจฉัยทางรังสีของเต้าน...</td>\n      <td>USG guided CNB at  L8-9  BIRADS 4a</td>\n      <td>U/S General Breast (Both Side)</td>\n      <td>both breast ; cannot palpated mass\\r\\n...\\r\\nu...</td>\n      <td>[R92] Abnormal findings on diagnostic imaging ...</td>\n      <td>DRP0306</td>\n      <td>ผศ.นพ ศุภวัฒน์ เลาหวิริยะกมล</td>\n    </tr>\n    <tr>\n      <th>...</th>\n      <td>...</td>\n      <td>...</td>\n      <td>...</td>\n      <td>...</td>\n      <td>...</td>\n      <td>...</td>\n      <td>...</td>\n      <td>...</td>\n      <td>...</td>\n      <td>...</td>\n      <td>...</td>\n      <td>...</td>\n    </tr>\n    <tr>\n      <th>11978</th>\n      <td>1146334</td>\n      <td>O</td>\n      <td>Ortho ศัลยกรรมกระดูกและข้อ</td>\n      <td>ล้มปวดนิ้วกลางมือขวา</td>\n      <td>3rd digit pain 18.00  31/12/67\\r\\nfalling down...</td>\n      <td>การแพลงและเคล็ดของข้อของนิ้วหัวแม่มือและนิ้วมื...</td>\n      <td>pain control \\r\\nrest \\r\\nadvice for revisit s...</td>\n      <td>HAND / PA,LAT,Oblique (Right)</td>\n      <td>tender on volar side at prox phalanx and at MC...</td>\n      <td>[S63.6] Sprain and strain of finger(s)</td>\n      <td>DRP1297</td>\n      <td>ผศ.นพ วิชญ์ โอฬาพิริยกุล</td>\n    </tr>\n    <tr>\n      <th>11981</th>\n      <td>1146340</td>\n      <td>O</td>\n      <td>ER ห้องฉุกเฉิน</td>\n      <td>MCA มีแผลถลอก</td>\n      <td>19.00น. MCA ล้ม มีแผลถลอกตามตัว ศีรษะกระแทกโคร...</td>\n      <td>แผลเปิดที่หลายบริเวณ ไม่ระบุรายละเอียด(Multipl...</td>\n      <td>USG FAST Bedside: -ve\\r\\nTT booster 1 dose\\r\\n...</td>\n      <td>CHEST / PA Upright, SHOULDER / AP, Transcapula...</td>\n      <td>Primary survey:\\r\\nA : can talk, not tender at...</td>\n      <td>[T01.9] Multiple open wounds, unspecified</td>\n      <td>DRF1222</td>\n      <td>นพ. ศุภกร เทพบำรุง</td>\n    </tr>\n    <tr>\n      <th>11983</th>\n      <td>1146343</td>\n      <td>I</td>\n      <td>ER ห้องฉุกเฉิน</td>\n      <td>ไข้</td>\n      <td>เมื่อวานไข้ต่ำๆ วันนี้มีไข้สูง ไอแห้งๆเล็กน้อย...</td>\n      <td>ทอนซิลอักเสบเฉียบพลัน ไม่ระบุรายละเอียด(Acute ...</td>\n      <td>Admit for IV antibiotic</td>\n      <td>Covid Ag/Influenza A/B</td>\n      <td>Alert, febrile, no dyspnea, look fatique\\r\\nHE...</td>\n      <td>[J03.9] Acute tonsillitis, unspecified</td>\n      <td>DRF1222</td>\n      <td>นพ. ศุภกร เทพบำรุง</td>\n    </tr>\n    <tr>\n      <th>11989</th>\n      <td>1146357</td>\n      <td>O</td>\n      <td>ER ห้องฉุกเฉิน</td>\n      <td>ล้ม ปวดเท้าซ้าย</td>\n      <td>ลื่นล้ม ข้อเท้าพลิก ปวดเท้าซ้าย เดินลงน้ำหนักไ...</td>\n      <td>การเคลื่อน แพลง และเคล็ดของข้อและเอ็นที่ระดับข...</td>\n      <td>- Film: no Fx &gt;&gt; ankle spraing Gr.2\\r\\n- on sh...</td>\n      <td>Ankle / AP, LAT, Mortise (Left): not see fracture</td>\n      <td>? affected part: Lt ankle\\r\\n- swelling and te...</td>\n      <td>[S93] Dislocation, sprain and strain of joints...</td>\n      <td>DRF1222</td>\n      <td>นพ. ศุภกร เทพบำรุง</td>\n    </tr>\n    <tr>\n      <th>11991</th>\n      <td>1146361</td>\n      <td>I</td>\n      <td>ER ห้องฉุกเฉิน</td>\n      <td>ไข้</td>\n      <td>ไข้ 2 วัน ไอเสมหะ ไม่เจ็บคอ มีน้ำมูก กินยา (Pa...</td>\n      <td>ไข้อื่นที่มีลักษณะจำเพาะ(Other specified fever)</td>\n      <td>Swab + Admit IV hydration</td>\n      <td>Covid Ag/ Influenza A/B /RSV / Adenovirus/HMPV...</td>\n      <td>Alert, febrile, no dyspnea, look fatique\\r\\nHE...</td>\n      <td>[J12.3] Human metapneumovirus pneumonia</td>\n      <td>DRF1222</td>\n      <td>นพ. ศุภกร เทพบำรุง</td>\n    </tr>\n  </tbody>\n</table>\n<p>4503 rows × 12 columns</p>\n</div>"
          },
          "metadata": {}
        }
      ],
      "execution_count": null
    },
    {
      "cell_type": "code",
      "source": [
        "# Selecting rows where column1 is null but column2 is not null\n",
        "filtered_df = data1[data1['Diag'].isna() & data1['ICD10'].notna()]\n",
        "# diag can imputation by icdo10\n",
        "filtered_df"
      ],
      "metadata": {
        "id": "9wX5cBR3cn7I",
        "outputId": "13304f72-4bc3-4a33-978d-2271507f4d1a",
        "trusted": true,
        "execution": {
          "iopub.status.busy": "2025-03-14T07:13:04.212716Z",
          "iopub.execute_input": "2025-03-14T07:13:04.212942Z",
          "iopub.status.idle": "2025-03-14T07:13:04.228755Z",
          "shell.execute_reply.started": "2025-03-14T07:13:04.212923Z",
          "shell.execute_reply": "2025-03-14T07:13:04.227931Z"
        }
      },
      "outputs": [
        {
          "execution_count": 78,
          "output_type": "execute_result",
          "data": {
            "text/plain": "            ID OcmPatTyp                          NurseStation  \\\n14      989635         O             CheckUp Center ตรวจสุขภาพ   \n21     1009139         O                            OPD ทั่วไป   \n27     1014346         O                            OPD ทั่วไป   \n35     1041111         O                            DM เบาหวาน   \n39     1042814         O  Neuro Surg ศัลยกรรมระบบประสาทและสมอง   \n...        ...       ...                                   ...   \n11915  1146208         O                        ER ห้องฉุกเฉิน   \n11944  1146271         O                            OPD ทั่วไป   \n11949  1146282         O                            OPD ทั่วไป   \n11950  1146283         O                            OPD ทั่วไป   \n11951  1146284         O                            OPD ทั่วไป   \n\n                                                 CC  \\\n14     ตรวจโครงสร้างเท้า F/U หลังใส่รองเท้าครบ 1 ปี   \n21                                       DM HT DLP    \n27                                      ติดตามอาการ   \n35                                   นัดติดตามอาการ   \n39                                   นัดติดตามอาการ   \n...                                             ...   \n11915                  ปวดตาซ้าย โดนของแข็งดีดใส่ตา   \n11944                           ไข้ ปวดเมื่อยตามตัว   \n11949                 น้ำมูก เจ็บคอ หูอื้อทั้ง2ข้าง   \n11950                                 ไอ น้ำมูก จาม   \n11951                             ไอ เจ็บคอ น้ำมูก    \n\n                                                      Pi Diag  \\\n14                                                   NaN  NaN   \n21     IOL BE \\r\\nmild PCO \\r\\nDM DR screening \\r\\ndi...  NaN   \n27     ปวดแสบท้องลิ้นปี่  เวลากินของเผ็ด กินยาเภสัชไม...  NaN   \n35     TSH1.601-->2.451-20w->2.476-20w->1.132-->2.129...  NaN   \n39     F/U case ICH , conservative treatment \\r\\nclin...  NaN   \n...                                                  ...  ...   \n11915                       ปวดตาซ้าย โดนของแข็งดีดใส่ตา  NaN   \n11944  3-4 วัน ไข้ ปวดเมื่อยตัว ปวดศีรษะ เป็นมากช่วงก...  NaN   \n11949  4 วัน น้ำมูก เจ็บคอ หูอื้อทั้ง2ข้าง ไม่หอบเหนื...  NaN   \n11950  1 วัน ไอ แห้งๆ น้ำมูก จาม ระคายคอ ไม่ไข้ มีเมื...  NaN   \n11951   ไข้ ไอ เจ็บคอ น้ำมูก ไม่หอบเหนื่อย \\r\\nud HT DLP  NaN   \n\n                                    Plan                     Inv  \\\n14                                   NaN                     NaN   \n21                                   NaN                     NaN   \n27                                   NaN                     NaN   \n35                                   NaN       TSH TSH, [1.742]    \n39                                   NaN                     NaN   \n...                                  ...                     ...   \n11915                                NaN                     NaN   \n11944          CBC\\r\\nadvice, supportive                     CBC   \n11949                 supportive, advice                     NaN   \n11950                 supportive, advice                     NaN   \n11951  advice swab\\r\\nsupportive, advice  Covid Ag/Influenza A/B   \n\n                                                  PEtext  \\\n14                                                   NaN   \n21                                                   NaN   \n27                                                   NaN   \n35                                                   NaN   \n39     GA: good consciousness\\r\\nN/S E4V5M6 pupil 3 m...   \n...                                                  ...   \n11915  Lt eye: marked conjunctival injection at nasal...   \n11944  mild injected pharynx, tonsil not injected, no...   \n11949  injected pharynx, tonsil not injected, no exud...   \n11950  injected pharynx, tonsil not injected, no exud...   \n11951  injected pharynx, tonsil not injected, no exud...   \n\n                                                   ICD10 PhyDtrCod  \\\n14     [Z00] General examination and investigation of...  900037     \n21                                    [9999] Unspecified  DRP0323    \n27     [B24] Unspecified human immunodeficiency virus...  DRF0919    \n35     [E03.6] Hypothyroidism from Hashimoto`s thyroi...  DRF0165    \n39                                    [9999] Unspecified  DRP0921    \n...                                                  ...       ...   \n11915  [Z76] Persons encountering health services in ...  DRF1222    \n11944                               [A97.9] Dengue fever  DRF1164    \n11949                  [U07.1] COVID-19 Virus Identified  DRF1164    \n11950                  [U07.1] COVID-19 Virus Identified  DRF1164    \n11951                  [U07.1] COVID-19 Virus Identified  DRF1164    \n\n                           docname  \n14          กอ. สุวิชา เตชะภูวภัทร  \n21          รศ.นพ. วีระวัฒน์ คิดดี  \n27     พญ. ปาริฉัตร เหรียญสง่าวงศ์  \n35            นพ. วรวงษ์ เสตสุบรรณ  \n39       ผศ.ดร.นพ ธาราณ์ ตันธนาธิป  \n...                            ...  \n11915           นพ. ศุภกร เทพบำรุง  \n11944  นพ. สุรฤทธิ์ เนาว์รุ่งโรจน์  \n11949  นพ. สุรฤทธิ์ เนาว์รุ่งโรจน์  \n11950  นพ. สุรฤทธิ์ เนาว์รุ่งโรจน์  \n11951  นพ. สุรฤทธิ์ เนาว์รุ่งโรจน์  \n\n[370 rows x 12 columns]",
            "text/html": "<div>\n<style scoped>\n    .dataframe tbody tr th:only-of-type {\n        vertical-align: middle;\n    }\n\n    .dataframe tbody tr th {\n        vertical-align: top;\n    }\n\n    .dataframe thead th {\n        text-align: right;\n    }\n</style>\n<table border=\"1\" class=\"dataframe\">\n  <thead>\n    <tr style=\"text-align: right;\">\n      <th></th>\n      <th>ID</th>\n      <th>OcmPatTyp</th>\n      <th>NurseStation</th>\n      <th>CC</th>\n      <th>Pi</th>\n      <th>Diag</th>\n      <th>Plan</th>\n      <th>Inv</th>\n      <th>PEtext</th>\n      <th>ICD10</th>\n      <th>PhyDtrCod</th>\n      <th>docname</th>\n    </tr>\n  </thead>\n  <tbody>\n    <tr>\n      <th>14</th>\n      <td>989635</td>\n      <td>O</td>\n      <td>CheckUp Center ตรวจสุขภาพ</td>\n      <td>ตรวจโครงสร้างเท้า F/U หลังใส่รองเท้าครบ 1 ปี</td>\n      <td>NaN</td>\n      <td>NaN</td>\n      <td>NaN</td>\n      <td>NaN</td>\n      <td>NaN</td>\n      <td>[Z00] General examination and investigation of...</td>\n      <td>900037</td>\n      <td>กอ. สุวิชา เตชะภูวภัทร</td>\n    </tr>\n    <tr>\n      <th>21</th>\n      <td>1009139</td>\n      <td>O</td>\n      <td>OPD ทั่วไป</td>\n      <td>DM HT DLP</td>\n      <td>IOL BE \\r\\nmild PCO \\r\\nDM DR screening \\r\\ndi...</td>\n      <td>NaN</td>\n      <td>NaN</td>\n      <td>NaN</td>\n      <td>NaN</td>\n      <td>[9999] Unspecified</td>\n      <td>DRP0323</td>\n      <td>รศ.นพ. วีระวัฒน์ คิดดี</td>\n    </tr>\n    <tr>\n      <th>27</th>\n      <td>1014346</td>\n      <td>O</td>\n      <td>OPD ทั่วไป</td>\n      <td>ติดตามอาการ</td>\n      <td>ปวดแสบท้องลิ้นปี่  เวลากินของเผ็ด กินยาเภสัชไม...</td>\n      <td>NaN</td>\n      <td>NaN</td>\n      <td>NaN</td>\n      <td>NaN</td>\n      <td>[B24] Unspecified human immunodeficiency virus...</td>\n      <td>DRF0919</td>\n      <td>พญ. ปาริฉัตร เหรียญสง่าวงศ์</td>\n    </tr>\n    <tr>\n      <th>35</th>\n      <td>1041111</td>\n      <td>O</td>\n      <td>DM เบาหวาน</td>\n      <td>นัดติดตามอาการ</td>\n      <td>TSH1.601--&gt;2.451-20w-&gt;2.476-20w-&gt;1.132--&gt;2.129...</td>\n      <td>NaN</td>\n      <td>NaN</td>\n      <td>TSH TSH, [1.742]</td>\n      <td>NaN</td>\n      <td>[E03.6] Hypothyroidism from Hashimoto`s thyroi...</td>\n      <td>DRF0165</td>\n      <td>นพ. วรวงษ์ เสตสุบรรณ</td>\n    </tr>\n    <tr>\n      <th>39</th>\n      <td>1042814</td>\n      <td>O</td>\n      <td>Neuro Surg ศัลยกรรมระบบประสาทและสมอง</td>\n      <td>นัดติดตามอาการ</td>\n      <td>F/U case ICH , conservative treatment \\r\\nclin...</td>\n      <td>NaN</td>\n      <td>NaN</td>\n      <td>NaN</td>\n      <td>GA: good consciousness\\r\\nN/S E4V5M6 pupil 3 m...</td>\n      <td>[9999] Unspecified</td>\n      <td>DRP0921</td>\n      <td>ผศ.ดร.นพ ธาราณ์ ตันธนาธิป</td>\n    </tr>\n    <tr>\n      <th>...</th>\n      <td>...</td>\n      <td>...</td>\n      <td>...</td>\n      <td>...</td>\n      <td>...</td>\n      <td>...</td>\n      <td>...</td>\n      <td>...</td>\n      <td>...</td>\n      <td>...</td>\n      <td>...</td>\n      <td>...</td>\n    </tr>\n    <tr>\n      <th>11915</th>\n      <td>1146208</td>\n      <td>O</td>\n      <td>ER ห้องฉุกเฉิน</td>\n      <td>ปวดตาซ้าย โดนของแข็งดีดใส่ตา</td>\n      <td>ปวดตาซ้าย โดนของแข็งดีดใส่ตา</td>\n      <td>NaN</td>\n      <td>NaN</td>\n      <td>NaN</td>\n      <td>Lt eye: marked conjunctival injection at nasal...</td>\n      <td>[Z76] Persons encountering health services in ...</td>\n      <td>DRF1222</td>\n      <td>นพ. ศุภกร เทพบำรุง</td>\n    </tr>\n    <tr>\n      <th>11944</th>\n      <td>1146271</td>\n      <td>O</td>\n      <td>OPD ทั่วไป</td>\n      <td>ไข้ ปวดเมื่อยตามตัว</td>\n      <td>3-4 วัน ไข้ ปวดเมื่อยตัว ปวดศีรษะ เป็นมากช่วงก...</td>\n      <td>NaN</td>\n      <td>CBC\\r\\nadvice, supportive</td>\n      <td>CBC</td>\n      <td>mild injected pharynx, tonsil not injected, no...</td>\n      <td>[A97.9] Dengue fever</td>\n      <td>DRF1164</td>\n      <td>นพ. สุรฤทธิ์ เนาว์รุ่งโรจน์</td>\n    </tr>\n    <tr>\n      <th>11949</th>\n      <td>1146282</td>\n      <td>O</td>\n      <td>OPD ทั่วไป</td>\n      <td>น้ำมูก เจ็บคอ หูอื้อทั้ง2ข้าง</td>\n      <td>4 วัน น้ำมูก เจ็บคอ หูอื้อทั้ง2ข้าง ไม่หอบเหนื...</td>\n      <td>NaN</td>\n      <td>supportive, advice</td>\n      <td>NaN</td>\n      <td>injected pharynx, tonsil not injected, no exud...</td>\n      <td>[U07.1] COVID-19 Virus Identified</td>\n      <td>DRF1164</td>\n      <td>นพ. สุรฤทธิ์ เนาว์รุ่งโรจน์</td>\n    </tr>\n    <tr>\n      <th>11950</th>\n      <td>1146283</td>\n      <td>O</td>\n      <td>OPD ทั่วไป</td>\n      <td>ไอ น้ำมูก จาม</td>\n      <td>1 วัน ไอ แห้งๆ น้ำมูก จาม ระคายคอ ไม่ไข้ มีเมื...</td>\n      <td>NaN</td>\n      <td>supportive, advice</td>\n      <td>NaN</td>\n      <td>injected pharynx, tonsil not injected, no exud...</td>\n      <td>[U07.1] COVID-19 Virus Identified</td>\n      <td>DRF1164</td>\n      <td>นพ. สุรฤทธิ์ เนาว์รุ่งโรจน์</td>\n    </tr>\n    <tr>\n      <th>11951</th>\n      <td>1146284</td>\n      <td>O</td>\n      <td>OPD ทั่วไป</td>\n      <td>ไอ เจ็บคอ น้ำมูก</td>\n      <td>ไข้ ไอ เจ็บคอ น้ำมูก ไม่หอบเหนื่อย \\r\\nud HT DLP</td>\n      <td>NaN</td>\n      <td>advice swab\\r\\nsupportive, advice</td>\n      <td>Covid Ag/Influenza A/B</td>\n      <td>injected pharynx, tonsil not injected, no exud...</td>\n      <td>[U07.1] COVID-19 Virus Identified</td>\n      <td>DRF1164</td>\n      <td>นพ. สุรฤทธิ์ เนาว์รุ่งโรจน์</td>\n    </tr>\n  </tbody>\n</table>\n<p>370 rows × 12 columns</p>\n</div>"
          },
          "metadata": {}
        }
      ],
      "execution_count": null
    },
    {
      "cell_type": "code",
      "source": [
        "filtered_df = data1[data1['NurseStation'] == \"ER ห้องฉุกเฉิน\"]\n",
        "filtered_df\n",
        "# ส่วนใหญ่ er กับ PED ห้องเด็ก จะมี plan กับ petext"
      ],
      "metadata": {
        "id": "C1tyc7uXh8k8",
        "outputId": "ce947aa2-6820-4421-ad6c-8c8cf06fd87e",
        "trusted": true,
        "execution": {
          "iopub.status.busy": "2025-03-14T07:13:04.229699Z",
          "iopub.execute_input": "2025-03-14T07:13:04.230021Z",
          "iopub.status.idle": "2025-03-14T07:13:04.250858Z",
          "shell.execute_reply.started": "2025-03-14T07:13:04.229971Z",
          "shell.execute_reply": "2025-03-14T07:13:04.250216Z"
        }
      },
      "outputs": [
        {
          "execution_count": 79,
          "output_type": "execute_result",
          "data": {
            "text/plain": "            ID OcmPatTyp    NurseStation                          CC  \\\n275    1107610         I  ER ห้องฉุกเฉิน                 summary d/c   \n377    1115812         O  ER ห้องฉุกเฉิน                       ดูแผล   \n604    1123712         O  ER ห้องฉุกเฉิน                       ดูแผล   \n606    1123777         O  ER ห้องฉุกเฉิน                      ตัดไหม   \n608    1123820         O  ER ห้องฉุกเฉิน                       ดูแผล   \n...        ...       ...             ...                         ...   \n11987  1146347         O  ER ห้องฉุกเฉิน                   ไอ เจ็บคอ   \n11988  1146352         O  ER ห้องฉุกเฉิน  ลื่นล้ม ปวดเข่า2ข้าง มีแผล   \n11989  1146357         O  ER ห้องฉุกเฉิน             ล้ม ปวดเท้าซ้าย   \n11990  1146358         O  ER ห้องฉุกเฉิน             ผื่นแดงที่ขาขวา   \n11991  1146361         I  ER ห้องฉุกเฉิน                        ไข้    \n\n                                                      Pi  \\\n275    Case 74 YOF\\r\\nU/D  \\r\\n@Undifferentiated conn...   \n377                  anal abscess post i and d \\r\\nแผลดี   \n604    good granualtion post partial nail extraction\\...   \n606                                       มาตามนัดตัดไหม   \n608      ก้อนเริ่มบวมแดงที่ท้อง S/P I and D 24/11/67\\r\\n   \n...                                                  ...   \n11987   2 วัน ไข้ ไอแห้งๆ ไม่มีน้ำมูก ไม่เหนื่อย เจ็บคอ    \n11988  15.00 น ลื่นล้มมีแผลถลอกที่ข้อเข่าทั้งสองข้าง ...   \n11989  ลื่นล้ม ข้อเท้าพลิก ปวดเท้าซ้าย เดินลงน้ำหนักไ...   \n11990  3-4 วัน เป็นผื่นแดงที่ขาขวา เกาแล้วเป็นแผล วัน...   \n11991  ไข้ 2 วัน ไอเสมหะ ไม่เจ็บคอ มีน้ำมูก กินยา (Pa...   \n\n                                                    Diag  \\\n275    ลูปัส อีริทิมาโตซัส ทั่วร่าง ไม่ระบุรายละเอียด...   \n377    การดูแลการตกแต่งและเย็บแผล(Attention to surgic...   \n604    การฟกช้ำที่นิ้วเท้าโดยบาดเจ็บถึงเล็บ(Contusion...   \n606    การติดตามดูแลอื่นทางศัลยกรรม(Other surgical fo...   \n608                    เซลล์เนื้อเยื่ออักเสบ(Cellulitis)   \n...                                                  ...   \n11987            คอหอยอักเสบเฉียบพลัน(Acute pharyngitis)   \n11988  การถลอกที่เข่าและขาท่อนปลาย(Abrasion of knee a...   \n11989  การเคลื่อน แพลง และเคล็ดของข้อและเอ็นที่ระดับข...   \n11990  เซลล์เนื้อเยื่ออักเสบที่ส่วนอื่นที่แขนขา(Cellu...   \n11991    ไข้อื่นที่มีลักษณะจำเพาะ(Other specified fever)   \n\n                                                    Plan  \\\n275                                                  NaN   \n377                                                แนะนำ   \n604    - Advice\\r\\n- ทำแผลวันละครั้งด้ววตัวเอง chlora...   \n606                              แผลแห้งดี ตัดไหม no f/u   \n608         - dressing q 2 day with blugel\\r\\n- f/u 1 wk   \n...                                                  ...   \n11987                                                med   \n11988  =dressing wound od >> f/U 2/1/68 13.00 น \\r\\n=...   \n11989  - Film: no Fx >> ankle spraing Gr.2\\r\\n- on sh...   \n11990      Dressing wound, HM ATBx, F/U OPD Sx. พรุ่งนี้   \n11991                          Swab + Admit IV hydration   \n\n                                                     Inv  \\\n275    UA (Urine Analysis), Covid Ag/Influenza A/B, H...   \n377                                                  NaN   \n604                                                  NaN   \n606                                                  NaN   \n608                                                  NaN   \n...                                                  ...   \n11987                                                NaN   \n11988                                                NaN   \n11989  Ankle / AP, LAT, Mortise (Left): not see fracture   \n11990                                                NaN   \n11991  Covid Ag/ Influenza A/B /RSV / Adenovirus/HMPV...   \n\n                                                  PEtext  \\\n275                                                  NaN   \n377                                         healed wound   \n604                 no sign inflammation\\r\\ngood healing   \n606     laceration wound 1.5 cm at DIP joint of Lt mi...   \n608                            good granualtion 1*0.5 cm   \n...                                                  ...   \n11987  good concious\\r\\nHEENT : not pale , no Jx , ph...   \n11988  Trauma PE\\r\\nHead / Face: no wound\\r\\nNeck: no...   \n11989  ? affected part: Lt ankle\\r\\n- swelling and te...   \n11990  ? affected part: Rt thigh\\r\\n- Skin redness, s...   \n11991  Alert, febrile, no dyspnea, look fatique\\r\\nHE...   \n\n                                                   ICD10 PhyDtrCod  \\\n275                           [R50.9] Fever, unspecified  DRF1223    \n377    [Z48.0] Attention to surgical dressings and su...  DRP0306    \n604      [S90.2] Contusion of toe(s) with damage to nail  DRP1256    \n606                  [Z48] Other surgical follow-up care  DRF1361    \n608                                     [L03] Cellulitis  DRP1256    \n...                                                  ...       ...   \n11987                            [J02] Acute pharyngitis  DRF0944    \n11988             [S80.80] Abrasion of knee and leg (TM)  DRF0944    \n11989  [S93] Dislocation, sprain and strain of joints...  DRF1222    \n11990          [L03.1] Cellulitis of other parts of limb  DRF1222    \n11991            [J12.3] Human metapneumovirus pneumonia  DRF1222    \n\n                              docname  \n275        พญ. นันทมนต์ วงศ์หิรัญเดชา  \n377      ผศ.นพ ศุภวัฒน์ เลาหวิริยะกมล  \n604              พญ. นพวรรณ ฐิติวรการ  \n606               นพ. เกษม จงวิไลเกษม  \n608              พญ. นพวรรณ ฐิติวรการ  \n...                               ...  \n11987  นพ. เพียรชัย ฉัตรพิรุฬห์พันธุ์  \n11988  นพ. เพียรชัย ฉัตรพิรุฬห์พันธุ์  \n11989              นพ. ศุภกร เทพบำรุง  \n11990              นพ. ศุภกร เทพบำรุง  \n11991              นพ. ศุภกร เทพบำรุง  \n\n[2217 rows x 12 columns]",
            "text/html": "<div>\n<style scoped>\n    .dataframe tbody tr th:only-of-type {\n        vertical-align: middle;\n    }\n\n    .dataframe tbody tr th {\n        vertical-align: top;\n    }\n\n    .dataframe thead th {\n        text-align: right;\n    }\n</style>\n<table border=\"1\" class=\"dataframe\">\n  <thead>\n    <tr style=\"text-align: right;\">\n      <th></th>\n      <th>ID</th>\n      <th>OcmPatTyp</th>\n      <th>NurseStation</th>\n      <th>CC</th>\n      <th>Pi</th>\n      <th>Diag</th>\n      <th>Plan</th>\n      <th>Inv</th>\n      <th>PEtext</th>\n      <th>ICD10</th>\n      <th>PhyDtrCod</th>\n      <th>docname</th>\n    </tr>\n  </thead>\n  <tbody>\n    <tr>\n      <th>275</th>\n      <td>1107610</td>\n      <td>I</td>\n      <td>ER ห้องฉุกเฉิน</td>\n      <td>summary d/c</td>\n      <td>Case 74 YOF\\r\\nU/D  \\r\\n@Undifferentiated conn...</td>\n      <td>ลูปัส อีริทิมาโตซัส ทั่วร่าง ไม่ระบุรายละเอียด...</td>\n      <td>NaN</td>\n      <td>UA (Urine Analysis), Covid Ag/Influenza A/B, H...</td>\n      <td>NaN</td>\n      <td>[R50.9] Fever, unspecified</td>\n      <td>DRF1223</td>\n      <td>พญ. นันทมนต์ วงศ์หิรัญเดชา</td>\n    </tr>\n    <tr>\n      <th>377</th>\n      <td>1115812</td>\n      <td>O</td>\n      <td>ER ห้องฉุกเฉิน</td>\n      <td>ดูแผล</td>\n      <td>anal abscess post i and d \\r\\nแผลดี</td>\n      <td>การดูแลการตกแต่งและเย็บแผล(Attention to surgic...</td>\n      <td>แนะนำ</td>\n      <td>NaN</td>\n      <td>healed wound</td>\n      <td>[Z48.0] Attention to surgical dressings and su...</td>\n      <td>DRP0306</td>\n      <td>ผศ.นพ ศุภวัฒน์ เลาหวิริยะกมล</td>\n    </tr>\n    <tr>\n      <th>604</th>\n      <td>1123712</td>\n      <td>O</td>\n      <td>ER ห้องฉุกเฉิน</td>\n      <td>ดูแผล</td>\n      <td>good granualtion post partial nail extraction\\...</td>\n      <td>การฟกช้ำที่นิ้วเท้าโดยบาดเจ็บถึงเล็บ(Contusion...</td>\n      <td>- Advice\\r\\n- ทำแผลวันละครั้งด้ววตัวเอง chlora...</td>\n      <td>NaN</td>\n      <td>no sign inflammation\\r\\ngood healing</td>\n      <td>[S90.2] Contusion of toe(s) with damage to nail</td>\n      <td>DRP1256</td>\n      <td>พญ. นพวรรณ ฐิติวรการ</td>\n    </tr>\n    <tr>\n      <th>606</th>\n      <td>1123777</td>\n      <td>O</td>\n      <td>ER ห้องฉุกเฉิน</td>\n      <td>ตัดไหม</td>\n      <td>มาตามนัดตัดไหม</td>\n      <td>การติดตามดูแลอื่นทางศัลยกรรม(Other surgical fo...</td>\n      <td>แผลแห้งดี ตัดไหม no f/u</td>\n      <td>NaN</td>\n      <td>laceration wound 1.5 cm at DIP joint of Lt mi...</td>\n      <td>[Z48] Other surgical follow-up care</td>\n      <td>DRF1361</td>\n      <td>นพ. เกษม จงวิไลเกษม</td>\n    </tr>\n    <tr>\n      <th>608</th>\n      <td>1123820</td>\n      <td>O</td>\n      <td>ER ห้องฉุกเฉิน</td>\n      <td>ดูแผล</td>\n      <td>ก้อนเริ่มบวมแดงที่ท้อง S/P I and D 24/11/67\\r\\n</td>\n      <td>เซลล์เนื้อเยื่ออักเสบ(Cellulitis)</td>\n      <td>- dressing q 2 day with blugel\\r\\n- f/u 1 wk</td>\n      <td>NaN</td>\n      <td>good granualtion 1*0.5 cm</td>\n      <td>[L03] Cellulitis</td>\n      <td>DRP1256</td>\n      <td>พญ. นพวรรณ ฐิติวรการ</td>\n    </tr>\n    <tr>\n      <th>...</th>\n      <td>...</td>\n      <td>...</td>\n      <td>...</td>\n      <td>...</td>\n      <td>...</td>\n      <td>...</td>\n      <td>...</td>\n      <td>...</td>\n      <td>...</td>\n      <td>...</td>\n      <td>...</td>\n      <td>...</td>\n    </tr>\n    <tr>\n      <th>11987</th>\n      <td>1146347</td>\n      <td>O</td>\n      <td>ER ห้องฉุกเฉิน</td>\n      <td>ไอ เจ็บคอ</td>\n      <td>2 วัน ไข้ ไอแห้งๆ ไม่มีน้ำมูก ไม่เหนื่อย เจ็บคอ</td>\n      <td>คอหอยอักเสบเฉียบพลัน(Acute pharyngitis)</td>\n      <td>med</td>\n      <td>NaN</td>\n      <td>good concious\\r\\nHEENT : not pale , no Jx , ph...</td>\n      <td>[J02] Acute pharyngitis</td>\n      <td>DRF0944</td>\n      <td>นพ. เพียรชัย ฉัตรพิรุฬห์พันธุ์</td>\n    </tr>\n    <tr>\n      <th>11988</th>\n      <td>1146352</td>\n      <td>O</td>\n      <td>ER ห้องฉุกเฉิน</td>\n      <td>ลื่นล้ม ปวดเข่า2ข้าง มีแผล</td>\n      <td>15.00 น ลื่นล้มมีแผลถลอกที่ข้อเข่าทั้งสองข้าง ...</td>\n      <td>การถลอกที่เข่าและขาท่อนปลาย(Abrasion of knee a...</td>\n      <td>=dressing wound od &gt;&gt; f/U 2/1/68 13.00 น \\r\\n=...</td>\n      <td>NaN</td>\n      <td>Trauma PE\\r\\nHead / Face: no wound\\r\\nNeck: no...</td>\n      <td>[S80.80] Abrasion of knee and leg (TM)</td>\n      <td>DRF0944</td>\n      <td>นพ. เพียรชัย ฉัตรพิรุฬห์พันธุ์</td>\n    </tr>\n    <tr>\n      <th>11989</th>\n      <td>1146357</td>\n      <td>O</td>\n      <td>ER ห้องฉุกเฉิน</td>\n      <td>ล้ม ปวดเท้าซ้าย</td>\n      <td>ลื่นล้ม ข้อเท้าพลิก ปวดเท้าซ้าย เดินลงน้ำหนักไ...</td>\n      <td>การเคลื่อน แพลง และเคล็ดของข้อและเอ็นที่ระดับข...</td>\n      <td>- Film: no Fx &gt;&gt; ankle spraing Gr.2\\r\\n- on sh...</td>\n      <td>Ankle / AP, LAT, Mortise (Left): not see fracture</td>\n      <td>? affected part: Lt ankle\\r\\n- swelling and te...</td>\n      <td>[S93] Dislocation, sprain and strain of joints...</td>\n      <td>DRF1222</td>\n      <td>นพ. ศุภกร เทพบำรุง</td>\n    </tr>\n    <tr>\n      <th>11990</th>\n      <td>1146358</td>\n      <td>O</td>\n      <td>ER ห้องฉุกเฉิน</td>\n      <td>ผื่นแดงที่ขาขวา</td>\n      <td>3-4 วัน เป็นผื่นแดงที่ขาขวา เกาแล้วเป็นแผล วัน...</td>\n      <td>เซลล์เนื้อเยื่ออักเสบที่ส่วนอื่นที่แขนขา(Cellu...</td>\n      <td>Dressing wound, HM ATBx, F/U OPD Sx. พรุ่งนี้</td>\n      <td>NaN</td>\n      <td>? affected part: Rt thigh\\r\\n- Skin redness, s...</td>\n      <td>[L03.1] Cellulitis of other parts of limb</td>\n      <td>DRF1222</td>\n      <td>นพ. ศุภกร เทพบำรุง</td>\n    </tr>\n    <tr>\n      <th>11991</th>\n      <td>1146361</td>\n      <td>I</td>\n      <td>ER ห้องฉุกเฉิน</td>\n      <td>ไข้</td>\n      <td>ไข้ 2 วัน ไอเสมหะ ไม่เจ็บคอ มีน้ำมูก กินยา (Pa...</td>\n      <td>ไข้อื่นที่มีลักษณะจำเพาะ(Other specified fever)</td>\n      <td>Swab + Admit IV hydration</td>\n      <td>Covid Ag/ Influenza A/B /RSV / Adenovirus/HMPV...</td>\n      <td>Alert, febrile, no dyspnea, look fatique\\r\\nHE...</td>\n      <td>[J12.3] Human metapneumovirus pneumonia</td>\n      <td>DRF1222</td>\n      <td>นพ. ศุภกร เทพบำรุง</td>\n    </tr>\n  </tbody>\n</table>\n<p>2217 rows × 12 columns</p>\n</div>"
          },
          "metadata": {}
        }
      ],
      "execution_count": null
    },
    {
      "cell_type": "code",
      "source": [
        "# เช็ค unique และนับจำนวนแต่ละค่า\n",
        "unique_counts = data1['NurseStation'].value_counts()\n",
        "\n",
        "print(unique_counts)"
      ],
      "metadata": {
        "id": "K1b_6fNTjVWT",
        "outputId": "838d946a-326e-49f4-eec6-4b9077ab08d5",
        "trusted": true,
        "execution": {
          "iopub.status.busy": "2025-03-14T07:13:04.251744Z",
          "iopub.execute_input": "2025-03-14T07:13:04.252058Z",
          "iopub.status.idle": "2025-03-14T07:13:04.26552Z",
          "shell.execute_reply.started": "2025-03-14T07:13:04.25202Z",
          "shell.execute_reply": "2025-03-14T07:13:04.264576Z"
        }
      },
      "outputs": [
        {
          "name": "stdout",
          "text": "NurseStation\nOPD ทั่วไป                              2662\nER ห้องฉุกเฉิน                          2217\nCheckUp Center ตรวจสุขภาพ               2189\nPED ห้องเด็ก                            1846\nOrtho ศัลยกรรมกระดูกและข้อ              1100\nDM เบาหวาน                               386\nSKIN ห้องผิวหนัง                         357\nOBS สูตินรีเวช                           305\nNeuro Surg ศัลยกรรมระบบประสาทและสมอง     199\nCDC ห้องหัวใจ                            199\nESC ผ่าตัดผ่านกล้อง                      150\nDNT ห้องฟัน                              147\nMEC ส่องกล้องระบบทางเดินอาหารและตับ      134\nDRW (ห้องทำแผล)                           89\nHBOT Hyperbaric Oxygen Therapy             8\nTELEMED ปรึกษาแพทย์ออนไลน์                 1\nX-ray ห้องX-ray                            1\nPT กายภาพ                                  1\nHD ห้องไตเทียม                             1\nName: count, dtype: int64\n",
          "output_type": "stream"
        }
      ],
      "execution_count": null
    },
    {
      "cell_type": "code",
      "source": [
        "data1[data1['Plan'].notna()]\n",
        "#ปกติคนมี PEtxet จะมี Plan"
      ],
      "metadata": {
        "id": "e_EnzLFyhaHc",
        "outputId": "37682826-1037-4ef8-99be-be8aeef44296",
        "trusted": true,
        "execution": {
          "iopub.status.busy": "2025-03-14T07:13:04.266418Z",
          "iopub.execute_input": "2025-03-14T07:13:04.266733Z",
          "iopub.status.idle": "2025-03-14T07:13:04.294481Z",
          "shell.execute_reply.started": "2025-03-14T07:13:04.266702Z",
          "shell.execute_reply": "2025-03-14T07:13:04.293469Z"
        }
      },
      "outputs": [
        {
          "execution_count": 81,
          "output_type": "execute_result",
          "data": {
            "text/plain": "            ID OcmPatTyp    NurseStation                          CC  \\\n2       890749         O    PED ห้องเด็ก                      วัคซีน   \n3       890751         O    PED ห้องเด็ก                      วัคซีน   \n4       894455         O    PED ห้องเด็ก  วัคซีน ไม่เอาสมุดวัคซีนมา    \n5       897083         O    PED ห้องเด็ก     นัดรับวัคซีนไข้หวัดใหญ่   \n6       899666         O    PED ห้องเด็ก                 มารับวัคซีน   \n...        ...       ...             ...                         ...   \n11987  1146347         O  ER ห้องฉุกเฉิน                   ไอ เจ็บคอ   \n11988  1146352         O  ER ห้องฉุกเฉิน  ลื่นล้ม ปวดเข่า2ข้าง มีแผล   \n11989  1146357         O  ER ห้องฉุกเฉิน             ล้ม ปวดเท้าซ้าย   \n11990  1146358         O  ER ห้องฉุกเฉิน             ผื่นแดงที่ขาขวา   \n11991  1146361         I  ER ห้องฉุกเฉิน                        ไข้    \n\n                                                      Pi  \\\n2                                              แข็งแรงดี   \n3                                              แข็งแรงดี   \n4      ป5 รร อนุบาลนครหาดใหญ่ เรียนดี nutrition ดี \\r...   \n5                   มารับวัคซีน ไอเล็กน้อย ไม่มีไข้ \\r\\n   \n6                                              แข็งแรงดี   \n...                                                  ...   \n11987   2 วัน ไข้ ไอแห้งๆ ไม่มีน้ำมูก ไม่เหนื่อย เจ็บคอ    \n11988  15.00 น ลื่นล้มมีแผลถลอกที่ข้อเข่าทั้งสองข้าง ...   \n11989  ลื่นล้ม ข้อเท้าพลิก ปวดเท้าซ้าย เดินลงน้ำหนักไ...   \n11990  3-4 วัน เป็นผื่นแดงที่ขาขวา เกาแล้วเป็นแผล วัน...   \n11991  ไข้ 2 วัน ไอเสมหะ ไม่เจ็บคอ มีน้ำมูก กินยา (Pa...   \n\n                                                    Diag  \\\n2      ต้องการก่อภูมิคุ้มกันต่อโรคไข้หวัดใหญ่(Need fo...   \n3      ต้องการก่อภูมิคุ้มกันต่อโรคไข้หวัดใหญ่(Need fo...   \n4      ต้องการก่อภูมิคุ้มกันต่อโรคไข้หวัดใหญ่(Need fo...   \n5      ต้องการก่อภูมิคุ้มกันต่อโรคไข้หวัดใหญ่(Need fo...   \n6      ต้องการก่อภูมิคุ้มกันต่อโรคไข้หวัดใหญ่(Need fo...   \n...                                                  ...   \n11987            คอหอยอักเสบเฉียบพลัน(Acute pharyngitis)   \n11988  การถลอกที่เข่าและขาท่อนปลาย(Abrasion of knee a...   \n11989  การเคลื่อน แพลง และเคล็ดของข้อและเอ็นที่ระดับข...   \n11990  เซลล์เนื้อเยื่ออักเสบที่ส่วนอื่นที่แขนขา(Cellu...   \n11991    ไข้อื่นที่มีลักษณะจำเพาะ(Other specified fever)   \n\n                                                    Plan  \\\n2                                         Influvac tetra   \n3                                         Influvac tetra   \n4                         advice side effect of vaccine    \n5                            influenza vaccine\\r\\nyearly   \n6                                               นัด 1 ปี   \n...                                                  ...   \n11987                                                med   \n11988  =dressing wound od >> f/U 2/1/68 13.00 น \\r\\n=...   \n11989  - Film: no Fx >> ankle spraing Gr.2\\r\\n- on sh...   \n11990      Dressing wound, HM ATBx, F/U OPD Sx. พรุ่งนี้   \n11991                          Swab + Admit IV hydration   \n\n                                                     Inv  \\\n2                                                    NaN   \n3                                                    NaN   \n4                                                    NaN   \n5                                                    NaN   \n6                                                    NaN   \n...                                                  ...   \n11987                                                NaN   \n11988                                                NaN   \n11989  Ankle / AP, LAT, Mortise (Left): not see fracture   \n11990                                                NaN   \n11991  Covid Ag/ Influenza A/B /RSV / Adenovirus/HMPV...   \n\n                                                  PEtext  \\\n2        Chest: Normal, Heart: Normal, Abdomen: Normal,    \n3                         Chest: Normal, Heart: Normal,    \n4      active \\r\\nheart no murmur \\r\\nlung clear\\r\\na...   \n5      General: active, Chest: clear, Heart: normal S...   \n6                         Chest: Normal, Heart: Normal,    \n...                                                  ...   \n11987  good concious\\r\\nHEENT : not pale , no Jx , ph...   \n11988  Trauma PE\\r\\nHead / Face: no wound\\r\\nNeck: no...   \n11989  ? affected part: Lt ankle\\r\\n- swelling and te...   \n11990  ? affected part: Rt thigh\\r\\n- Skin redness, s...   \n11991  Alert, febrile, no dyspnea, look fatique\\r\\nHE...   \n\n                                                   ICD10 PhyDtrCod  \\\n2        [Z25.1] Need for immunization against influenza  DRF0322    \n3        [Z25.1] Need for immunization against influenza  DRF0322    \n4        [Z25.1] Need for immunization against influenza  DRF0916    \n5        [Z25.1] Need for immunization against influenza  DRP1353    \n6        [Z25.1] Need for immunization against influenza  DRF0322    \n...                                                  ...       ...   \n11987                            [J02] Acute pharyngitis  DRF0944    \n11988             [S80.80] Abrasion of knee and leg (TM)  DRF0944    \n11989  [S93] Dislocation, sprain and strain of joints...  DRF1222    \n11990          [L03.1] Cellulitis of other parts of limb  DRF1222    \n11991            [J12.3] Human metapneumovirus pneumonia  DRF1222    \n\n                              docname  \n2              พญ. ศิริพร สมรรคจันทร์  \n3              พญ. ศิริพร สมรรคจันทร์  \n4                 พญ. กมรพรรณ แสงอรุณ  \n5                  พญ. ปิยนุช ทองเสมอ  \n6              พญ. ศิริพร สมรรคจันทร์  \n...                               ...  \n11987  นพ. เพียรชัย ฉัตรพิรุฬห์พันธุ์  \n11988  นพ. เพียรชัย ฉัตรพิรุฬห์พันธุ์  \n11989              นพ. ศุภกร เทพบำรุง  \n11990              นพ. ศุภกร เทพบำรุง  \n11991              นพ. ศุภกร เทพบำรุง  \n\n[8165 rows x 12 columns]",
            "text/html": "<div>\n<style scoped>\n    .dataframe tbody tr th:only-of-type {\n        vertical-align: middle;\n    }\n\n    .dataframe tbody tr th {\n        vertical-align: top;\n    }\n\n    .dataframe thead th {\n        text-align: right;\n    }\n</style>\n<table border=\"1\" class=\"dataframe\">\n  <thead>\n    <tr style=\"text-align: right;\">\n      <th></th>\n      <th>ID</th>\n      <th>OcmPatTyp</th>\n      <th>NurseStation</th>\n      <th>CC</th>\n      <th>Pi</th>\n      <th>Diag</th>\n      <th>Plan</th>\n      <th>Inv</th>\n      <th>PEtext</th>\n      <th>ICD10</th>\n      <th>PhyDtrCod</th>\n      <th>docname</th>\n    </tr>\n  </thead>\n  <tbody>\n    <tr>\n      <th>2</th>\n      <td>890749</td>\n      <td>O</td>\n      <td>PED ห้องเด็ก</td>\n      <td>วัคซีน</td>\n      <td>แข็งแรงดี</td>\n      <td>ต้องการก่อภูมิคุ้มกันต่อโรคไข้หวัดใหญ่(Need fo...</td>\n      <td>Influvac tetra</td>\n      <td>NaN</td>\n      <td>Chest: Normal, Heart: Normal, Abdomen: Normal,</td>\n      <td>[Z25.1] Need for immunization against influenza</td>\n      <td>DRF0322</td>\n      <td>พญ. ศิริพร สมรรคจันทร์</td>\n    </tr>\n    <tr>\n      <th>3</th>\n      <td>890751</td>\n      <td>O</td>\n      <td>PED ห้องเด็ก</td>\n      <td>วัคซีน</td>\n      <td>แข็งแรงดี</td>\n      <td>ต้องการก่อภูมิคุ้มกันต่อโรคไข้หวัดใหญ่(Need fo...</td>\n      <td>Influvac tetra</td>\n      <td>NaN</td>\n      <td>Chest: Normal, Heart: Normal,</td>\n      <td>[Z25.1] Need for immunization against influenza</td>\n      <td>DRF0322</td>\n      <td>พญ. ศิริพร สมรรคจันทร์</td>\n    </tr>\n    <tr>\n      <th>4</th>\n      <td>894455</td>\n      <td>O</td>\n      <td>PED ห้องเด็ก</td>\n      <td>วัคซีน ไม่เอาสมุดวัคซีนมา</td>\n      <td>ป5 รร อนุบาลนครหาดใหญ่ เรียนดี nutrition ดี \\r...</td>\n      <td>ต้องการก่อภูมิคุ้มกันต่อโรคไข้หวัดใหญ่(Need fo...</td>\n      <td>advice side effect of vaccine</td>\n      <td>NaN</td>\n      <td>active \\r\\nheart no murmur \\r\\nlung clear\\r\\na...</td>\n      <td>[Z25.1] Need for immunization against influenza</td>\n      <td>DRF0916</td>\n      <td>พญ. กมรพรรณ แสงอรุณ</td>\n    </tr>\n    <tr>\n      <th>5</th>\n      <td>897083</td>\n      <td>O</td>\n      <td>PED ห้องเด็ก</td>\n      <td>นัดรับวัคซีนไข้หวัดใหญ่</td>\n      <td>มารับวัคซีน ไอเล็กน้อย ไม่มีไข้ \\r\\n</td>\n      <td>ต้องการก่อภูมิคุ้มกันต่อโรคไข้หวัดใหญ่(Need fo...</td>\n      <td>influenza vaccine\\r\\nyearly</td>\n      <td>NaN</td>\n      <td>General: active, Chest: clear, Heart: normal S...</td>\n      <td>[Z25.1] Need for immunization against influenza</td>\n      <td>DRP1353</td>\n      <td>พญ. ปิยนุช ทองเสมอ</td>\n    </tr>\n    <tr>\n      <th>6</th>\n      <td>899666</td>\n      <td>O</td>\n      <td>PED ห้องเด็ก</td>\n      <td>มารับวัคซีน</td>\n      <td>แข็งแรงดี</td>\n      <td>ต้องการก่อภูมิคุ้มกันต่อโรคไข้หวัดใหญ่(Need fo...</td>\n      <td>นัด 1 ปี</td>\n      <td>NaN</td>\n      <td>Chest: Normal, Heart: Normal,</td>\n      <td>[Z25.1] Need for immunization against influenza</td>\n      <td>DRF0322</td>\n      <td>พญ. ศิริพร สมรรคจันทร์</td>\n    </tr>\n    <tr>\n      <th>...</th>\n      <td>...</td>\n      <td>...</td>\n      <td>...</td>\n      <td>...</td>\n      <td>...</td>\n      <td>...</td>\n      <td>...</td>\n      <td>...</td>\n      <td>...</td>\n      <td>...</td>\n      <td>...</td>\n      <td>...</td>\n    </tr>\n    <tr>\n      <th>11987</th>\n      <td>1146347</td>\n      <td>O</td>\n      <td>ER ห้องฉุกเฉิน</td>\n      <td>ไอ เจ็บคอ</td>\n      <td>2 วัน ไข้ ไอแห้งๆ ไม่มีน้ำมูก ไม่เหนื่อย เจ็บคอ</td>\n      <td>คอหอยอักเสบเฉียบพลัน(Acute pharyngitis)</td>\n      <td>med</td>\n      <td>NaN</td>\n      <td>good concious\\r\\nHEENT : not pale , no Jx , ph...</td>\n      <td>[J02] Acute pharyngitis</td>\n      <td>DRF0944</td>\n      <td>นพ. เพียรชัย ฉัตรพิรุฬห์พันธุ์</td>\n    </tr>\n    <tr>\n      <th>11988</th>\n      <td>1146352</td>\n      <td>O</td>\n      <td>ER ห้องฉุกเฉิน</td>\n      <td>ลื่นล้ม ปวดเข่า2ข้าง มีแผล</td>\n      <td>15.00 น ลื่นล้มมีแผลถลอกที่ข้อเข่าทั้งสองข้าง ...</td>\n      <td>การถลอกที่เข่าและขาท่อนปลาย(Abrasion of knee a...</td>\n      <td>=dressing wound od &gt;&gt; f/U 2/1/68 13.00 น \\r\\n=...</td>\n      <td>NaN</td>\n      <td>Trauma PE\\r\\nHead / Face: no wound\\r\\nNeck: no...</td>\n      <td>[S80.80] Abrasion of knee and leg (TM)</td>\n      <td>DRF0944</td>\n      <td>นพ. เพียรชัย ฉัตรพิรุฬห์พันธุ์</td>\n    </tr>\n    <tr>\n      <th>11989</th>\n      <td>1146357</td>\n      <td>O</td>\n      <td>ER ห้องฉุกเฉิน</td>\n      <td>ล้ม ปวดเท้าซ้าย</td>\n      <td>ลื่นล้ม ข้อเท้าพลิก ปวดเท้าซ้าย เดินลงน้ำหนักไ...</td>\n      <td>การเคลื่อน แพลง และเคล็ดของข้อและเอ็นที่ระดับข...</td>\n      <td>- Film: no Fx &gt;&gt; ankle spraing Gr.2\\r\\n- on sh...</td>\n      <td>Ankle / AP, LAT, Mortise (Left): not see fracture</td>\n      <td>? affected part: Lt ankle\\r\\n- swelling and te...</td>\n      <td>[S93] Dislocation, sprain and strain of joints...</td>\n      <td>DRF1222</td>\n      <td>นพ. ศุภกร เทพบำรุง</td>\n    </tr>\n    <tr>\n      <th>11990</th>\n      <td>1146358</td>\n      <td>O</td>\n      <td>ER ห้องฉุกเฉิน</td>\n      <td>ผื่นแดงที่ขาขวา</td>\n      <td>3-4 วัน เป็นผื่นแดงที่ขาขวา เกาแล้วเป็นแผล วัน...</td>\n      <td>เซลล์เนื้อเยื่ออักเสบที่ส่วนอื่นที่แขนขา(Cellu...</td>\n      <td>Dressing wound, HM ATBx, F/U OPD Sx. พรุ่งนี้</td>\n      <td>NaN</td>\n      <td>? affected part: Rt thigh\\r\\n- Skin redness, s...</td>\n      <td>[L03.1] Cellulitis of other parts of limb</td>\n      <td>DRF1222</td>\n      <td>นพ. ศุภกร เทพบำรุง</td>\n    </tr>\n    <tr>\n      <th>11991</th>\n      <td>1146361</td>\n      <td>I</td>\n      <td>ER ห้องฉุกเฉิน</td>\n      <td>ไข้</td>\n      <td>ไข้ 2 วัน ไอเสมหะ ไม่เจ็บคอ มีน้ำมูก กินยา (Pa...</td>\n      <td>ไข้อื่นที่มีลักษณะจำเพาะ(Other specified fever)</td>\n      <td>Swab + Admit IV hydration</td>\n      <td>Covid Ag/ Influenza A/B /RSV / Adenovirus/HMPV...</td>\n      <td>Alert, febrile, no dyspnea, look fatique\\r\\nHE...</td>\n      <td>[J12.3] Human metapneumovirus pneumonia</td>\n      <td>DRF1222</td>\n      <td>นพ. ศุภกร เทพบำรุง</td>\n    </tr>\n  </tbody>\n</table>\n<p>8165 rows × 12 columns</p>\n</div>"
          },
          "metadata": {}
        }
      ],
      "execution_count": null
    },
    {
      "cell_type": "code",
      "source": [
        "data1[data1['ICD10'].isnull()]"
      ],
      "metadata": {
        "id": "kyo2Fy3lS22f",
        "outputId": "face8540-a6d9-496a-93eb-a5f4c40213c2",
        "trusted": true,
        "execution": {
          "iopub.status.busy": "2025-03-14T07:13:04.296729Z",
          "iopub.execute_input": "2025-03-14T07:13:04.296935Z",
          "iopub.status.idle": "2025-03-14T07:13:04.31125Z",
          "shell.execute_reply.started": "2025-03-14T07:13:04.296915Z",
          "shell.execute_reply": "2025-03-14T07:13:04.310474Z"
        }
      },
      "outputs": [
        {
          "execution_count": 82,
          "output_type": "execute_result",
          "data": {
            "text/plain": "            ID OcmPatTyp                NurseStation  \\\n286    1109743         O                  OPD ทั่วไป   \n438    1119003         O                  OPD ทั่วไป   \n569    1123081         O                  DM เบาหวาน   \n596    1123604         O                  OPD ทั่วไป   \n1296   1127656         O                  OPD ทั่วไป   \n1328   1127705         O                  DM เบาหวาน   \n3515   1131412         O              OBS สูตินรีเวช   \n4165   1132433         O                   PT กายภาพ   \n4409   1132825         O  Ortho ศัลยกรรมกระดูกและข้อ   \n4559   1133044         O                  DM เบาหวาน   \n6449   1136345         O                  OPD ทั่วไป   \n7556   1138351         O              ER ห้องฉุกเฉิน   \n7659   1138510         O              ER ห้องฉุกเฉิน   \n8387   1139800         O              ER ห้องฉุกเฉิน   \n10713  1143850         O                  DM เบาหวาน   \n11439  1145244         O              ER ห้องฉุกเฉิน   \n\n                                          CC  \\\n286                                   sdfsdf   \n438                                      NaN   \n569                        ตรวจโครงสร้างเท้า   \n596                        ตรวจโครงสร้างเท้า   \n1296                                     NaN   \n1328                  ใบรับรองแพทย์ ใบขับขี่   \n3515                             HPV ผิดปกติ   \n4165                      ทดสอบ PE จาก Dr PT   \n4409                              ปวดไหล่ขวา   \n4559                    ปรึกษาเรื่อง ไทรอยด์   \n6449               ปวดตา เคืองตาทั้ง 2 ข้าง    \n7556                                ดูเคสต่อ   \n7659                                ปวดท้อง    \n8387                     ปวดท้อง  12 hr PTA    \n10713                    ใบรับรองแพทย์ขับขี่   \n11439  Consult suspected retain Body at head   \n\n                                                      Pi  \\\n286                                              fsdfdsf   \n438    @ Multiple clean based gastric ulcer\\r\\nPatho:...   \n569                                                  NaN   \n596                                                  NaN   \n1296   ประจำเดือนผิดปกติ  bleed 20/11/67-today มาๆหยุ...   \n1328                                                 NaN   \n3515   HPV type 53 positive\\r\\ncolposcpy satisfied , ...   \n4165                                  ทดสอบ PE จาก Dr PT   \n4409                ปวดไหล่ขวามา3วันไม่มีแรงยกแขนไม่ขึ้น   \n4559   นน55.4 สูง152\\r\\nง่วงนอนมาก กลางคืนหลับไม่สนิท...   \n6449       เคืองตา น้ำตาไหลที่หางตา 2 ข้าง ตาขวามากกว่า    \n7556   ดูเคสต่อเวรเช้า\\r\\n- HT, DM\\r\\n- 2สัปดาห์ก่อนไ...   \n7659   4 day PTA ปวดอัณฑะขวา ปัสสาวะปกติ ไม่มีไข้\\r\\n...   \n8387   12 hr PTA ปวดท้อง ร้าวทะลุหลัง คลื่นไส้ ไม่อาเ...   \n10713                                             สบายดี   \n11439  1 day PTA (28/12/67 9.00น.) MCA \\r\\nDx MHI mod...   \n\n                       Diag  \\\n286                     NaN   \n438                     NaN   \n569                     NaN   \n596                     NaN   \n1296                    NaN   \n1328                    NaN   \n3515                    NaN   \n4165                    NaN   \n4409   weakness Rt shoulder   \n4559                    NaN   \n6449                    NaN   \n7556                    NaN   \n7659                    NaN   \n8387                    NaN   \n10713                   NaN   \n11439          MHI mod risk   \n\n                                                    Plan  \\\n286                                                  NaN   \n438                                                  NaN   \n569                                                  NaN   \n596                                                  NaN   \n1296                                                 NaN   \n1328                                                 NaN   \n3515                                                 NaN   \n4165                                  ทดสอบ PE จาก Dr PT   \n4409                                                 NaN   \n4559                                                 NaN   \n6449                                                 NaN   \n7556                                                 NaN   \n7659                                                 NaN   \n8387                                                 NaN   \n10713                                                cer   \n11439  CT result \\r\\n - No detectable intracranial he...   \n\n                                                     Inv  \\\n286                                                  NaN   \n438                                                  NaN   \n569                                                  NaN   \n596                                                  NaN   \n1296                                                 NaN   \n1328                                                 NaN   \n3515                                                 NaN   \n4165                                                 NaN   \n4409                                                 NaN   \n4559                                                 NaN   \n6449                                                 NaN   \n7556                                   MRI BRAIN (45101)   \n7659   CBC, BUN, ELECTROLYTE, Creatinine, CT Whole Ab...   \n8387   U/S bedside: not seen free fluid, no hydroneph...   \n10713                                                NaN   \n11439                                                NaN   \n\n                                                  PEtext ICD10 PhyDtrCod  \\\n286                                               sdfsdf   NaN  600004     \n438                                                  NaN   NaN  DRP1239    \n569    Foot Pressure Examination\\r\\n\\r\\nMild High Arc...   NaN  900037     \n596    Foot Pressure Examination\\r\\n\\r\\nCC : Left Kne...   NaN  900037     \n1296                                                 NaN   NaN  DRF0113    \n1328                                                 NaN   NaN  DRF1146    \n3515                                                 NaN   NaN  DRP0033    \n4165                                  ทดสอบ PE จาก Dr PT   NaN  DRFPT      \n4409   cannot active move Rt shoulder\\r\\nnot tender c...   NaN  DRF0247    \n4559                                                 NaN   NaN  DRF0165    \n6449                                                 NaN   NaN  DRP0014    \n7556   GA:good consciousness,\\r\\nHead/Face:gum contus...   NaN  DRF1361    \n7659    GA: Alert, \\r\\n HEENT: not pale, no jx\\r\\n He...   NaN  DRF1361    \n8387   HEENT: not pale, no jaundice\\r\\nHeart: regular...   NaN  DRF1213    \n10713                                            PE: WNL   NaN  DRF1146    \n11439  E4V5M6 primary survey as ER nite\\r\\n\\r\\nno ope...   NaN  DRP1256    \n\n                            docname  \n286                                  \n438              นพ. ธนาวิน แซ่ว่อง  \n569          กอ. สุวิชา เตชะภูวภัทร  \n596          กอ. สุวิชา เตชะภูวภัทร  \n1296        พญ. อัญชลี ชีวรุ่งโรจน์  \n1328    นพ. สุรฤทธิ์ เนาว์รุ่งโรจน์  \n3515          ผศ.นพ ธิติ อัจจิมากุล  \n4165        ไม่ระบุแพทย์กายภาพ (PT)  \n4409               นพ. คณิต วิชาชัย  \n4559           นพ. วรวงษ์ เสตสุบรรณ  \n6449   ผศ.พญ. จุฑามาศ วิทยวีรศักดิ์  \n7556            นพ. เกษม จงวิไลเกษม  \n7659            นพ. เกษม จงวิไลเกษม  \n8387     นพ. ประสบชัย ลิ่มธรรมรัตน์  \n10713   นพ. สุรฤทธิ์ เนาว์รุ่งโรจน์  \n11439          พญ. นพวรรณ ฐิติวรการ  ",
            "text/html": "<div>\n<style scoped>\n    .dataframe tbody tr th:only-of-type {\n        vertical-align: middle;\n    }\n\n    .dataframe tbody tr th {\n        vertical-align: top;\n    }\n\n    .dataframe thead th {\n        text-align: right;\n    }\n</style>\n<table border=\"1\" class=\"dataframe\">\n  <thead>\n    <tr style=\"text-align: right;\">\n      <th></th>\n      <th>ID</th>\n      <th>OcmPatTyp</th>\n      <th>NurseStation</th>\n      <th>CC</th>\n      <th>Pi</th>\n      <th>Diag</th>\n      <th>Plan</th>\n      <th>Inv</th>\n      <th>PEtext</th>\n      <th>ICD10</th>\n      <th>PhyDtrCod</th>\n      <th>docname</th>\n    </tr>\n  </thead>\n  <tbody>\n    <tr>\n      <th>286</th>\n      <td>1109743</td>\n      <td>O</td>\n      <td>OPD ทั่วไป</td>\n      <td>sdfsdf</td>\n      <td>fsdfdsf</td>\n      <td>NaN</td>\n      <td>NaN</td>\n      <td>NaN</td>\n      <td>sdfsdf</td>\n      <td>NaN</td>\n      <td>600004</td>\n      <td></td>\n    </tr>\n    <tr>\n      <th>438</th>\n      <td>1119003</td>\n      <td>O</td>\n      <td>OPD ทั่วไป</td>\n      <td>NaN</td>\n      <td>@ Multiple clean based gastric ulcer\\r\\nPatho:...</td>\n      <td>NaN</td>\n      <td>NaN</td>\n      <td>NaN</td>\n      <td>NaN</td>\n      <td>NaN</td>\n      <td>DRP1239</td>\n      <td>นพ. ธนาวิน แซ่ว่อง</td>\n    </tr>\n    <tr>\n      <th>569</th>\n      <td>1123081</td>\n      <td>O</td>\n      <td>DM เบาหวาน</td>\n      <td>ตรวจโครงสร้างเท้า</td>\n      <td>NaN</td>\n      <td>NaN</td>\n      <td>NaN</td>\n      <td>NaN</td>\n      <td>Foot Pressure Examination\\r\\n\\r\\nMild High Arc...</td>\n      <td>NaN</td>\n      <td>900037</td>\n      <td>กอ. สุวิชา เตชะภูวภัทร</td>\n    </tr>\n    <tr>\n      <th>596</th>\n      <td>1123604</td>\n      <td>O</td>\n      <td>OPD ทั่วไป</td>\n      <td>ตรวจโครงสร้างเท้า</td>\n      <td>NaN</td>\n      <td>NaN</td>\n      <td>NaN</td>\n      <td>NaN</td>\n      <td>Foot Pressure Examination\\r\\n\\r\\nCC : Left Kne...</td>\n      <td>NaN</td>\n      <td>900037</td>\n      <td>กอ. สุวิชา เตชะภูวภัทร</td>\n    </tr>\n    <tr>\n      <th>1296</th>\n      <td>1127656</td>\n      <td>O</td>\n      <td>OPD ทั่วไป</td>\n      <td>NaN</td>\n      <td>ประจำเดือนผิดปกติ  bleed 20/11/67-today มาๆหยุ...</td>\n      <td>NaN</td>\n      <td>NaN</td>\n      <td>NaN</td>\n      <td>NaN</td>\n      <td>NaN</td>\n      <td>DRF0113</td>\n      <td>พญ. อัญชลี ชีวรุ่งโรจน์</td>\n    </tr>\n    <tr>\n      <th>1328</th>\n      <td>1127705</td>\n      <td>O</td>\n      <td>DM เบาหวาน</td>\n      <td>ใบรับรองแพทย์ ใบขับขี่</td>\n      <td>NaN</td>\n      <td>NaN</td>\n      <td>NaN</td>\n      <td>NaN</td>\n      <td>NaN</td>\n      <td>NaN</td>\n      <td>DRF1146</td>\n      <td>นพ. สุรฤทธิ์ เนาว์รุ่งโรจน์</td>\n    </tr>\n    <tr>\n      <th>3515</th>\n      <td>1131412</td>\n      <td>O</td>\n      <td>OBS สูตินรีเวช</td>\n      <td>HPV ผิดปกติ</td>\n      <td>HPV type 53 positive\\r\\ncolposcpy satisfied , ...</td>\n      <td>NaN</td>\n      <td>NaN</td>\n      <td>NaN</td>\n      <td>NaN</td>\n      <td>NaN</td>\n      <td>DRP0033</td>\n      <td>ผศ.นพ ธิติ อัจจิมากุล</td>\n    </tr>\n    <tr>\n      <th>4165</th>\n      <td>1132433</td>\n      <td>O</td>\n      <td>PT กายภาพ</td>\n      <td>ทดสอบ PE จาก Dr PT</td>\n      <td>ทดสอบ PE จาก Dr PT</td>\n      <td>NaN</td>\n      <td>ทดสอบ PE จาก Dr PT</td>\n      <td>NaN</td>\n      <td>ทดสอบ PE จาก Dr PT</td>\n      <td>NaN</td>\n      <td>DRFPT</td>\n      <td>ไม่ระบุแพทย์กายภาพ (PT)</td>\n    </tr>\n    <tr>\n      <th>4409</th>\n      <td>1132825</td>\n      <td>O</td>\n      <td>Ortho ศัลยกรรมกระดูกและข้อ</td>\n      <td>ปวดไหล่ขวา</td>\n      <td>ปวดไหล่ขวามา3วันไม่มีแรงยกแขนไม่ขึ้น</td>\n      <td>weakness Rt shoulder</td>\n      <td>NaN</td>\n      <td>NaN</td>\n      <td>cannot active move Rt shoulder\\r\\nnot tender c...</td>\n      <td>NaN</td>\n      <td>DRF0247</td>\n      <td>นพ. คณิต วิชาชัย</td>\n    </tr>\n    <tr>\n      <th>4559</th>\n      <td>1133044</td>\n      <td>O</td>\n      <td>DM เบาหวาน</td>\n      <td>ปรึกษาเรื่อง ไทรอยด์</td>\n      <td>นน55.4 สูง152\\r\\nง่วงนอนมาก กลางคืนหลับไม่สนิท...</td>\n      <td>NaN</td>\n      <td>NaN</td>\n      <td>NaN</td>\n      <td>NaN</td>\n      <td>NaN</td>\n      <td>DRF0165</td>\n      <td>นพ. วรวงษ์ เสตสุบรรณ</td>\n    </tr>\n    <tr>\n      <th>6449</th>\n      <td>1136345</td>\n      <td>O</td>\n      <td>OPD ทั่วไป</td>\n      <td>ปวดตา เคืองตาทั้ง 2 ข้าง</td>\n      <td>เคืองตา น้ำตาไหลที่หางตา 2 ข้าง ตาขวามากกว่า</td>\n      <td>NaN</td>\n      <td>NaN</td>\n      <td>NaN</td>\n      <td>NaN</td>\n      <td>NaN</td>\n      <td>DRP0014</td>\n      <td>ผศ.พญ. จุฑามาศ วิทยวีรศักดิ์</td>\n    </tr>\n    <tr>\n      <th>7556</th>\n      <td>1138351</td>\n      <td>O</td>\n      <td>ER ห้องฉุกเฉิน</td>\n      <td>ดูเคสต่อ</td>\n      <td>ดูเคสต่อเวรเช้า\\r\\n- HT, DM\\r\\n- 2สัปดาห์ก่อนไ...</td>\n      <td>NaN</td>\n      <td>NaN</td>\n      <td>MRI BRAIN (45101)</td>\n      <td>GA:good consciousness,\\r\\nHead/Face:gum contus...</td>\n      <td>NaN</td>\n      <td>DRF1361</td>\n      <td>นพ. เกษม จงวิไลเกษม</td>\n    </tr>\n    <tr>\n      <th>7659</th>\n      <td>1138510</td>\n      <td>O</td>\n      <td>ER ห้องฉุกเฉิน</td>\n      <td>ปวดท้อง</td>\n      <td>4 day PTA ปวดอัณฑะขวา ปัสสาวะปกติ ไม่มีไข้\\r\\n...</td>\n      <td>NaN</td>\n      <td>NaN</td>\n      <td>CBC, BUN, ELECTROLYTE, Creatinine, CT Whole Ab...</td>\n      <td>GA: Alert, \\r\\n HEENT: not pale, no jx\\r\\n He...</td>\n      <td>NaN</td>\n      <td>DRF1361</td>\n      <td>นพ. เกษม จงวิไลเกษม</td>\n    </tr>\n    <tr>\n      <th>8387</th>\n      <td>1139800</td>\n      <td>O</td>\n      <td>ER ห้องฉุกเฉิน</td>\n      <td>ปวดท้อง  12 hr PTA</td>\n      <td>12 hr PTA ปวดท้อง ร้าวทะลุหลัง คลื่นไส้ ไม่อาเ...</td>\n      <td>NaN</td>\n      <td>NaN</td>\n      <td>U/S bedside: not seen free fluid, no hydroneph...</td>\n      <td>HEENT: not pale, no jaundice\\r\\nHeart: regular...</td>\n      <td>NaN</td>\n      <td>DRF1213</td>\n      <td>นพ. ประสบชัย ลิ่มธรรมรัตน์</td>\n    </tr>\n    <tr>\n      <th>10713</th>\n      <td>1143850</td>\n      <td>O</td>\n      <td>DM เบาหวาน</td>\n      <td>ใบรับรองแพทย์ขับขี่</td>\n      <td>สบายดี</td>\n      <td>NaN</td>\n      <td>cer</td>\n      <td>NaN</td>\n      <td>PE: WNL</td>\n      <td>NaN</td>\n      <td>DRF1146</td>\n      <td>นพ. สุรฤทธิ์ เนาว์รุ่งโรจน์</td>\n    </tr>\n    <tr>\n      <th>11439</th>\n      <td>1145244</td>\n      <td>O</td>\n      <td>ER ห้องฉุกเฉิน</td>\n      <td>Consult suspected retain Body at head</td>\n      <td>1 day PTA (28/12/67 9.00น.) MCA \\r\\nDx MHI mod...</td>\n      <td>MHI mod risk</td>\n      <td>CT result \\r\\n - No detectable intracranial he...</td>\n      <td>NaN</td>\n      <td>E4V5M6 primary survey as ER nite\\r\\n\\r\\nno ope...</td>\n      <td>NaN</td>\n      <td>DRP1256</td>\n      <td>พญ. นพวรรณ ฐิติวรการ</td>\n    </tr>\n  </tbody>\n</table>\n</div>"
          },
          "metadata": {}
        }
      ],
      "execution_count": null
    },
    {
      "cell_type": "code",
      "source": [
        "data1"
      ],
      "metadata": {
        "trusted": true,
        "execution": {
          "iopub.status.busy": "2025-03-14T07:13:04.312891Z",
          "iopub.execute_input": "2025-03-14T07:13:04.313201Z",
          "iopub.status.idle": "2025-03-14T07:13:04.331055Z",
          "shell.execute_reply.started": "2025-03-14T07:13:04.313172Z",
          "shell.execute_reply": "2025-03-14T07:13:04.330365Z"
        },
        "id": "z2IbDwyhsywg",
        "outputId": "51c2739f-8863-4bf6-c060-65b63cd81f06"
      },
      "outputs": [
        {
          "execution_count": 83,
          "output_type": "execute_result",
          "data": {
            "text/plain": "            ID OcmPatTyp               NurseStation  \\\n0       608768         O           SKIN ห้องผิวหนัง   \n1       886211         O  CheckUp Center ตรวจสุขภาพ   \n2       890749         O               PED ห้องเด็ก   \n3       890751         O               PED ห้องเด็ก   \n4       894455         O               PED ห้องเด็ก   \n...        ...       ...                        ...   \n11987  1146347         O             ER ห้องฉุกเฉิน   \n11988  1146352         O             ER ห้องฉุกเฉิน   \n11989  1146357         O             ER ห้องฉุกเฉิน   \n11990  1146358         O             ER ห้องฉุกเฉิน   \n11991  1146361         I             ER ห้องฉุกเฉิน   \n\n                               CC  \\\n0                  เกลื้อนที่หลัง   \n1                ตรวจสุขภาพบริษัท   \n2                          วัคซีน   \n3                          วัคซีน   \n4      วัคซีน ไม่เอาสมุดวัคซีนมา    \n...                           ...   \n11987                   ไอ เจ็บคอ   \n11988  ลื่นล้ม ปวดเข่า2ข้าง มีแผล   \n11989             ล้ม ปวดเท้าซ้าย   \n11990             ผื่นแดงที่ขาขวา   \n11991                        ไข้    \n\n                                                      Pi  \\\n0           มีผื่นขาวที่หลัง ต้นแขนใหม่ คันเวลาเหงื่อออก   \n1                                                    NaN   \n2                                              แข็งแรงดี   \n3                                              แข็งแรงดี   \n4      ป5 รร อนุบาลนครหาดใหญ่ เรียนดี nutrition ดี \\r...   \n...                                                  ...   \n11987   2 วัน ไข้ ไอแห้งๆ ไม่มีน้ำมูก ไม่เหนื่อย เจ็บคอ    \n11988  15.00 น ลื่นล้มมีแผลถลอกที่ข้อเข่าทั้งสองข้าง ...   \n11989  ลื่นล้ม ข้อเท้าพลิก ปวดเท้าซ้าย เดินลงน้ำหนักไ...   \n11990  3-4 วัน เป็นผื่นแดงที่ขาขวา เกาแล้วเป็นแผล วัน...   \n11991  ไข้ 2 วัน ไอเสมหะ ไม่เจ็บคอ มีน้ำมูก กินยา (Pa...   \n\n                                                    Diag  \\\n0                         เกลื้อน(Pityriasis versicolor)   \n1      การตรวจทั่วไปและสืบค้นโรคในบุคคลที่ไม่มีอาการผ...   \n2      ต้องการก่อภูมิคุ้มกันต่อโรคไข้หวัดใหญ่(Need fo...   \n3      ต้องการก่อภูมิคุ้มกันต่อโรคไข้หวัดใหญ่(Need fo...   \n4      ต้องการก่อภูมิคุ้มกันต่อโรคไข้หวัดใหญ่(Need fo...   \n...                                                  ...   \n11987            คอหอยอักเสบเฉียบพลัน(Acute pharyngitis)   \n11988  การถลอกที่เข่าและขาท่อนปลาย(Abrasion of knee a...   \n11989  การเคลื่อน แพลง และเคล็ดของข้อและเอ็นที่ระดับข...   \n11990  เซลล์เนื้อเยื่ออักเสบที่ส่วนอื่นที่แขนขา(Cellu...   \n11991    ไข้อื่นที่มีลักษณะจำเพาะ(Other specified fever)   \n\n                                                    Plan  \\\n0                                                    NaN   \n1                                                    NaN   \n2                                         Influvac tetra   \n3                                         Influvac tetra   \n4                         advice side effect of vaccine    \n...                                                  ...   \n11987                                                med   \n11988  =dressing wound od >> f/U 2/1/68 13.00 น \\r\\n=...   \n11989  - Film: no Fx >> ankle spraing Gr.2\\r\\n- on sh...   \n11990      Dressing wound, HM ATBx, F/U OPD Sx. พรุ่งนี้   \n11991                          Swab + Admit IV hydration   \n\n                                                     Inv  \\\n0                                                    NaN   \n1      CBC, UA (Urine Analysis), FBS, BUN, Creatinine...   \n2                                                    NaN   \n3                                                    NaN   \n4                                                    NaN   \n...                                                  ...   \n11987                                                NaN   \n11988                                                NaN   \n11989  Ankle / AP, LAT, Mortise (Left): not see fracture   \n11990                                                NaN   \n11991  Covid Ag/ Influenza A/B /RSV / Adenovirus/HMPV...   \n\n                                                  PEtext  \\\n0      hypopigmented macule with fine scale at back a...   \n1                                                    NaN   \n2        Chest: Normal, Heart: Normal, Abdomen: Normal,    \n3                         Chest: Normal, Heart: Normal,    \n4      active \\r\\nheart no murmur \\r\\nlung clear\\r\\na...   \n...                                                  ...   \n11987  good concious\\r\\nHEENT : not pale , no Jx , ph...   \n11988  Trauma PE\\r\\nHead / Face: no wound\\r\\nNeck: no...   \n11989  ? affected part: Lt ankle\\r\\n- swelling and te...   \n11990  ? affected part: Rt thigh\\r\\n- Skin redness, s...   \n11991  Alert, febrile, no dyspnea, look fatique\\r\\nHE...   \n\n                                                   ICD10 PhyDtrCod  \\\n0                          [B36.0] Pityriasis versicolor  DRF0096    \n1      [Z00] General examination and investigation of...  DRF0235    \n2        [Z25.1] Need for immunization against influenza  DRF0322    \n3        [Z25.1] Need for immunization against influenza  DRF0322    \n4        [Z25.1] Need for immunization against influenza  DRF0916    \n...                                                  ...       ...   \n11987                            [J02] Acute pharyngitis  DRF0944    \n11988             [S80.80] Abrasion of knee and leg (TM)  DRF0944    \n11989  [S93] Dislocation, sprain and strain of joints...  DRF1222    \n11990          [L03.1] Cellulitis of other parts of limb  DRF1222    \n11991            [J12.3] Human metapneumovirus pneumonia  DRF1222    \n\n                              docname  \n0          พญ. ขวัญเสด็จ วังศิริไพศาล  \n1        พญ. ณภัทร เทพหัสดิน ณ อยุธยา  \n2              พญ. ศิริพร สมรรคจันทร์  \n3              พญ. ศิริพร สมรรคจันทร์  \n4                 พญ. กมรพรรณ แสงอรุณ  \n...                               ...  \n11987  นพ. เพียรชัย ฉัตรพิรุฬห์พันธุ์  \n11988  นพ. เพียรชัย ฉัตรพิรุฬห์พันธุ์  \n11989              นพ. ศุภกร เทพบำรุง  \n11990              นพ. ศุภกร เทพบำรุง  \n11991              นพ. ศุภกร เทพบำรุง  \n\n[11992 rows x 12 columns]",
            "text/html": "<div>\n<style scoped>\n    .dataframe tbody tr th:only-of-type {\n        vertical-align: middle;\n    }\n\n    .dataframe tbody tr th {\n        vertical-align: top;\n    }\n\n    .dataframe thead th {\n        text-align: right;\n    }\n</style>\n<table border=\"1\" class=\"dataframe\">\n  <thead>\n    <tr style=\"text-align: right;\">\n      <th></th>\n      <th>ID</th>\n      <th>OcmPatTyp</th>\n      <th>NurseStation</th>\n      <th>CC</th>\n      <th>Pi</th>\n      <th>Diag</th>\n      <th>Plan</th>\n      <th>Inv</th>\n      <th>PEtext</th>\n      <th>ICD10</th>\n      <th>PhyDtrCod</th>\n      <th>docname</th>\n    </tr>\n  </thead>\n  <tbody>\n    <tr>\n      <th>0</th>\n      <td>608768</td>\n      <td>O</td>\n      <td>SKIN ห้องผิวหนัง</td>\n      <td>เกลื้อนที่หลัง</td>\n      <td>มีผื่นขาวที่หลัง ต้นแขนใหม่ คันเวลาเหงื่อออก</td>\n      <td>เกลื้อน(Pityriasis versicolor)</td>\n      <td>NaN</td>\n      <td>NaN</td>\n      <td>hypopigmented macule with fine scale at back a...</td>\n      <td>[B36.0] Pityriasis versicolor</td>\n      <td>DRF0096</td>\n      <td>พญ. ขวัญเสด็จ วังศิริไพศาล</td>\n    </tr>\n    <tr>\n      <th>1</th>\n      <td>886211</td>\n      <td>O</td>\n      <td>CheckUp Center ตรวจสุขภาพ</td>\n      <td>ตรวจสุขภาพบริษัท</td>\n      <td>NaN</td>\n      <td>การตรวจทั่วไปและสืบค้นโรคในบุคคลที่ไม่มีอาการผ...</td>\n      <td>NaN</td>\n      <td>CBC, UA (Urine Analysis), FBS, BUN, Creatinine...</td>\n      <td>NaN</td>\n      <td>[Z00] General examination and investigation of...</td>\n      <td>DRF0235</td>\n      <td>พญ. ณภัทร เทพหัสดิน ณ อยุธยา</td>\n    </tr>\n    <tr>\n      <th>2</th>\n      <td>890749</td>\n      <td>O</td>\n      <td>PED ห้องเด็ก</td>\n      <td>วัคซีน</td>\n      <td>แข็งแรงดี</td>\n      <td>ต้องการก่อภูมิคุ้มกันต่อโรคไข้หวัดใหญ่(Need fo...</td>\n      <td>Influvac tetra</td>\n      <td>NaN</td>\n      <td>Chest: Normal, Heart: Normal, Abdomen: Normal,</td>\n      <td>[Z25.1] Need for immunization against influenza</td>\n      <td>DRF0322</td>\n      <td>พญ. ศิริพร สมรรคจันทร์</td>\n    </tr>\n    <tr>\n      <th>3</th>\n      <td>890751</td>\n      <td>O</td>\n      <td>PED ห้องเด็ก</td>\n      <td>วัคซีน</td>\n      <td>แข็งแรงดี</td>\n      <td>ต้องการก่อภูมิคุ้มกันต่อโรคไข้หวัดใหญ่(Need fo...</td>\n      <td>Influvac tetra</td>\n      <td>NaN</td>\n      <td>Chest: Normal, Heart: Normal,</td>\n      <td>[Z25.1] Need for immunization against influenza</td>\n      <td>DRF0322</td>\n      <td>พญ. ศิริพร สมรรคจันทร์</td>\n    </tr>\n    <tr>\n      <th>4</th>\n      <td>894455</td>\n      <td>O</td>\n      <td>PED ห้องเด็ก</td>\n      <td>วัคซีน ไม่เอาสมุดวัคซีนมา</td>\n      <td>ป5 รร อนุบาลนครหาดใหญ่ เรียนดี nutrition ดี \\r...</td>\n      <td>ต้องการก่อภูมิคุ้มกันต่อโรคไข้หวัดใหญ่(Need fo...</td>\n      <td>advice side effect of vaccine</td>\n      <td>NaN</td>\n      <td>active \\r\\nheart no murmur \\r\\nlung clear\\r\\na...</td>\n      <td>[Z25.1] Need for immunization against influenza</td>\n      <td>DRF0916</td>\n      <td>พญ. กมรพรรณ แสงอรุณ</td>\n    </tr>\n    <tr>\n      <th>...</th>\n      <td>...</td>\n      <td>...</td>\n      <td>...</td>\n      <td>...</td>\n      <td>...</td>\n      <td>...</td>\n      <td>...</td>\n      <td>...</td>\n      <td>...</td>\n      <td>...</td>\n      <td>...</td>\n      <td>...</td>\n    </tr>\n    <tr>\n      <th>11987</th>\n      <td>1146347</td>\n      <td>O</td>\n      <td>ER ห้องฉุกเฉิน</td>\n      <td>ไอ เจ็บคอ</td>\n      <td>2 วัน ไข้ ไอแห้งๆ ไม่มีน้ำมูก ไม่เหนื่อย เจ็บคอ</td>\n      <td>คอหอยอักเสบเฉียบพลัน(Acute pharyngitis)</td>\n      <td>med</td>\n      <td>NaN</td>\n      <td>good concious\\r\\nHEENT : not pale , no Jx , ph...</td>\n      <td>[J02] Acute pharyngitis</td>\n      <td>DRF0944</td>\n      <td>นพ. เพียรชัย ฉัตรพิรุฬห์พันธุ์</td>\n    </tr>\n    <tr>\n      <th>11988</th>\n      <td>1146352</td>\n      <td>O</td>\n      <td>ER ห้องฉุกเฉิน</td>\n      <td>ลื่นล้ม ปวดเข่า2ข้าง มีแผล</td>\n      <td>15.00 น ลื่นล้มมีแผลถลอกที่ข้อเข่าทั้งสองข้าง ...</td>\n      <td>การถลอกที่เข่าและขาท่อนปลาย(Abrasion of knee a...</td>\n      <td>=dressing wound od &gt;&gt; f/U 2/1/68 13.00 น \\r\\n=...</td>\n      <td>NaN</td>\n      <td>Trauma PE\\r\\nHead / Face: no wound\\r\\nNeck: no...</td>\n      <td>[S80.80] Abrasion of knee and leg (TM)</td>\n      <td>DRF0944</td>\n      <td>นพ. เพียรชัย ฉัตรพิรุฬห์พันธุ์</td>\n    </tr>\n    <tr>\n      <th>11989</th>\n      <td>1146357</td>\n      <td>O</td>\n      <td>ER ห้องฉุกเฉิน</td>\n      <td>ล้ม ปวดเท้าซ้าย</td>\n      <td>ลื่นล้ม ข้อเท้าพลิก ปวดเท้าซ้าย เดินลงน้ำหนักไ...</td>\n      <td>การเคลื่อน แพลง และเคล็ดของข้อและเอ็นที่ระดับข...</td>\n      <td>- Film: no Fx &gt;&gt; ankle spraing Gr.2\\r\\n- on sh...</td>\n      <td>Ankle / AP, LAT, Mortise (Left): not see fracture</td>\n      <td>? affected part: Lt ankle\\r\\n- swelling and te...</td>\n      <td>[S93] Dislocation, sprain and strain of joints...</td>\n      <td>DRF1222</td>\n      <td>นพ. ศุภกร เทพบำรุง</td>\n    </tr>\n    <tr>\n      <th>11990</th>\n      <td>1146358</td>\n      <td>O</td>\n      <td>ER ห้องฉุกเฉิน</td>\n      <td>ผื่นแดงที่ขาขวา</td>\n      <td>3-4 วัน เป็นผื่นแดงที่ขาขวา เกาแล้วเป็นแผล วัน...</td>\n      <td>เซลล์เนื้อเยื่ออักเสบที่ส่วนอื่นที่แขนขา(Cellu...</td>\n      <td>Dressing wound, HM ATBx, F/U OPD Sx. พรุ่งนี้</td>\n      <td>NaN</td>\n      <td>? affected part: Rt thigh\\r\\n- Skin redness, s...</td>\n      <td>[L03.1] Cellulitis of other parts of limb</td>\n      <td>DRF1222</td>\n      <td>นพ. ศุภกร เทพบำรุง</td>\n    </tr>\n    <tr>\n      <th>11991</th>\n      <td>1146361</td>\n      <td>I</td>\n      <td>ER ห้องฉุกเฉิน</td>\n      <td>ไข้</td>\n      <td>ไข้ 2 วัน ไอเสมหะ ไม่เจ็บคอ มีน้ำมูก กินยา (Pa...</td>\n      <td>ไข้อื่นที่มีลักษณะจำเพาะ(Other specified fever)</td>\n      <td>Swab + Admit IV hydration</td>\n      <td>Covid Ag/ Influenza A/B /RSV / Adenovirus/HMPV...</td>\n      <td>Alert, febrile, no dyspnea, look fatique\\r\\nHE...</td>\n      <td>[J12.3] Human metapneumovirus pneumonia</td>\n      <td>DRF1222</td>\n      <td>นพ. ศุภกร เทพบำรุง</td>\n    </tr>\n  </tbody>\n</table>\n<p>11992 rows × 12 columns</p>\n</div>"
          },
          "metadata": {}
        }
      ],
      "execution_count": null
    },
    {
      "cell_type": "markdown",
      "source": [
        "# IncomeCode"
      ],
      "metadata": {
        "id": "RtVq2C7GcYXD"
      }
    },
    {
      "cell_type": "code",
      "source": [
        "data2 = pd.read_csv('/kaggle/input/hospital/RYH_PatIncom_202412.csv',  encoding='TIS-620')\n",
        "data2"
      ],
      "metadata": {
        "id": "kNH4OT-u4oA9",
        "outputId": "4a283f09-2b39-4708-c302-a6ccccf5124a",
        "trusted": true,
        "execution": {
          "iopub.status.busy": "2025-03-14T07:13:04.331761Z",
          "iopub.execute_input": "2025-03-14T07:13:04.331969Z",
          "iopub.status.idle": "2025-03-14T07:13:04.439556Z",
          "shell.execute_reply.started": "2025-03-14T07:13:04.331951Z",
          "shell.execute_reply": "2025-03-14T07:13:04.438762Z"
        }
      },
      "outputs": [
        {
          "execution_count": 84,
          "output_type": "execute_result",
          "data": {
            "text/plain": "            ID  IncomeCode                                 IncomeCode.1  \\\n0      1125436          76      1.1.12 (6) ค่าบริการการพยาบาลผู้ป่วยนอก   \n1      1127453          92              1.1.14 (1) ค่าบริการชุดเหมาจ่าย   \n2      1132595         104  1.2.1 ค่าตรวจรักษาทั่วไปของผู้ประกอบวิชาชีพ   \n3      1133791           6                    1.1.1 (3) ค่ายาผู้ป่วยนอก   \n4      1133261         140                          2.3 ค่าอาหารผู้ป่วย   \n...        ...         ...                                          ...   \n68332  1144961           6                    1.1.1 (3) ค่ายาผู้ป่วยนอก   \n68333  1132399         104  1.2.1 ค่าตรวจรักษาทั่วไปของผู้ประกอบวิชาชีพ   \n68334  1135920          76      1.1.12 (6) ค่าบริการการพยาบาลผู้ป่วยนอก   \n68335  1129385          92              1.1.14 (1) ค่าบริการชุดเหมาจ่าย   \n68336  1129853           6                    1.1.1 (3) ค่ายาผู้ป่วยนอก   \n\n          Amt  \n0       100.0  \n1       340.0  \n2      1200.0  \n3       336.0  \n4      1400.0  \n...       ...  \n68332   188.0  \n68333   500.0  \n68334   100.0  \n68335   170.0  \n68336   650.0  \n\n[68337 rows x 4 columns]",
            "text/html": "<div>\n<style scoped>\n    .dataframe tbody tr th:only-of-type {\n        vertical-align: middle;\n    }\n\n    .dataframe tbody tr th {\n        vertical-align: top;\n    }\n\n    .dataframe thead th {\n        text-align: right;\n    }\n</style>\n<table border=\"1\" class=\"dataframe\">\n  <thead>\n    <tr style=\"text-align: right;\">\n      <th></th>\n      <th>ID</th>\n      <th>IncomeCode</th>\n      <th>IncomeCode.1</th>\n      <th>Amt</th>\n    </tr>\n  </thead>\n  <tbody>\n    <tr>\n      <th>0</th>\n      <td>1125436</td>\n      <td>76</td>\n      <td>1.1.12 (6) ค่าบริการการพยาบาลผู้ป่วยนอก</td>\n      <td>100.0</td>\n    </tr>\n    <tr>\n      <th>1</th>\n      <td>1127453</td>\n      <td>92</td>\n      <td>1.1.14 (1) ค่าบริการชุดเหมาจ่าย</td>\n      <td>340.0</td>\n    </tr>\n    <tr>\n      <th>2</th>\n      <td>1132595</td>\n      <td>104</td>\n      <td>1.2.1 ค่าตรวจรักษาทั่วไปของผู้ประกอบวิชาชีพ</td>\n      <td>1200.0</td>\n    </tr>\n    <tr>\n      <th>3</th>\n      <td>1133791</td>\n      <td>6</td>\n      <td>1.1.1 (3) ค่ายาผู้ป่วยนอก</td>\n      <td>336.0</td>\n    </tr>\n    <tr>\n      <th>4</th>\n      <td>1133261</td>\n      <td>140</td>\n      <td>2.3 ค่าอาหารผู้ป่วย</td>\n      <td>1400.0</td>\n    </tr>\n    <tr>\n      <th>...</th>\n      <td>...</td>\n      <td>...</td>\n      <td>...</td>\n      <td>...</td>\n    </tr>\n    <tr>\n      <th>68332</th>\n      <td>1144961</td>\n      <td>6</td>\n      <td>1.1.1 (3) ค่ายาผู้ป่วยนอก</td>\n      <td>188.0</td>\n    </tr>\n    <tr>\n      <th>68333</th>\n      <td>1132399</td>\n      <td>104</td>\n      <td>1.2.1 ค่าตรวจรักษาทั่วไปของผู้ประกอบวิชาชีพ</td>\n      <td>500.0</td>\n    </tr>\n    <tr>\n      <th>68334</th>\n      <td>1135920</td>\n      <td>76</td>\n      <td>1.1.12 (6) ค่าบริการการพยาบาลผู้ป่วยนอก</td>\n      <td>100.0</td>\n    </tr>\n    <tr>\n      <th>68335</th>\n      <td>1129385</td>\n      <td>92</td>\n      <td>1.1.14 (1) ค่าบริการชุดเหมาจ่าย</td>\n      <td>170.0</td>\n    </tr>\n    <tr>\n      <th>68336</th>\n      <td>1129853</td>\n      <td>6</td>\n      <td>1.1.1 (3) ค่ายาผู้ป่วยนอก</td>\n      <td>650.0</td>\n    </tr>\n  </tbody>\n</table>\n<p>68337 rows × 4 columns</p>\n</div>"
          },
          "metadata": {}
        }
      ],
      "execution_count": null
    },
    {
      "cell_type": "code",
      "source": [
        "# เช็ค unique และนับจำนวนแต่ละค่า\n",
        "unique_counts = data2['IncomeCode'].value_counts()\n",
        "\n",
        "print(unique_counts)"
      ],
      "metadata": {
        "id": "IkeUulyCFi2B",
        "outputId": "077a6f66-e493-45f0-c141-6282d7197e80",
        "trusted": true,
        "execution": {
          "iopub.status.busy": "2025-03-14T07:13:04.440378Z",
          "iopub.execute_input": "2025-03-14T07:13:04.440588Z",
          "iopub.status.idle": "2025-03-14T07:13:04.4469Z",
          "shell.execute_reply.started": "2025-03-14T07:13:04.440569Z",
          "shell.execute_reply": "2025-03-14T07:13:04.44612Z"
        }
      },
      "outputs": [
        {
          "name": "stdout",
          "text": "IncomeCode\n104    9733\n94     8924\n76     8916\n6      8453\n13     3079\n       ... \n69        2\n78        2\n143       1\n0         1\n129       1\nName: count, Length: 72, dtype: int64\n",
          "output_type": "stream"
        }
      ],
      "execution_count": null
    },
    {
      "cell_type": "code",
      "source": [
        "# Pivot ข้อมูลให้ IncomeCode แต่ละตัวเป็นคอลัมน์\n",
        "pivot_data = data2.pivot(index=\"ID\", columns=\"IncomeCode\", values=\"Amt\").reset_index()\n",
        "\n",
        "# เปลี่ยนชื่อคอลัมน์ให้อ่านง่ายขึ้น\n",
        "pivot_data.columns = [\"ID\"] + [f\"Amt_{int(code)}\" for code in pivot_data.columns[1:]]\n",
        "\n",
        "# แทนค่าที่เป็น NaN (ไม่มีค่ารักษานั้น) ด้วย 0\n",
        "pivot_data.fillna(0, inplace=True)\n"
      ],
      "metadata": {
        "id": "_kGz6MthOSFK",
        "trusted": true,
        "execution": {
          "iopub.status.busy": "2025-03-14T07:13:04.447681Z",
          "iopub.execute_input": "2025-03-14T07:13:04.447953Z",
          "iopub.status.idle": "2025-03-14T07:13:04.4964Z",
          "shell.execute_reply.started": "2025-03-14T07:13:04.44792Z",
          "shell.execute_reply": "2025-03-14T07:13:04.495683Z"
        }
      },
      "outputs": [],
      "execution_count": null
    },
    {
      "cell_type": "code",
      "source": [
        "df_merged = data1.merge(pivot_data, on='ID', how='left')\n",
        "df_test = data1.merge(pivot_data, on='ID', how='left')\n",
        "df_merged"
      ],
      "metadata": {
        "id": "xtiFz8XxTcNp",
        "outputId": "1bf277a2-afa3-4f76-ef23-cb7510b4d963",
        "trusted": true,
        "execution": {
          "iopub.status.busy": "2025-03-14T07:13:04.497353Z",
          "iopub.execute_input": "2025-03-14T07:13:04.49769Z",
          "iopub.status.idle": "2025-03-14T07:13:04.544954Z",
          "shell.execute_reply.started": "2025-03-14T07:13:04.497656Z",
          "shell.execute_reply": "2025-03-14T07:13:04.544026Z"
        }
      },
      "outputs": [
        {
          "name": "stderr",
          "text": "/usr/local/lib/python3.10/dist-packages/pandas/io/formats/format.py:1458: RuntimeWarning: invalid value encountered in greater\n  has_large_values = (abs_vals > 1e6).any()\n/usr/local/lib/python3.10/dist-packages/pandas/io/formats/format.py:1459: RuntimeWarning: invalid value encountered in less\n  has_small_values = ((abs_vals < 10 ** (-self.digits)) & (abs_vals > 0)).any()\n/usr/local/lib/python3.10/dist-packages/pandas/io/formats/format.py:1459: RuntimeWarning: invalid value encountered in greater\n  has_small_values = ((abs_vals < 10 ** (-self.digits)) & (abs_vals > 0)).any()\n/usr/local/lib/python3.10/dist-packages/pandas/io/formats/format.py:1458: RuntimeWarning: invalid value encountered in greater\n  has_large_values = (abs_vals > 1e6).any()\n/usr/local/lib/python3.10/dist-packages/pandas/io/formats/format.py:1459: RuntimeWarning: invalid value encountered in less\n  has_small_values = ((abs_vals < 10 ** (-self.digits)) & (abs_vals > 0)).any()\n/usr/local/lib/python3.10/dist-packages/pandas/io/formats/format.py:1459: RuntimeWarning: invalid value encountered in greater\n  has_small_values = ((abs_vals < 10 ** (-self.digits)) & (abs_vals > 0)).any()\n",
          "output_type": "stream"
        },
        {
          "execution_count": 87,
          "output_type": "execute_result",
          "data": {
            "text/plain": "            ID OcmPatTyp               NurseStation  \\\n0       608768         O           SKIN ห้องผิวหนัง   \n1       886211         O  CheckUp Center ตรวจสุขภาพ   \n2       890749         O               PED ห้องเด็ก   \n3       890751         O               PED ห้องเด็ก   \n4       894455         O               PED ห้องเด็ก   \n...        ...       ...                        ...   \n11987  1146347         O             ER ห้องฉุกเฉิน   \n11988  1146352         O             ER ห้องฉุกเฉิน   \n11989  1146357         O             ER ห้องฉุกเฉิน   \n11990  1146358         O             ER ห้องฉุกเฉิน   \n11991  1146361         I             ER ห้องฉุกเฉิน   \n\n                               CC  \\\n0                  เกลื้อนที่หลัง   \n1                ตรวจสุขภาพบริษัท   \n2                          วัคซีน   \n3                          วัคซีน   \n4      วัคซีน ไม่เอาสมุดวัคซีนมา    \n...                           ...   \n11987                   ไอ เจ็บคอ   \n11988  ลื่นล้ม ปวดเข่า2ข้าง มีแผล   \n11989             ล้ม ปวดเท้าซ้าย   \n11990             ผื่นแดงที่ขาขวา   \n11991                        ไข้    \n\n                                                      Pi  \\\n0           มีผื่นขาวที่หลัง ต้นแขนใหม่ คันเวลาเหงื่อออก   \n1                                                    NaN   \n2                                              แข็งแรงดี   \n3                                              แข็งแรงดี   \n4      ป5 รร อนุบาลนครหาดใหญ่ เรียนดี nutrition ดี \\r...   \n...                                                  ...   \n11987   2 วัน ไข้ ไอแห้งๆ ไม่มีน้ำมูก ไม่เหนื่อย เจ็บคอ    \n11988  15.00 น ลื่นล้มมีแผลถลอกที่ข้อเข่าทั้งสองข้าง ...   \n11989  ลื่นล้ม ข้อเท้าพลิก ปวดเท้าซ้าย เดินลงน้ำหนักไ...   \n11990  3-4 วัน เป็นผื่นแดงที่ขาขวา เกาแล้วเป็นแผล วัน...   \n11991  ไข้ 2 วัน ไอเสมหะ ไม่เจ็บคอ มีน้ำมูก กินยา (Pa...   \n\n                                                    Diag  \\\n0                         เกลื้อน(Pityriasis versicolor)   \n1      การตรวจทั่วไปและสืบค้นโรคในบุคคลที่ไม่มีอาการผ...   \n2      ต้องการก่อภูมิคุ้มกันต่อโรคไข้หวัดใหญ่(Need fo...   \n3      ต้องการก่อภูมิคุ้มกันต่อโรคไข้หวัดใหญ่(Need fo...   \n4      ต้องการก่อภูมิคุ้มกันต่อโรคไข้หวัดใหญ่(Need fo...   \n...                                                  ...   \n11987            คอหอยอักเสบเฉียบพลัน(Acute pharyngitis)   \n11988  การถลอกที่เข่าและขาท่อนปลาย(Abrasion of knee a...   \n11989  การเคลื่อน แพลง และเคล็ดของข้อและเอ็นที่ระดับข...   \n11990  เซลล์เนื้อเยื่ออักเสบที่ส่วนอื่นที่แขนขา(Cellu...   \n11991    ไข้อื่นที่มีลักษณะจำเพาะ(Other specified fever)   \n\n                                                    Plan  \\\n0                                                    NaN   \n1                                                    NaN   \n2                                         Influvac tetra   \n3                                         Influvac tetra   \n4                         advice side effect of vaccine    \n...                                                  ...   \n11987                                                med   \n11988  =dressing wound od >> f/U 2/1/68 13.00 น \\r\\n=...   \n11989  - Film: no Fx >> ankle spraing Gr.2\\r\\n- on sh...   \n11990      Dressing wound, HM ATBx, F/U OPD Sx. พรุ่งนี้   \n11991                          Swab + Admit IV hydration   \n\n                                                     Inv  \\\n0                                                    NaN   \n1      CBC, UA (Urine Analysis), FBS, BUN, Creatinine...   \n2                                                    NaN   \n3                                                    NaN   \n4                                                    NaN   \n...                                                  ...   \n11987                                                NaN   \n11988                                                NaN   \n11989  Ankle / AP, LAT, Mortise (Left): not see fracture   \n11990                                                NaN   \n11991  Covid Ag/ Influenza A/B /RSV / Adenovirus/HMPV...   \n\n                                                  PEtext  \\\n0      hypopigmented macule with fine scale at back a...   \n1                                                    NaN   \n2        Chest: Normal, Heart: Normal, Abdomen: Normal,    \n3                         Chest: Normal, Heart: Normal,    \n4      active \\r\\nheart no murmur \\r\\nlung clear\\r\\na...   \n...                                                  ...   \n11987  good concious\\r\\nHEENT : not pale , no Jx , ph...   \n11988  Trauma PE\\r\\nHead / Face: no wound\\r\\nNeck: no...   \n11989  ? affected part: Lt ankle\\r\\n- swelling and te...   \n11990  ? affected part: Rt thigh\\r\\n- Skin redness, s...   \n11991  Alert, febrile, no dyspnea, look fatique\\r\\nHE...   \n\n                                                   ICD10  ... Amt_140 Amt_142  \\\n0                          [B36.0] Pityriasis versicolor  ...     NaN     NaN   \n1      [Z00] General examination and investigation of...  ...     NaN     NaN   \n2        [Z25.1] Need for immunization against influenza  ...     0.0     0.0   \n3        [Z25.1] Need for immunization against influenza  ...     0.0     0.0   \n4        [Z25.1] Need for immunization against influenza  ...     0.0     0.0   \n...                                                  ...  ...     ...     ...   \n11987                            [J02] Acute pharyngitis  ...     0.0     0.0   \n11988             [S80.80] Abrasion of knee and leg (TM)  ...     0.0     0.0   \n11989  [S93] Dislocation, sprain and strain of joints...  ...     0.0     0.0   \n11990          [L03.1] Cellulitis of other parts of limb  ...     0.0     0.0   \n11991            [J12.3] Human metapneumovirus pneumonia  ...     NaN     NaN   \n\n       Amt_143  Amt_145  Amt_156  Amt_157  Amt_159  Amt_160  Amt_166  Amt_175  \n0          NaN      NaN      NaN      NaN      NaN      NaN      NaN      NaN  \n1          NaN      NaN      NaN      NaN      NaN      NaN      NaN      NaN  \n2          0.0      0.0      0.0      0.0      0.0      0.0      0.0      0.0  \n3          0.0      0.0      0.0      0.0      0.0      0.0      0.0      0.0  \n4          0.0      0.0      0.0      0.0      0.0      0.0      0.0      0.0  \n...        ...      ...      ...      ...      ...      ...      ...      ...  \n11987      0.0      0.0      0.0      0.0      0.0      0.0      0.0      0.0  \n11988      0.0      0.0      0.0      0.0      0.0      0.0      0.0      0.0  \n11989      0.0      0.0      0.0      0.0      0.0      0.0      0.0      0.0  \n11990      0.0      0.0      0.0      0.0      0.0      0.0      0.0      0.0  \n11991      NaN      NaN      NaN      NaN      NaN      NaN      NaN      NaN  \n\n[11992 rows x 84 columns]",
            "text/html": "<div>\n<style scoped>\n    .dataframe tbody tr th:only-of-type {\n        vertical-align: middle;\n    }\n\n    .dataframe tbody tr th {\n        vertical-align: top;\n    }\n\n    .dataframe thead th {\n        text-align: right;\n    }\n</style>\n<table border=\"1\" class=\"dataframe\">\n  <thead>\n    <tr style=\"text-align: right;\">\n      <th></th>\n      <th>ID</th>\n      <th>OcmPatTyp</th>\n      <th>NurseStation</th>\n      <th>CC</th>\n      <th>Pi</th>\n      <th>Diag</th>\n      <th>Plan</th>\n      <th>Inv</th>\n      <th>PEtext</th>\n      <th>ICD10</th>\n      <th>...</th>\n      <th>Amt_140</th>\n      <th>Amt_142</th>\n      <th>Amt_143</th>\n      <th>Amt_145</th>\n      <th>Amt_156</th>\n      <th>Amt_157</th>\n      <th>Amt_159</th>\n      <th>Amt_160</th>\n      <th>Amt_166</th>\n      <th>Amt_175</th>\n    </tr>\n  </thead>\n  <tbody>\n    <tr>\n      <th>0</th>\n      <td>608768</td>\n      <td>O</td>\n      <td>SKIN ห้องผิวหนัง</td>\n      <td>เกลื้อนที่หลัง</td>\n      <td>มีผื่นขาวที่หลัง ต้นแขนใหม่ คันเวลาเหงื่อออก</td>\n      <td>เกลื้อน(Pityriasis versicolor)</td>\n      <td>NaN</td>\n      <td>NaN</td>\n      <td>hypopigmented macule with fine scale at back a...</td>\n      <td>[B36.0] Pityriasis versicolor</td>\n      <td>...</td>\n      <td>NaN</td>\n      <td>NaN</td>\n      <td>NaN</td>\n      <td>NaN</td>\n      <td>NaN</td>\n      <td>NaN</td>\n      <td>NaN</td>\n      <td>NaN</td>\n      <td>NaN</td>\n      <td>NaN</td>\n    </tr>\n    <tr>\n      <th>1</th>\n      <td>886211</td>\n      <td>O</td>\n      <td>CheckUp Center ตรวจสุขภาพ</td>\n      <td>ตรวจสุขภาพบริษัท</td>\n      <td>NaN</td>\n      <td>การตรวจทั่วไปและสืบค้นโรคในบุคคลที่ไม่มีอาการผ...</td>\n      <td>NaN</td>\n      <td>CBC, UA (Urine Analysis), FBS, BUN, Creatinine...</td>\n      <td>NaN</td>\n      <td>[Z00] General examination and investigation of...</td>\n      <td>...</td>\n      <td>NaN</td>\n      <td>NaN</td>\n      <td>NaN</td>\n      <td>NaN</td>\n      <td>NaN</td>\n      <td>NaN</td>\n      <td>NaN</td>\n      <td>NaN</td>\n      <td>NaN</td>\n      <td>NaN</td>\n    </tr>\n    <tr>\n      <th>2</th>\n      <td>890749</td>\n      <td>O</td>\n      <td>PED ห้องเด็ก</td>\n      <td>วัคซีน</td>\n      <td>แข็งแรงดี</td>\n      <td>ต้องการก่อภูมิคุ้มกันต่อโรคไข้หวัดใหญ่(Need fo...</td>\n      <td>Influvac tetra</td>\n      <td>NaN</td>\n      <td>Chest: Normal, Heart: Normal, Abdomen: Normal,</td>\n      <td>[Z25.1] Need for immunization against influenza</td>\n      <td>...</td>\n      <td>0.0</td>\n      <td>0.0</td>\n      <td>0.0</td>\n      <td>0.0</td>\n      <td>0.0</td>\n      <td>0.0</td>\n      <td>0.0</td>\n      <td>0.0</td>\n      <td>0.0</td>\n      <td>0.0</td>\n    </tr>\n    <tr>\n      <th>3</th>\n      <td>890751</td>\n      <td>O</td>\n      <td>PED ห้องเด็ก</td>\n      <td>วัคซีน</td>\n      <td>แข็งแรงดี</td>\n      <td>ต้องการก่อภูมิคุ้มกันต่อโรคไข้หวัดใหญ่(Need fo...</td>\n      <td>Influvac tetra</td>\n      <td>NaN</td>\n      <td>Chest: Normal, Heart: Normal,</td>\n      <td>[Z25.1] Need for immunization against influenza</td>\n      <td>...</td>\n      <td>0.0</td>\n      <td>0.0</td>\n      <td>0.0</td>\n      <td>0.0</td>\n      <td>0.0</td>\n      <td>0.0</td>\n      <td>0.0</td>\n      <td>0.0</td>\n      <td>0.0</td>\n      <td>0.0</td>\n    </tr>\n    <tr>\n      <th>4</th>\n      <td>894455</td>\n      <td>O</td>\n      <td>PED ห้องเด็ก</td>\n      <td>วัคซีน ไม่เอาสมุดวัคซีนมา</td>\n      <td>ป5 รร อนุบาลนครหาดใหญ่ เรียนดี nutrition ดี \\r...</td>\n      <td>ต้องการก่อภูมิคุ้มกันต่อโรคไข้หวัดใหญ่(Need fo...</td>\n      <td>advice side effect of vaccine</td>\n      <td>NaN</td>\n      <td>active \\r\\nheart no murmur \\r\\nlung clear\\r\\na...</td>\n      <td>[Z25.1] Need for immunization against influenza</td>\n      <td>...</td>\n      <td>0.0</td>\n      <td>0.0</td>\n      <td>0.0</td>\n      <td>0.0</td>\n      <td>0.0</td>\n      <td>0.0</td>\n      <td>0.0</td>\n      <td>0.0</td>\n      <td>0.0</td>\n      <td>0.0</td>\n    </tr>\n    <tr>\n      <th>...</th>\n      <td>...</td>\n      <td>...</td>\n      <td>...</td>\n      <td>...</td>\n      <td>...</td>\n      <td>...</td>\n      <td>...</td>\n      <td>...</td>\n      <td>...</td>\n      <td>...</td>\n      <td>...</td>\n      <td>...</td>\n      <td>...</td>\n      <td>...</td>\n      <td>...</td>\n      <td>...</td>\n      <td>...</td>\n      <td>...</td>\n      <td>...</td>\n      <td>...</td>\n      <td>...</td>\n    </tr>\n    <tr>\n      <th>11987</th>\n      <td>1146347</td>\n      <td>O</td>\n      <td>ER ห้องฉุกเฉิน</td>\n      <td>ไอ เจ็บคอ</td>\n      <td>2 วัน ไข้ ไอแห้งๆ ไม่มีน้ำมูก ไม่เหนื่อย เจ็บคอ</td>\n      <td>คอหอยอักเสบเฉียบพลัน(Acute pharyngitis)</td>\n      <td>med</td>\n      <td>NaN</td>\n      <td>good concious\\r\\nHEENT : not pale , no Jx , ph...</td>\n      <td>[J02] Acute pharyngitis</td>\n      <td>...</td>\n      <td>0.0</td>\n      <td>0.0</td>\n      <td>0.0</td>\n      <td>0.0</td>\n      <td>0.0</td>\n      <td>0.0</td>\n      <td>0.0</td>\n      <td>0.0</td>\n      <td>0.0</td>\n      <td>0.0</td>\n    </tr>\n    <tr>\n      <th>11988</th>\n      <td>1146352</td>\n      <td>O</td>\n      <td>ER ห้องฉุกเฉิน</td>\n      <td>ลื่นล้ม ปวดเข่า2ข้าง มีแผล</td>\n      <td>15.00 น ลื่นล้มมีแผลถลอกที่ข้อเข่าทั้งสองข้าง ...</td>\n      <td>การถลอกที่เข่าและขาท่อนปลาย(Abrasion of knee a...</td>\n      <td>=dressing wound od &gt;&gt; f/U 2/1/68 13.00 น \\r\\n=...</td>\n      <td>NaN</td>\n      <td>Trauma PE\\r\\nHead / Face: no wound\\r\\nNeck: no...</td>\n      <td>[S80.80] Abrasion of knee and leg (TM)</td>\n      <td>...</td>\n      <td>0.0</td>\n      <td>0.0</td>\n      <td>0.0</td>\n      <td>0.0</td>\n      <td>0.0</td>\n      <td>0.0</td>\n      <td>0.0</td>\n      <td>0.0</td>\n      <td>0.0</td>\n      <td>0.0</td>\n    </tr>\n    <tr>\n      <th>11989</th>\n      <td>1146357</td>\n      <td>O</td>\n      <td>ER ห้องฉุกเฉิน</td>\n      <td>ล้ม ปวดเท้าซ้าย</td>\n      <td>ลื่นล้ม ข้อเท้าพลิก ปวดเท้าซ้าย เดินลงน้ำหนักไ...</td>\n      <td>การเคลื่อน แพลง และเคล็ดของข้อและเอ็นที่ระดับข...</td>\n      <td>- Film: no Fx &gt;&gt; ankle spraing Gr.2\\r\\n- on sh...</td>\n      <td>Ankle / AP, LAT, Mortise (Left): not see fracture</td>\n      <td>? affected part: Lt ankle\\r\\n- swelling and te...</td>\n      <td>[S93] Dislocation, sprain and strain of joints...</td>\n      <td>...</td>\n      <td>0.0</td>\n      <td>0.0</td>\n      <td>0.0</td>\n      <td>0.0</td>\n      <td>0.0</td>\n      <td>0.0</td>\n      <td>0.0</td>\n      <td>0.0</td>\n      <td>0.0</td>\n      <td>0.0</td>\n    </tr>\n    <tr>\n      <th>11990</th>\n      <td>1146358</td>\n      <td>O</td>\n      <td>ER ห้องฉุกเฉิน</td>\n      <td>ผื่นแดงที่ขาขวา</td>\n      <td>3-4 วัน เป็นผื่นแดงที่ขาขวา เกาแล้วเป็นแผล วัน...</td>\n      <td>เซลล์เนื้อเยื่ออักเสบที่ส่วนอื่นที่แขนขา(Cellu...</td>\n      <td>Dressing wound, HM ATBx, F/U OPD Sx. พรุ่งนี้</td>\n      <td>NaN</td>\n      <td>? affected part: Rt thigh\\r\\n- Skin redness, s...</td>\n      <td>[L03.1] Cellulitis of other parts of limb</td>\n      <td>...</td>\n      <td>0.0</td>\n      <td>0.0</td>\n      <td>0.0</td>\n      <td>0.0</td>\n      <td>0.0</td>\n      <td>0.0</td>\n      <td>0.0</td>\n      <td>0.0</td>\n      <td>0.0</td>\n      <td>0.0</td>\n    </tr>\n    <tr>\n      <th>11991</th>\n      <td>1146361</td>\n      <td>I</td>\n      <td>ER ห้องฉุกเฉิน</td>\n      <td>ไข้</td>\n      <td>ไข้ 2 วัน ไอเสมหะ ไม่เจ็บคอ มีน้ำมูก กินยา (Pa...</td>\n      <td>ไข้อื่นที่มีลักษณะจำเพาะ(Other specified fever)</td>\n      <td>Swab + Admit IV hydration</td>\n      <td>Covid Ag/ Influenza A/B /RSV / Adenovirus/HMPV...</td>\n      <td>Alert, febrile, no dyspnea, look fatique\\r\\nHE...</td>\n      <td>[J12.3] Human metapneumovirus pneumonia</td>\n      <td>...</td>\n      <td>NaN</td>\n      <td>NaN</td>\n      <td>NaN</td>\n      <td>NaN</td>\n      <td>NaN</td>\n      <td>NaN</td>\n      <td>NaN</td>\n      <td>NaN</td>\n      <td>NaN</td>\n      <td>NaN</td>\n    </tr>\n  </tbody>\n</table>\n<p>11992 rows × 84 columns</p>\n</div>"
          },
          "metadata": {}
        }
      ],
      "execution_count": null
    },
    {
      "cell_type": "code",
      "source": [
        "print(data1.dtypes)\n",
        "print(data2.dtypes)"
      ],
      "metadata": {
        "id": "M9d7TPx6NmaN",
        "outputId": "5969a2a6-4544-4121-82fe-f860f08ea52b",
        "trusted": true,
        "execution": {
          "iopub.status.busy": "2025-03-14T07:13:04.545862Z",
          "iopub.execute_input": "2025-03-14T07:13:04.546191Z",
          "iopub.status.idle": "2025-03-14T07:13:04.551595Z",
          "shell.execute_reply.started": "2025-03-14T07:13:04.546155Z",
          "shell.execute_reply": "2025-03-14T07:13:04.550834Z"
        }
      },
      "outputs": [
        {
          "name": "stdout",
          "text": "ID               int64\nOcmPatTyp       object\nNurseStation    object\nCC              object\nPi              object\nDiag            object\nPlan            object\nInv             object\nPEtext          object\nICD10           object\nPhyDtrCod       object\ndocname         object\ndtype: object\nID                int64\nIncomeCode        int64\nIncomeCode.1     object\nAmt             float64\ndtype: object\n",
          "output_type": "stream"
        }
      ],
      "execution_count": null
    },
    {
      "cell_type": "code",
      "source": [
        "pivot_data[pivot_data['ID']==1133791]"
      ],
      "metadata": {
        "id": "Qfd9Kgjf5DhD",
        "outputId": "89ff4ab4-a795-4493-f424-0e6089691738",
        "trusted": true,
        "execution": {
          "iopub.status.busy": "2025-03-14T07:13:04.552292Z",
          "iopub.execute_input": "2025-03-14T07:13:04.552538Z",
          "iopub.status.idle": "2025-03-14T07:13:04.576522Z",
          "shell.execute_reply.started": "2025-03-14T07:13:04.552516Z",
          "shell.execute_reply": "2025-03-14T07:13:04.575855Z"
        }
      },
      "outputs": [
        {
          "execution_count": 89,
          "output_type": "execute_result",
          "data": {
            "text/plain": "           ID  Amt_0  Amt_4  Amt_5  Amt_6  Amt_7  Amt_13  Amt_14  Amt_15  \\\n5745  1133791    0.0    0.0    0.0  336.0    0.0     0.0     0.0     0.0   \n\n      Amt_16  ...  Amt_140  Amt_142  Amt_143  Amt_145  Amt_156  Amt_157  \\\n5745     0.0  ...      0.0      0.0      0.0      0.0      0.0      0.0   \n\n      Amt_159  Amt_160  Amt_166  Amt_175  \n5745      0.0      0.0      0.0      0.0  \n\n[1 rows x 73 columns]",
            "text/html": "<div>\n<style scoped>\n    .dataframe tbody tr th:only-of-type {\n        vertical-align: middle;\n    }\n\n    .dataframe tbody tr th {\n        vertical-align: top;\n    }\n\n    .dataframe thead th {\n        text-align: right;\n    }\n</style>\n<table border=\"1\" class=\"dataframe\">\n  <thead>\n    <tr style=\"text-align: right;\">\n      <th></th>\n      <th>ID</th>\n      <th>Amt_0</th>\n      <th>Amt_4</th>\n      <th>Amt_5</th>\n      <th>Amt_6</th>\n      <th>Amt_7</th>\n      <th>Amt_13</th>\n      <th>Amt_14</th>\n      <th>Amt_15</th>\n      <th>Amt_16</th>\n      <th>...</th>\n      <th>Amt_140</th>\n      <th>Amt_142</th>\n      <th>Amt_143</th>\n      <th>Amt_145</th>\n      <th>Amt_156</th>\n      <th>Amt_157</th>\n      <th>Amt_159</th>\n      <th>Amt_160</th>\n      <th>Amt_166</th>\n      <th>Amt_175</th>\n    </tr>\n  </thead>\n  <tbody>\n    <tr>\n      <th>5745</th>\n      <td>1133791</td>\n      <td>0.0</td>\n      <td>0.0</td>\n      <td>0.0</td>\n      <td>336.0</td>\n      <td>0.0</td>\n      <td>0.0</td>\n      <td>0.0</td>\n      <td>0.0</td>\n      <td>0.0</td>\n      <td>...</td>\n      <td>0.0</td>\n      <td>0.0</td>\n      <td>0.0</td>\n      <td>0.0</td>\n      <td>0.0</td>\n      <td>0.0</td>\n      <td>0.0</td>\n      <td>0.0</td>\n      <td>0.0</td>\n      <td>0.0</td>\n    </tr>\n  </tbody>\n</table>\n<p>1 rows × 73 columns</p>\n</div>"
          },
          "metadata": {}
        }
      ],
      "execution_count": null
    },
    {
      "cell_type": "code",
      "source": [
        "data2[data2['ID']==1133791]"
      ],
      "metadata": {
        "id": "qFCdnAUXDtS5",
        "outputId": "8d0843ef-a8c3-479a-ebe3-39fddfae59db",
        "trusted": true,
        "execution": {
          "iopub.status.busy": "2025-03-14T07:13:04.577315Z",
          "iopub.execute_input": "2025-03-14T07:13:04.577545Z",
          "iopub.status.idle": "2025-03-14T07:13:04.591582Z",
          "shell.execute_reply.started": "2025-03-14T07:13:04.577526Z",
          "shell.execute_reply": "2025-03-14T07:13:04.590886Z"
        }
      },
      "outputs": [
        {
          "execution_count": 90,
          "output_type": "execute_result",
          "data": {
            "text/plain": "            ID  IncomeCode                                 IncomeCode.1    Amt\n3      1133791           6                    1.1.1 (3) ค่ายาผู้ป่วยนอก  336.0\n22538  1133791         104  1.2.1 ค่าตรวจรักษาทั่วไปของผู้ประกอบวิชาชีพ  600.0\n30468  1133791          76      1.1.12 (6) ค่าบริการการพยาบาลผู้ป่วยนอก  100.0\n54155  1133791          94   1.1.14 (2.1) ค่าบริการโรงพยาบาล ผู้ป่วยนอก  100.0",
            "text/html": "<div>\n<style scoped>\n    .dataframe tbody tr th:only-of-type {\n        vertical-align: middle;\n    }\n\n    .dataframe tbody tr th {\n        vertical-align: top;\n    }\n\n    .dataframe thead th {\n        text-align: right;\n    }\n</style>\n<table border=\"1\" class=\"dataframe\">\n  <thead>\n    <tr style=\"text-align: right;\">\n      <th></th>\n      <th>ID</th>\n      <th>IncomeCode</th>\n      <th>IncomeCode.1</th>\n      <th>Amt</th>\n    </tr>\n  </thead>\n  <tbody>\n    <tr>\n      <th>3</th>\n      <td>1133791</td>\n      <td>6</td>\n      <td>1.1.1 (3) ค่ายาผู้ป่วยนอก</td>\n      <td>336.0</td>\n    </tr>\n    <tr>\n      <th>22538</th>\n      <td>1133791</td>\n      <td>104</td>\n      <td>1.2.1 ค่าตรวจรักษาทั่วไปของผู้ประกอบวิชาชีพ</td>\n      <td>600.0</td>\n    </tr>\n    <tr>\n      <th>30468</th>\n      <td>1133791</td>\n      <td>76</td>\n      <td>1.1.12 (6) ค่าบริการการพยาบาลผู้ป่วยนอก</td>\n      <td>100.0</td>\n    </tr>\n    <tr>\n      <th>54155</th>\n      <td>1133791</td>\n      <td>94</td>\n      <td>1.1.14 (2.1) ค่าบริการโรงพยาบาล ผู้ป่วยนอก</td>\n      <td>100.0</td>\n    </tr>\n  </tbody>\n</table>\n</div>"
          },
          "metadata": {}
        }
      ],
      "execution_count": null
    },
    {
      "cell_type": "code",
      "source": [
        "# แยก DataFrame ตามคอลัมน์ 'NurseStation'\n",
        "dfs = {category: group for category, group in df_merged.groupby('NurseStation')}\n",
        "\n",
        "# เรียกดู DataFrame ของ NurseStation\n",
        "dfs['OPD ทั่วไป']\n",
        "dfs['PED ห้องเด็ก']"
      ],
      "metadata": {
        "id": "7QXn6JTviQJP",
        "outputId": "8ae8d904-90c9-4af1-ebcd-7e53ae44df2d",
        "trusted": true,
        "execution": {
          "iopub.status.busy": "2025-03-14T07:13:04.592378Z",
          "iopub.execute_input": "2025-03-14T07:13:04.592658Z",
          "iopub.status.idle": "2025-03-14T07:13:04.63092Z",
          "shell.execute_reply.started": "2025-03-14T07:13:04.592628Z",
          "shell.execute_reply": "2025-03-14T07:13:04.630274Z"
        }
      },
      "outputs": [
        {
          "execution_count": 91,
          "output_type": "execute_result",
          "data": {
            "text/plain": "            ID OcmPatTyp  NurseStation                                   CC  \\\n2       890749         O  PED ห้องเด็ก                               วัคซีน   \n3       890751         O  PED ห้องเด็ก                               วัคซีน   \n4       894455         O  PED ห้องเด็ก           วัคซีน ไม่เอาสมุดวัคซีนมา    \n5       897083         O  PED ห้องเด็ก              นัดรับวัคซีนไข้หวัดใหญ่   \n6       899666         O  PED ห้องเด็ก                          มารับวัคซีน   \n...        ...       ...           ...                                  ...   \n11962  1146306         O  PED ห้องเด็ก                 เจ็บหูด้านซ้ายวันนี้   \n11965  1146312         O  PED ห้องเด็ก                  ปวดศรีษะ ไอมา 4 วัน   \n11967  1146318         O  PED ห้องเด็ก          เจ็บคอ ปวดศีรษะ ไข้มา 3 วัน   \n11972  1146327         O  PED ห้องเด็ก                            ไข้ 1 วัน   \n11973  1146328         O  PED ห้องเด็ก  ไข้ ไอ มา 4 วัน ทานยาลดไข้สูง16.00น   \n\n                                                      Pi  \\\n2                                              แข็งแรงดี   \n3                                              แข็งแรงดี   \n4      ป5 รร อนุบาลนครหาดใหญ่ เรียนดี nutrition ดี \\r...   \n5                   มารับวัคซีน ไอเล็กน้อย ไม่มีไข้ \\r\\n   \n6                                              แข็งแรงดี   \n...                                                  ...   \n11962                  วันนี้เจ็บหูซ้าย ไอ น้ำมูก ไม่ไข้   \n11965  4 วันก่อน ไข้ต่ำๆ น้ำมูก ไอมีเสมหะ ไม่มีอาเจีย...   \n11967  3 วันก่อน ไข้ต่ำๆ เจ็บคอ น้ำมูก ไม่ไอ ไม่มีอาเ...   \n11972        1 วัน ไข้สูง 39*C ไอ น้ำมูก คัดจมูก กินน้อย   \n11973  4 วันก่อน ไข้ต่ำ ๆ ปวดท้อง  อาเจียน 1 ครั้ง ถ่...   \n\n                                                    Diag  \\\n2      ต้องการก่อภูมิคุ้มกันต่อโรคไข้หวัดใหญ่(Need fo...   \n3      ต้องการก่อภูมิคุ้มกันต่อโรคไข้หวัดใหญ่(Need fo...   \n4      ต้องการก่อภูมิคุ้มกันต่อโรคไข้หวัดใหญ่(Need fo...   \n5      ต้องการก่อภูมิคุ้มกันต่อโรคไข้หวัดใหญ่(Need fo...   \n6      ต้องการก่อภูมิคุ้มกันต่อโรคไข้หวัดใหญ่(Need fo...   \n...                                                  ...   \n11962  หูชั้นกลางอักเสบ ไม่ระบุรายละเอียด(Otitis medi...   \n11965  คอหอยส่วนจมูกอักเสบเฉียบพลัน (ไข้หวัด)(Acute n...   \n11967            คอหอยอักเสบเฉียบพลัน(Acute pharyngitis)   \n11972  การติดเชื้อทางเดินหายใจส่วนบนเฉียบพลัน ไม่ระบุ...   \n11973          ไข้ ไม่ระบุรายละเอียด(Fever, unspecified)   \n\n                                                    Plan  \\\n2                                         Influvac tetra   \n3                                         Influvac tetra   \n4                         advice side effect of vaccine    \n5                            influenza vaccine\\r\\nyearly   \n6                                               นัด 1 ปี   \n...                                                  ...   \n11962                                          Augmentin   \n11965                               supportive treatment   \n11967             supportive treatment\\r\\nglycerin borax   \n11972                                          Zithromax   \n11973  nsp swab for flu, RSV, covid-19: all neg\\r\\nsu...   \n\n                                                     Inv  \\\n2                                                    NaN   \n3                                                    NaN   \n4                                                    NaN   \n5                                                    NaN   \n6                                                    NaN   \n...                                                  ...   \n11962                                                NaN   \n11965                                                NaN   \n11967                                                NaN   \n11972  Covid Ag/ Influenza A/B /RSV / Adenovirus/HMPV...   \n11973                       Covid Ag/ Influenza A/B /RSV   \n\n                                                  PEtext  \\\n2        Chest: Normal, Heart: Normal, Abdomen: Normal,    \n3                         Chest: Normal, Heart: Normal,    \n4      active \\r\\nheart no murmur \\r\\nlung clear\\r\\na...   \n5      General: active, Chest: clear, Heart: normal S...   \n6                         Chest: Normal, Heart: Normal,    \n...                                                  ...   \n11962  Lt ear: impacted cerumen, cannot seen TM, no p...   \n11965  active, no drylips\\r\\nHEENT: clear nasal D/C, ...   \n11967  active, no drylips\\r\\nHEENT: no nasal D/C, no ...   \n11972  injected pharynx, no ulcers\\r\\nheart: no murmu...   \n11973  active, no drylips\\r\\nHEENT: old blood clot at...   \n\n                                                   ICD10  ... Amt_140 Amt_142  \\\n2        [Z25.1] Need for immunization against influenza  ...     0.0     0.0   \n3        [Z25.1] Need for immunization against influenza  ...     0.0     0.0   \n4        [Z25.1] Need for immunization against influenza  ...     0.0     0.0   \n5        [Z25.1] Need for immunization against influenza  ...     0.0     0.0   \n6        [Z25.1] Need for immunization against influenza  ...     0.0     0.0   \n...                                                  ...  ...     ...     ...   \n11962                  [H66.9] Otitis media, unspecified  ...     0.0     0.0   \n11965          [J00] Acute nasopharyngitis [common cold]  ...     0.0     0.0   \n11967                            [J02] Acute pharyngitis  ...     0.0     0.0   \n11972  [J06.9] Acute upper respiratory infection, uns...  ...     0.0     0.0   \n11973                         [R50.9] Fever, unspecified  ...     0.0     0.0   \n\n       Amt_143  Amt_145  Amt_156  Amt_157  Amt_159  Amt_160  Amt_166  Amt_175  \n2          0.0      0.0      0.0      0.0      0.0      0.0      0.0      0.0  \n3          0.0      0.0      0.0      0.0      0.0      0.0      0.0      0.0  \n4          0.0      0.0      0.0      0.0      0.0      0.0      0.0      0.0  \n5          0.0      0.0      0.0      0.0      0.0      0.0      0.0      0.0  \n6          0.0      0.0      0.0      0.0      0.0      0.0      0.0      0.0  \n...        ...      ...      ...      ...      ...      ...      ...      ...  \n11962      0.0      0.0      0.0      0.0      0.0      0.0      0.0      0.0  \n11965      0.0      0.0      0.0      0.0      0.0      0.0      0.0      0.0  \n11967      0.0      0.0      0.0      0.0      0.0      0.0      0.0      0.0  \n11972      0.0      0.0      0.0      0.0      0.0      0.0      0.0      0.0  \n11973      0.0      0.0      0.0      0.0      0.0      0.0      0.0      0.0  \n\n[1846 rows x 84 columns]",
            "text/html": "<div>\n<style scoped>\n    .dataframe tbody tr th:only-of-type {\n        vertical-align: middle;\n    }\n\n    .dataframe tbody tr th {\n        vertical-align: top;\n    }\n\n    .dataframe thead th {\n        text-align: right;\n    }\n</style>\n<table border=\"1\" class=\"dataframe\">\n  <thead>\n    <tr style=\"text-align: right;\">\n      <th></th>\n      <th>ID</th>\n      <th>OcmPatTyp</th>\n      <th>NurseStation</th>\n      <th>CC</th>\n      <th>Pi</th>\n      <th>Diag</th>\n      <th>Plan</th>\n      <th>Inv</th>\n      <th>PEtext</th>\n      <th>ICD10</th>\n      <th>...</th>\n      <th>Amt_140</th>\n      <th>Amt_142</th>\n      <th>Amt_143</th>\n      <th>Amt_145</th>\n      <th>Amt_156</th>\n      <th>Amt_157</th>\n      <th>Amt_159</th>\n      <th>Amt_160</th>\n      <th>Amt_166</th>\n      <th>Amt_175</th>\n    </tr>\n  </thead>\n  <tbody>\n    <tr>\n      <th>2</th>\n      <td>890749</td>\n      <td>O</td>\n      <td>PED ห้องเด็ก</td>\n      <td>วัคซีน</td>\n      <td>แข็งแรงดี</td>\n      <td>ต้องการก่อภูมิคุ้มกันต่อโรคไข้หวัดใหญ่(Need fo...</td>\n      <td>Influvac tetra</td>\n      <td>NaN</td>\n      <td>Chest: Normal, Heart: Normal, Abdomen: Normal,</td>\n      <td>[Z25.1] Need for immunization against influenza</td>\n      <td>...</td>\n      <td>0.0</td>\n      <td>0.0</td>\n      <td>0.0</td>\n      <td>0.0</td>\n      <td>0.0</td>\n      <td>0.0</td>\n      <td>0.0</td>\n      <td>0.0</td>\n      <td>0.0</td>\n      <td>0.0</td>\n    </tr>\n    <tr>\n      <th>3</th>\n      <td>890751</td>\n      <td>O</td>\n      <td>PED ห้องเด็ก</td>\n      <td>วัคซีน</td>\n      <td>แข็งแรงดี</td>\n      <td>ต้องการก่อภูมิคุ้มกันต่อโรคไข้หวัดใหญ่(Need fo...</td>\n      <td>Influvac tetra</td>\n      <td>NaN</td>\n      <td>Chest: Normal, Heart: Normal,</td>\n      <td>[Z25.1] Need for immunization against influenza</td>\n      <td>...</td>\n      <td>0.0</td>\n      <td>0.0</td>\n      <td>0.0</td>\n      <td>0.0</td>\n      <td>0.0</td>\n      <td>0.0</td>\n      <td>0.0</td>\n      <td>0.0</td>\n      <td>0.0</td>\n      <td>0.0</td>\n    </tr>\n    <tr>\n      <th>4</th>\n      <td>894455</td>\n      <td>O</td>\n      <td>PED ห้องเด็ก</td>\n      <td>วัคซีน ไม่เอาสมุดวัคซีนมา</td>\n      <td>ป5 รร อนุบาลนครหาดใหญ่ เรียนดี nutrition ดี \\r...</td>\n      <td>ต้องการก่อภูมิคุ้มกันต่อโรคไข้หวัดใหญ่(Need fo...</td>\n      <td>advice side effect of vaccine</td>\n      <td>NaN</td>\n      <td>active \\r\\nheart no murmur \\r\\nlung clear\\r\\na...</td>\n      <td>[Z25.1] Need for immunization against influenza</td>\n      <td>...</td>\n      <td>0.0</td>\n      <td>0.0</td>\n      <td>0.0</td>\n      <td>0.0</td>\n      <td>0.0</td>\n      <td>0.0</td>\n      <td>0.0</td>\n      <td>0.0</td>\n      <td>0.0</td>\n      <td>0.0</td>\n    </tr>\n    <tr>\n      <th>5</th>\n      <td>897083</td>\n      <td>O</td>\n      <td>PED ห้องเด็ก</td>\n      <td>นัดรับวัคซีนไข้หวัดใหญ่</td>\n      <td>มารับวัคซีน ไอเล็กน้อย ไม่มีไข้ \\r\\n</td>\n      <td>ต้องการก่อภูมิคุ้มกันต่อโรคไข้หวัดใหญ่(Need fo...</td>\n      <td>influenza vaccine\\r\\nyearly</td>\n      <td>NaN</td>\n      <td>General: active, Chest: clear, Heart: normal S...</td>\n      <td>[Z25.1] Need for immunization against influenza</td>\n      <td>...</td>\n      <td>0.0</td>\n      <td>0.0</td>\n      <td>0.0</td>\n      <td>0.0</td>\n      <td>0.0</td>\n      <td>0.0</td>\n      <td>0.0</td>\n      <td>0.0</td>\n      <td>0.0</td>\n      <td>0.0</td>\n    </tr>\n    <tr>\n      <th>6</th>\n      <td>899666</td>\n      <td>O</td>\n      <td>PED ห้องเด็ก</td>\n      <td>มารับวัคซีน</td>\n      <td>แข็งแรงดี</td>\n      <td>ต้องการก่อภูมิคุ้มกันต่อโรคไข้หวัดใหญ่(Need fo...</td>\n      <td>นัด 1 ปี</td>\n      <td>NaN</td>\n      <td>Chest: Normal, Heart: Normal,</td>\n      <td>[Z25.1] Need for immunization against influenza</td>\n      <td>...</td>\n      <td>0.0</td>\n      <td>0.0</td>\n      <td>0.0</td>\n      <td>0.0</td>\n      <td>0.0</td>\n      <td>0.0</td>\n      <td>0.0</td>\n      <td>0.0</td>\n      <td>0.0</td>\n      <td>0.0</td>\n    </tr>\n    <tr>\n      <th>...</th>\n      <td>...</td>\n      <td>...</td>\n      <td>...</td>\n      <td>...</td>\n      <td>...</td>\n      <td>...</td>\n      <td>...</td>\n      <td>...</td>\n      <td>...</td>\n      <td>...</td>\n      <td>...</td>\n      <td>...</td>\n      <td>...</td>\n      <td>...</td>\n      <td>...</td>\n      <td>...</td>\n      <td>...</td>\n      <td>...</td>\n      <td>...</td>\n      <td>...</td>\n      <td>...</td>\n    </tr>\n    <tr>\n      <th>11962</th>\n      <td>1146306</td>\n      <td>O</td>\n      <td>PED ห้องเด็ก</td>\n      <td>เจ็บหูด้านซ้ายวันนี้</td>\n      <td>วันนี้เจ็บหูซ้าย ไอ น้ำมูก ไม่ไข้</td>\n      <td>หูชั้นกลางอักเสบ ไม่ระบุรายละเอียด(Otitis medi...</td>\n      <td>Augmentin</td>\n      <td>NaN</td>\n      <td>Lt ear: impacted cerumen, cannot seen TM, no p...</td>\n      <td>[H66.9] Otitis media, unspecified</td>\n      <td>...</td>\n      <td>0.0</td>\n      <td>0.0</td>\n      <td>0.0</td>\n      <td>0.0</td>\n      <td>0.0</td>\n      <td>0.0</td>\n      <td>0.0</td>\n      <td>0.0</td>\n      <td>0.0</td>\n      <td>0.0</td>\n    </tr>\n    <tr>\n      <th>11965</th>\n      <td>1146312</td>\n      <td>O</td>\n      <td>PED ห้องเด็ก</td>\n      <td>ปวดศรีษะ ไอมา 4 วัน</td>\n      <td>4 วันก่อน ไข้ต่ำๆ น้ำมูก ไอมีเสมหะ ไม่มีอาเจีย...</td>\n      <td>คอหอยส่วนจมูกอักเสบเฉียบพลัน (ไข้หวัด)(Acute n...</td>\n      <td>supportive treatment</td>\n      <td>NaN</td>\n      <td>active, no drylips\\r\\nHEENT: clear nasal D/C, ...</td>\n      <td>[J00] Acute nasopharyngitis [common cold]</td>\n      <td>...</td>\n      <td>0.0</td>\n      <td>0.0</td>\n      <td>0.0</td>\n      <td>0.0</td>\n      <td>0.0</td>\n      <td>0.0</td>\n      <td>0.0</td>\n      <td>0.0</td>\n      <td>0.0</td>\n      <td>0.0</td>\n    </tr>\n    <tr>\n      <th>11967</th>\n      <td>1146318</td>\n      <td>O</td>\n      <td>PED ห้องเด็ก</td>\n      <td>เจ็บคอ ปวดศีรษะ ไข้มา 3 วัน</td>\n      <td>3 วันก่อน ไข้ต่ำๆ เจ็บคอ น้ำมูก ไม่ไอ ไม่มีอาเ...</td>\n      <td>คอหอยอักเสบเฉียบพลัน(Acute pharyngitis)</td>\n      <td>supportive treatment\\r\\nglycerin borax</td>\n      <td>NaN</td>\n      <td>active, no drylips\\r\\nHEENT: no nasal D/C, no ...</td>\n      <td>[J02] Acute pharyngitis</td>\n      <td>...</td>\n      <td>0.0</td>\n      <td>0.0</td>\n      <td>0.0</td>\n      <td>0.0</td>\n      <td>0.0</td>\n      <td>0.0</td>\n      <td>0.0</td>\n      <td>0.0</td>\n      <td>0.0</td>\n      <td>0.0</td>\n    </tr>\n    <tr>\n      <th>11972</th>\n      <td>1146327</td>\n      <td>O</td>\n      <td>PED ห้องเด็ก</td>\n      <td>ไข้ 1 วัน</td>\n      <td>1 วัน ไข้สูง 39*C ไอ น้ำมูก คัดจมูก กินน้อย</td>\n      <td>การติดเชื้อทางเดินหายใจส่วนบนเฉียบพลัน ไม่ระบุ...</td>\n      <td>Zithromax</td>\n      <td>Covid Ag/ Influenza A/B /RSV / Adenovirus/HMPV...</td>\n      <td>injected pharynx, no ulcers\\r\\nheart: no murmu...</td>\n      <td>[J06.9] Acute upper respiratory infection, uns...</td>\n      <td>...</td>\n      <td>0.0</td>\n      <td>0.0</td>\n      <td>0.0</td>\n      <td>0.0</td>\n      <td>0.0</td>\n      <td>0.0</td>\n      <td>0.0</td>\n      <td>0.0</td>\n      <td>0.0</td>\n      <td>0.0</td>\n    </tr>\n    <tr>\n      <th>11973</th>\n      <td>1146328</td>\n      <td>O</td>\n      <td>PED ห้องเด็ก</td>\n      <td>ไข้ ไอ มา 4 วัน ทานยาลดไข้สูง16.00น</td>\n      <td>4 วันก่อน ไข้ต่ำ ๆ ปวดท้อง  อาเจียน 1 ครั้ง ถ่...</td>\n      <td>ไข้ ไม่ระบุรายละเอียด(Fever, unspecified)</td>\n      <td>nsp swab for flu, RSV, covid-19: all neg\\r\\nsu...</td>\n      <td>Covid Ag/ Influenza A/B /RSV</td>\n      <td>active, no drylips\\r\\nHEENT: old blood clot at...</td>\n      <td>[R50.9] Fever, unspecified</td>\n      <td>...</td>\n      <td>0.0</td>\n      <td>0.0</td>\n      <td>0.0</td>\n      <td>0.0</td>\n      <td>0.0</td>\n      <td>0.0</td>\n      <td>0.0</td>\n      <td>0.0</td>\n      <td>0.0</td>\n      <td>0.0</td>\n    </tr>\n  </tbody>\n</table>\n<p>1846 rows × 84 columns</p>\n</div>"
          },
          "metadata": {}
        }
      ],
      "execution_count": null
    },
    {
      "cell_type": "markdown",
      "source": [
        "# Model"
      ],
      "metadata": {
        "id": "AumEyYXNclkZ"
      }
    },
    {
      "cell_type": "code",
      "source": [
        "!pip install scikeras"
      ],
      "metadata": {
        "id": "X1Zdwz0-T9s4",
        "outputId": "96ec3cb4-be85-4a7a-f3c6-fc71816f5f5f",
        "trusted": true,
        "execution": {
          "iopub.status.busy": "2025-03-14T07:13:04.631726Z",
          "iopub.execute_input": "2025-03-14T07:13:04.631925Z",
          "iopub.status.idle": "2025-03-14T07:13:13.203031Z",
          "shell.execute_reply.started": "2025-03-14T07:13:04.631908Z",
          "shell.execute_reply": "2025-03-14T07:13:13.202141Z"
        }
      },
      "outputs": [
        {
          "name": "stdout",
          "text": "Collecting scikeras\n  Downloading scikeras-0.13.0-py3-none-any.whl.metadata (3.1 kB)\nRequirement already satisfied: keras>=3.2.0 in /usr/local/lib/python3.10/dist-packages (from scikeras) (3.5.0)\nCollecting scikit-learn>=1.4.2 (from scikeras)\n  Downloading scikit_learn-1.6.1-cp310-cp310-manylinux_2_17_x86_64.manylinux2014_x86_64.whl.metadata (18 kB)\nRequirement already satisfied: absl-py in /usr/local/lib/python3.10/dist-packages (from keras>=3.2.0->scikeras) (1.4.0)\nRequirement already satisfied: numpy in /usr/local/lib/python3.10/dist-packages (from keras>=3.2.0->scikeras) (1.26.4)\nRequirement already satisfied: rich in /usr/local/lib/python3.10/dist-packages (from keras>=3.2.0->scikeras) (13.9.4)\nRequirement already satisfied: namex in /usr/local/lib/python3.10/dist-packages (from keras>=3.2.0->scikeras) (0.0.8)\nRequirement already satisfied: h5py in /usr/local/lib/python3.10/dist-packages (from keras>=3.2.0->scikeras) (3.12.1)\nRequirement already satisfied: optree in /usr/local/lib/python3.10/dist-packages (from keras>=3.2.0->scikeras) (0.13.1)\nRequirement already satisfied: ml-dtypes in /usr/local/lib/python3.10/dist-packages (from keras>=3.2.0->scikeras) (0.4.1)\nRequirement already satisfied: packaging in /usr/local/lib/python3.10/dist-packages (from keras>=3.2.0->scikeras) (24.2)\nRequirement already satisfied: scipy>=1.6.0 in /usr/local/lib/python3.10/dist-packages (from scikit-learn>=1.4.2->scikeras) (1.13.1)\nRequirement already satisfied: joblib>=1.2.0 in /usr/local/lib/python3.10/dist-packages (from scikit-learn>=1.4.2->scikeras) (1.4.2)\nRequirement already satisfied: threadpoolctl>=3.1.0 in /usr/local/lib/python3.10/dist-packages (from scikit-learn>=1.4.2->scikeras) (3.5.0)\nRequirement already satisfied: mkl_fft in /usr/local/lib/python3.10/dist-packages (from numpy->keras>=3.2.0->scikeras) (1.3.8)\nRequirement already satisfied: mkl_random in /usr/local/lib/python3.10/dist-packages (from numpy->keras>=3.2.0->scikeras) (1.2.4)\nRequirement already satisfied: mkl_umath in /usr/local/lib/python3.10/dist-packages (from numpy->keras>=3.2.0->scikeras) (0.1.1)\nRequirement already satisfied: mkl in /usr/local/lib/python3.10/dist-packages (from numpy->keras>=3.2.0->scikeras) (2025.0.1)\nRequirement already satisfied: tbb4py in /usr/local/lib/python3.10/dist-packages (from numpy->keras>=3.2.0->scikeras) (2022.0.0)\nRequirement already satisfied: mkl-service in /usr/local/lib/python3.10/dist-packages (from numpy->keras>=3.2.0->scikeras) (2.4.1)\nRequirement already satisfied: typing-extensions>=4.5.0 in /usr/local/lib/python3.10/dist-packages (from optree->keras>=3.2.0->scikeras) (4.12.2)\nRequirement already satisfied: markdown-it-py>=2.2.0 in /usr/local/lib/python3.10/dist-packages (from rich->keras>=3.2.0->scikeras) (3.0.0)\nRequirement already satisfied: pygments<3.0.0,>=2.13.0 in /usr/local/lib/python3.10/dist-packages (from rich->keras>=3.2.0->scikeras) (2.19.1)\nRequirement already satisfied: mdurl~=0.1 in /usr/local/lib/python3.10/dist-packages (from markdown-it-py>=2.2.0->rich->keras>=3.2.0->scikeras) (0.1.2)\nRequirement already satisfied: intel-openmp>=2024 in /usr/local/lib/python3.10/dist-packages (from mkl->numpy->keras>=3.2.0->scikeras) (2024.2.0)\nRequirement already satisfied: tbb==2022.* in /usr/local/lib/python3.10/dist-packages (from mkl->numpy->keras>=3.2.0->scikeras) (2022.0.0)\nRequirement already satisfied: tcmlib==1.* in /usr/local/lib/python3.10/dist-packages (from tbb==2022.*->mkl->numpy->keras>=3.2.0->scikeras) (1.2.0)\nRequirement already satisfied: intel-cmplr-lib-rt in /usr/local/lib/python3.10/dist-packages (from mkl_umath->numpy->keras>=3.2.0->scikeras) (2024.2.0)\nRequirement already satisfied: intel-cmplr-lib-ur==2024.2.0 in /usr/local/lib/python3.10/dist-packages (from intel-openmp>=2024->mkl->numpy->keras>=3.2.0->scikeras) (2024.2.0)\nDownloading scikeras-0.13.0-py3-none-any.whl (26 kB)\nDownloading scikit_learn-1.6.1-cp310-cp310-manylinux_2_17_x86_64.manylinux2014_x86_64.whl (13.5 MB)\n\u001b[2K   \u001b[90m━━━━━━━━━━━━━━━━━━━━━━━━━━━━━━━━━━━━━━━━\u001b[0m \u001b[32m13.5/13.5 MB\u001b[0m \u001b[31m65.7 MB/s\u001b[0m eta \u001b[36m0:00:00\u001b[0m:00:01\u001b[0m:01\u001b[0m\n\u001b[?25hInstalling collected packages: scikit-learn, scikeras\n  Attempting uninstall: scikit-learn\n    Found existing installation: scikit-learn 1.2.2\n    Uninstalling scikit-learn-1.2.2:\n      Successfully uninstalled scikit-learn-1.2.2\n\u001b[31mERROR: pip's dependency resolver does not currently take into account all the packages that are installed. This behaviour is the source of the following dependency conflicts.\ncategory-encoders 2.7.0 requires scikit-learn<1.6.0,>=1.0.0, but you have scikit-learn 1.6.1 which is incompatible.\u001b[0m\u001b[31m\n\u001b[0mSuccessfully installed scikeras-0.13.0 scikit-learn-1.6.1\n",
          "output_type": "stream"
        }
      ],
      "execution_count": null
    },
    {
      "cell_type": "code",
      "source": [
        "import numpy as np\n",
        "import pandas as pd\n",
        "from sklearn.model_selection import KFold, cross_val_score\n",
        "from sklearn.pipeline import Pipeline\n",
        "from sklearn.compose import ColumnTransformer\n",
        "from sklearn.preprocessing import StandardScaler, OneHotEncoder\n",
        "from sklearn.linear_model import LinearRegression\n",
        "from sklearn.ensemble import RandomForestRegressor\n",
        "import tensorflow as tf\n",
        "from tensorflow.keras.models import Sequential\n",
        "from tensorflow.keras.layers import Dense\n",
        "from scikeras.wrappers import KerasRegressor"
      ],
      "metadata": {
        "id": "exwYtmSwWWAj",
        "trusted": true,
        "execution": {
          "iopub.status.busy": "2025-03-14T07:13:13.204215Z",
          "iopub.execute_input": "2025-03-14T07:13:13.20456Z",
          "iopub.status.idle": "2025-03-14T07:13:25.810317Z",
          "shell.execute_reply.started": "2025-03-14T07:13:13.204522Z",
          "shell.execute_reply": "2025-03-14T07:13:25.809654Z"
        }
      },
      "outputs": [],
      "execution_count": null
    },
    {
      "cell_type": "code",
      "source": [
        "# 🔹 เลือก Features (คอลัมน์ที่ 0 ถึง 4)\n",
        "X = df_merged.iloc[:, 0:12]\n",
        "\n",
        "# 🔹 เลือก Targets (คอลัมน์ที่ 5 ถึง 6)\n",
        "y = df_merged.iloc[:, 13:]"
      ],
      "metadata": {
        "id": "NQ-hlHwAqD79",
        "trusted": true,
        "execution": {
          "iopub.status.busy": "2025-03-14T07:13:25.811086Z",
          "iopub.execute_input": "2025-03-14T07:13:25.811535Z",
          "iopub.status.idle": "2025-03-14T07:13:25.820876Z",
          "shell.execute_reply.started": "2025-03-14T07:13:25.811512Z",
          "shell.execute_reply": "2025-03-14T07:13:25.820059Z"
        }
      },
      "outputs": [],
      "execution_count": null
    },
    {
      "cell_type": "code",
      "source": [
        "X"
      ],
      "metadata": {
        "id": "mTIEFHeOqEuT",
        "outputId": "647ee9a2-97c3-4213-f907-2aca2d742142",
        "trusted": true,
        "execution": {
          "iopub.status.busy": "2025-03-14T07:13:25.821725Z",
          "iopub.execute_input": "2025-03-14T07:13:25.82197Z",
          "iopub.status.idle": "2025-03-14T07:13:25.860755Z",
          "shell.execute_reply.started": "2025-03-14T07:13:25.821948Z",
          "shell.execute_reply": "2025-03-14T07:13:25.859968Z"
        }
      },
      "outputs": [
        {
          "execution_count": 95,
          "output_type": "execute_result",
          "data": {
            "text/plain": "            ID OcmPatTyp               NurseStation  \\\n0       608768         O           SKIN ห้องผิวหนัง   \n1       886211         O  CheckUp Center ตรวจสุขภาพ   \n2       890749         O               PED ห้องเด็ก   \n3       890751         O               PED ห้องเด็ก   \n4       894455         O               PED ห้องเด็ก   \n...        ...       ...                        ...   \n11987  1146347         O             ER ห้องฉุกเฉิน   \n11988  1146352         O             ER ห้องฉุกเฉิน   \n11989  1146357         O             ER ห้องฉุกเฉิน   \n11990  1146358         O             ER ห้องฉุกเฉิน   \n11991  1146361         I             ER ห้องฉุกเฉิน   \n\n                               CC  \\\n0                  เกลื้อนที่หลัง   \n1                ตรวจสุขภาพบริษัท   \n2                          วัคซีน   \n3                          วัคซีน   \n4      วัคซีน ไม่เอาสมุดวัคซีนมา    \n...                           ...   \n11987                   ไอ เจ็บคอ   \n11988  ลื่นล้ม ปวดเข่า2ข้าง มีแผล   \n11989             ล้ม ปวดเท้าซ้าย   \n11990             ผื่นแดงที่ขาขวา   \n11991                        ไข้    \n\n                                                      Pi  \\\n0           มีผื่นขาวที่หลัง ต้นแขนใหม่ คันเวลาเหงื่อออก   \n1                                                    NaN   \n2                                              แข็งแรงดี   \n3                                              แข็งแรงดี   \n4      ป5 รร อนุบาลนครหาดใหญ่ เรียนดี nutrition ดี \\r...   \n...                                                  ...   \n11987   2 วัน ไข้ ไอแห้งๆ ไม่มีน้ำมูก ไม่เหนื่อย เจ็บคอ    \n11988  15.00 น ลื่นล้มมีแผลถลอกที่ข้อเข่าทั้งสองข้าง ...   \n11989  ลื่นล้ม ข้อเท้าพลิก ปวดเท้าซ้าย เดินลงน้ำหนักไ...   \n11990  3-4 วัน เป็นผื่นแดงที่ขาขวา เกาแล้วเป็นแผล วัน...   \n11991  ไข้ 2 วัน ไอเสมหะ ไม่เจ็บคอ มีน้ำมูก กินยา (Pa...   \n\n                                                    Diag  \\\n0                         เกลื้อน(Pityriasis versicolor)   \n1      การตรวจทั่วไปและสืบค้นโรคในบุคคลที่ไม่มีอาการผ...   \n2      ต้องการก่อภูมิคุ้มกันต่อโรคไข้หวัดใหญ่(Need fo...   \n3      ต้องการก่อภูมิคุ้มกันต่อโรคไข้หวัดใหญ่(Need fo...   \n4      ต้องการก่อภูมิคุ้มกันต่อโรคไข้หวัดใหญ่(Need fo...   \n...                                                  ...   \n11987            คอหอยอักเสบเฉียบพลัน(Acute pharyngitis)   \n11988  การถลอกที่เข่าและขาท่อนปลาย(Abrasion of knee a...   \n11989  การเคลื่อน แพลง และเคล็ดของข้อและเอ็นที่ระดับข...   \n11990  เซลล์เนื้อเยื่ออักเสบที่ส่วนอื่นที่แขนขา(Cellu...   \n11991    ไข้อื่นที่มีลักษณะจำเพาะ(Other specified fever)   \n\n                                                    Plan  \\\n0                                                    NaN   \n1                                                    NaN   \n2                                         Influvac tetra   \n3                                         Influvac tetra   \n4                         advice side effect of vaccine    \n...                                                  ...   \n11987                                                med   \n11988  =dressing wound od >> f/U 2/1/68 13.00 น \\r\\n=...   \n11989  - Film: no Fx >> ankle spraing Gr.2\\r\\n- on sh...   \n11990      Dressing wound, HM ATBx, F/U OPD Sx. พรุ่งนี้   \n11991                          Swab + Admit IV hydration   \n\n                                                     Inv  \\\n0                                                    NaN   \n1      CBC, UA (Urine Analysis), FBS, BUN, Creatinine...   \n2                                                    NaN   \n3                                                    NaN   \n4                                                    NaN   \n...                                                  ...   \n11987                                                NaN   \n11988                                                NaN   \n11989  Ankle / AP, LAT, Mortise (Left): not see fracture   \n11990                                                NaN   \n11991  Covid Ag/ Influenza A/B /RSV / Adenovirus/HMPV...   \n\n                                                  PEtext  \\\n0      hypopigmented macule with fine scale at back a...   \n1                                                    NaN   \n2        Chest: Normal, Heart: Normal, Abdomen: Normal,    \n3                         Chest: Normal, Heart: Normal,    \n4      active \\r\\nheart no murmur \\r\\nlung clear\\r\\na...   \n...                                                  ...   \n11987  good concious\\r\\nHEENT : not pale , no Jx , ph...   \n11988  Trauma PE\\r\\nHead / Face: no wound\\r\\nNeck: no...   \n11989  ? affected part: Lt ankle\\r\\n- swelling and te...   \n11990  ? affected part: Rt thigh\\r\\n- Skin redness, s...   \n11991  Alert, febrile, no dyspnea, look fatique\\r\\nHE...   \n\n                                                   ICD10 PhyDtrCod  \\\n0                          [B36.0] Pityriasis versicolor  DRF0096    \n1      [Z00] General examination and investigation of...  DRF0235    \n2        [Z25.1] Need for immunization against influenza  DRF0322    \n3        [Z25.1] Need for immunization against influenza  DRF0322    \n4        [Z25.1] Need for immunization against influenza  DRF0916    \n...                                                  ...       ...   \n11987                            [J02] Acute pharyngitis  DRF0944    \n11988             [S80.80] Abrasion of knee and leg (TM)  DRF0944    \n11989  [S93] Dislocation, sprain and strain of joints...  DRF1222    \n11990          [L03.1] Cellulitis of other parts of limb  DRF1222    \n11991            [J12.3] Human metapneumovirus pneumonia  DRF1222    \n\n                              docname  \n0          พญ. ขวัญเสด็จ วังศิริไพศาล  \n1        พญ. ณภัทร เทพหัสดิน ณ อยุธยา  \n2              พญ. ศิริพร สมรรคจันทร์  \n3              พญ. ศิริพร สมรรคจันทร์  \n4                 พญ. กมรพรรณ แสงอรุณ  \n...                               ...  \n11987  นพ. เพียรชัย ฉัตรพิรุฬห์พันธุ์  \n11988  นพ. เพียรชัย ฉัตรพิรุฬห์พันธุ์  \n11989              นพ. ศุภกร เทพบำรุง  \n11990              นพ. ศุภกร เทพบำรุง  \n11991              นพ. ศุภกร เทพบำรุง  \n\n[11992 rows x 12 columns]",
            "text/html": "<div>\n<style scoped>\n    .dataframe tbody tr th:only-of-type {\n        vertical-align: middle;\n    }\n\n    .dataframe tbody tr th {\n        vertical-align: top;\n    }\n\n    .dataframe thead th {\n        text-align: right;\n    }\n</style>\n<table border=\"1\" class=\"dataframe\">\n  <thead>\n    <tr style=\"text-align: right;\">\n      <th></th>\n      <th>ID</th>\n      <th>OcmPatTyp</th>\n      <th>NurseStation</th>\n      <th>CC</th>\n      <th>Pi</th>\n      <th>Diag</th>\n      <th>Plan</th>\n      <th>Inv</th>\n      <th>PEtext</th>\n      <th>ICD10</th>\n      <th>PhyDtrCod</th>\n      <th>docname</th>\n    </tr>\n  </thead>\n  <tbody>\n    <tr>\n      <th>0</th>\n      <td>608768</td>\n      <td>O</td>\n      <td>SKIN ห้องผิวหนัง</td>\n      <td>เกลื้อนที่หลัง</td>\n      <td>มีผื่นขาวที่หลัง ต้นแขนใหม่ คันเวลาเหงื่อออก</td>\n      <td>เกลื้อน(Pityriasis versicolor)</td>\n      <td>NaN</td>\n      <td>NaN</td>\n      <td>hypopigmented macule with fine scale at back a...</td>\n      <td>[B36.0] Pityriasis versicolor</td>\n      <td>DRF0096</td>\n      <td>พญ. ขวัญเสด็จ วังศิริไพศาล</td>\n    </tr>\n    <tr>\n      <th>1</th>\n      <td>886211</td>\n      <td>O</td>\n      <td>CheckUp Center ตรวจสุขภาพ</td>\n      <td>ตรวจสุขภาพบริษัท</td>\n      <td>NaN</td>\n      <td>การตรวจทั่วไปและสืบค้นโรคในบุคคลที่ไม่มีอาการผ...</td>\n      <td>NaN</td>\n      <td>CBC, UA (Urine Analysis), FBS, BUN, Creatinine...</td>\n      <td>NaN</td>\n      <td>[Z00] General examination and investigation of...</td>\n      <td>DRF0235</td>\n      <td>พญ. ณภัทร เทพหัสดิน ณ อยุธยา</td>\n    </tr>\n    <tr>\n      <th>2</th>\n      <td>890749</td>\n      <td>O</td>\n      <td>PED ห้องเด็ก</td>\n      <td>วัคซีน</td>\n      <td>แข็งแรงดี</td>\n      <td>ต้องการก่อภูมิคุ้มกันต่อโรคไข้หวัดใหญ่(Need fo...</td>\n      <td>Influvac tetra</td>\n      <td>NaN</td>\n      <td>Chest: Normal, Heart: Normal, Abdomen: Normal,</td>\n      <td>[Z25.1] Need for immunization against influenza</td>\n      <td>DRF0322</td>\n      <td>พญ. ศิริพร สมรรคจันทร์</td>\n    </tr>\n    <tr>\n      <th>3</th>\n      <td>890751</td>\n      <td>O</td>\n      <td>PED ห้องเด็ก</td>\n      <td>วัคซีน</td>\n      <td>แข็งแรงดี</td>\n      <td>ต้องการก่อภูมิคุ้มกันต่อโรคไข้หวัดใหญ่(Need fo...</td>\n      <td>Influvac tetra</td>\n      <td>NaN</td>\n      <td>Chest: Normal, Heart: Normal,</td>\n      <td>[Z25.1] Need for immunization against influenza</td>\n      <td>DRF0322</td>\n      <td>พญ. ศิริพร สมรรคจันทร์</td>\n    </tr>\n    <tr>\n      <th>4</th>\n      <td>894455</td>\n      <td>O</td>\n      <td>PED ห้องเด็ก</td>\n      <td>วัคซีน ไม่เอาสมุดวัคซีนมา</td>\n      <td>ป5 รร อนุบาลนครหาดใหญ่ เรียนดี nutrition ดี \\r...</td>\n      <td>ต้องการก่อภูมิคุ้มกันต่อโรคไข้หวัดใหญ่(Need fo...</td>\n      <td>advice side effect of vaccine</td>\n      <td>NaN</td>\n      <td>active \\r\\nheart no murmur \\r\\nlung clear\\r\\na...</td>\n      <td>[Z25.1] Need for immunization against influenza</td>\n      <td>DRF0916</td>\n      <td>พญ. กมรพรรณ แสงอรุณ</td>\n    </tr>\n    <tr>\n      <th>...</th>\n      <td>...</td>\n      <td>...</td>\n      <td>...</td>\n      <td>...</td>\n      <td>...</td>\n      <td>...</td>\n      <td>...</td>\n      <td>...</td>\n      <td>...</td>\n      <td>...</td>\n      <td>...</td>\n      <td>...</td>\n    </tr>\n    <tr>\n      <th>11987</th>\n      <td>1146347</td>\n      <td>O</td>\n      <td>ER ห้องฉุกเฉิน</td>\n      <td>ไอ เจ็บคอ</td>\n      <td>2 วัน ไข้ ไอแห้งๆ ไม่มีน้ำมูก ไม่เหนื่อย เจ็บคอ</td>\n      <td>คอหอยอักเสบเฉียบพลัน(Acute pharyngitis)</td>\n      <td>med</td>\n      <td>NaN</td>\n      <td>good concious\\r\\nHEENT : not pale , no Jx , ph...</td>\n      <td>[J02] Acute pharyngitis</td>\n      <td>DRF0944</td>\n      <td>นพ. เพียรชัย ฉัตรพิรุฬห์พันธุ์</td>\n    </tr>\n    <tr>\n      <th>11988</th>\n      <td>1146352</td>\n      <td>O</td>\n      <td>ER ห้องฉุกเฉิน</td>\n      <td>ลื่นล้ม ปวดเข่า2ข้าง มีแผล</td>\n      <td>15.00 น ลื่นล้มมีแผลถลอกที่ข้อเข่าทั้งสองข้าง ...</td>\n      <td>การถลอกที่เข่าและขาท่อนปลาย(Abrasion of knee a...</td>\n      <td>=dressing wound od &gt;&gt; f/U 2/1/68 13.00 น \\r\\n=...</td>\n      <td>NaN</td>\n      <td>Trauma PE\\r\\nHead / Face: no wound\\r\\nNeck: no...</td>\n      <td>[S80.80] Abrasion of knee and leg (TM)</td>\n      <td>DRF0944</td>\n      <td>นพ. เพียรชัย ฉัตรพิรุฬห์พันธุ์</td>\n    </tr>\n    <tr>\n      <th>11989</th>\n      <td>1146357</td>\n      <td>O</td>\n      <td>ER ห้องฉุกเฉิน</td>\n      <td>ล้ม ปวดเท้าซ้าย</td>\n      <td>ลื่นล้ม ข้อเท้าพลิก ปวดเท้าซ้าย เดินลงน้ำหนักไ...</td>\n      <td>การเคลื่อน แพลง และเคล็ดของข้อและเอ็นที่ระดับข...</td>\n      <td>- Film: no Fx &gt;&gt; ankle spraing Gr.2\\r\\n- on sh...</td>\n      <td>Ankle / AP, LAT, Mortise (Left): not see fracture</td>\n      <td>? affected part: Lt ankle\\r\\n- swelling and te...</td>\n      <td>[S93] Dislocation, sprain and strain of joints...</td>\n      <td>DRF1222</td>\n      <td>นพ. ศุภกร เทพบำรุง</td>\n    </tr>\n    <tr>\n      <th>11990</th>\n      <td>1146358</td>\n      <td>O</td>\n      <td>ER ห้องฉุกเฉิน</td>\n      <td>ผื่นแดงที่ขาขวา</td>\n      <td>3-4 วัน เป็นผื่นแดงที่ขาขวา เกาแล้วเป็นแผล วัน...</td>\n      <td>เซลล์เนื้อเยื่ออักเสบที่ส่วนอื่นที่แขนขา(Cellu...</td>\n      <td>Dressing wound, HM ATBx, F/U OPD Sx. พรุ่งนี้</td>\n      <td>NaN</td>\n      <td>? affected part: Rt thigh\\r\\n- Skin redness, s...</td>\n      <td>[L03.1] Cellulitis of other parts of limb</td>\n      <td>DRF1222</td>\n      <td>นพ. ศุภกร เทพบำรุง</td>\n    </tr>\n    <tr>\n      <th>11991</th>\n      <td>1146361</td>\n      <td>I</td>\n      <td>ER ห้องฉุกเฉิน</td>\n      <td>ไข้</td>\n      <td>ไข้ 2 วัน ไอเสมหะ ไม่เจ็บคอ มีน้ำมูก กินยา (Pa...</td>\n      <td>ไข้อื่นที่มีลักษณะจำเพาะ(Other specified fever)</td>\n      <td>Swab + Admit IV hydration</td>\n      <td>Covid Ag/ Influenza A/B /RSV / Adenovirus/HMPV...</td>\n      <td>Alert, febrile, no dyspnea, look fatique\\r\\nHE...</td>\n      <td>[J12.3] Human metapneumovirus pneumonia</td>\n      <td>DRF1222</td>\n      <td>นพ. ศุภกร เทพบำรุง</td>\n    </tr>\n  </tbody>\n</table>\n<p>11992 rows × 12 columns</p>\n</div>"
          },
          "metadata": {}
        }
      ],
      "execution_count": null
    },
    {
      "cell_type": "code",
      "source": [
        "nan_rows = y[y.isnull().any(axis=1)]\n",
        "print(nan_rows)  # แสดงแถวที่มี NaN\n"
      ],
      "metadata": {
        "id": "2lG53XCFs8Ze",
        "outputId": "60860dfe-0267-4a0c-db90-a22742240583",
        "trusted": true,
        "execution": {
          "iopub.status.busy": "2025-03-14T07:13:25.861676Z",
          "iopub.execute_input": "2025-03-14T07:13:25.862036Z",
          "iopub.status.idle": "2025-03-14T07:13:25.884631Z",
          "shell.execute_reply.started": "2025-03-14T07:13:25.862001Z",
          "shell.execute_reply": "2025-03-14T07:13:25.88377Z"
        }
      },
      "outputs": [
        {
          "name": "stdout",
          "text": "       Amt_4  Amt_5  Amt_6  Amt_7  Amt_13  Amt_14  Amt_15  Amt_16  Amt_17  \\\n0        NaN    NaN    NaN    NaN     NaN     NaN     NaN     NaN     NaN   \n1        NaN    NaN    NaN    NaN     NaN     NaN     NaN     NaN     NaN   \n15       NaN    NaN    NaN    NaN     NaN     NaN     NaN     NaN     NaN   \n20       NaN    NaN    NaN    NaN     NaN     NaN     NaN     NaN     NaN   \n24       NaN    NaN    NaN    NaN     NaN     NaN     NaN     NaN     NaN   \n...      ...    ...    ...    ...     ...     ...     ...     ...     ...   \n11964    NaN    NaN    NaN    NaN     NaN     NaN     NaN     NaN     NaN   \n11968    NaN    NaN    NaN    NaN     NaN     NaN     NaN     NaN     NaN   \n11980    NaN    NaN    NaN    NaN     NaN     NaN     NaN     NaN     NaN   \n11983    NaN    NaN    NaN    NaN     NaN     NaN     NaN     NaN     NaN   \n11991    NaN    NaN    NaN    NaN     NaN     NaN     NaN     NaN     NaN   \n\n       Amt_19  ...  Amt_140  Amt_142  Amt_143  Amt_145  Amt_156  Amt_157  \\\n0         NaN  ...      NaN      NaN      NaN      NaN      NaN      NaN   \n1         NaN  ...      NaN      NaN      NaN      NaN      NaN      NaN   \n15        NaN  ...      NaN      NaN      NaN      NaN      NaN      NaN   \n20        NaN  ...      NaN      NaN      NaN      NaN      NaN      NaN   \n24        NaN  ...      NaN      NaN      NaN      NaN      NaN      NaN   \n...       ...  ...      ...      ...      ...      ...      ...      ...   \n11964     NaN  ...      NaN      NaN      NaN      NaN      NaN      NaN   \n11968     NaN  ...      NaN      NaN      NaN      NaN      NaN      NaN   \n11980     NaN  ...      NaN      NaN      NaN      NaN      NaN      NaN   \n11983     NaN  ...      NaN      NaN      NaN      NaN      NaN      NaN   \n11991     NaN  ...      NaN      NaN      NaN      NaN      NaN      NaN   \n\n       Amt_159  Amt_160  Amt_166  Amt_175  \n0          NaN      NaN      NaN      NaN  \n1          NaN      NaN      NaN      NaN  \n15         NaN      NaN      NaN      NaN  \n20         NaN      NaN      NaN      NaN  \n24         NaN      NaN      NaN      NaN  \n...        ...      ...      ...      ...  \n11964      NaN      NaN      NaN      NaN  \n11968      NaN      NaN      NaN      NaN  \n11980      NaN      NaN      NaN      NaN  \n11983      NaN      NaN      NaN      NaN  \n11991      NaN      NaN      NaN      NaN  \n\n[718 rows x 71 columns]\n",
          "output_type": "stream"
        },
        {
          "name": "stderr",
          "text": "/usr/local/lib/python3.10/dist-packages/pandas/io/formats/format.py:1458: RuntimeWarning: invalid value encountered in greater\n  has_large_values = (abs_vals > 1e6).any()\n/usr/local/lib/python3.10/dist-packages/pandas/io/formats/format.py:1459: RuntimeWarning: invalid value encountered in less\n  has_small_values = ((abs_vals < 10 ** (-self.digits)) & (abs_vals > 0)).any()\n/usr/local/lib/python3.10/dist-packages/pandas/io/formats/format.py:1459: RuntimeWarning: invalid value encountered in greater\n  has_small_values = ((abs_vals < 10 ** (-self.digits)) & (abs_vals > 0)).any()\n",
          "output_type": "stream"
        }
      ],
      "execution_count": null
    },
    {
      "cell_type": "code",
      "source": [
        "import numpy as np\n",
        "import pandas as pd\n",
        "from sklearn.compose import ColumnTransformer\n",
        "from sklearn.preprocessing import StandardScaler, OneHotEncoder, MinMaxScaler\n",
        "from sklearn.pipeline import Pipeline\n",
        "from sklearn.model_selection import KFold, cross_val_score, train_test_split\n",
        "from sklearn.linear_model import LinearRegression\n",
        "from sklearn.ensemble import RandomForestRegressor\n",
        "from sklearn.tree import DecisionTreeRegressor\n",
        "from sklearn.svm import SVR\n",
        "from sklearn.multioutput import MultiOutputRegressor\n",
        "from sklearn.metrics import mean_squared_error, r2_score, mean_absolute_error\n",
        "import matplotlib.pyplot as plt\n",
        "from sklearn.model_selection import GridSearchCV, RandomizedSearchCV\n",
        "from scipy.stats import randint, uniform\n",
        "import time"
      ],
      "metadata": {
        "id": "eaXJVIBXc2DD",
        "trusted": true,
        "execution": {
          "iopub.status.busy": "2025-03-14T07:13:25.888432Z",
          "iopub.execute_input": "2025-03-14T07:13:25.888651Z",
          "iopub.status.idle": "2025-03-14T07:13:25.893551Z",
          "shell.execute_reply.started": "2025-03-14T07:13:25.888632Z",
          "shell.execute_reply": "2025-03-14T07:13:25.89256Z"
        }
      },
      "outputs": [],
      "execution_count": null
    },
    {
      "cell_type": "code",
      "source": [
        "df_merged"
      ],
      "metadata": {
        "trusted": true,
        "execution": {
          "iopub.status.busy": "2025-03-14T07:13:25.895383Z",
          "iopub.execute_input": "2025-03-14T07:13:25.895571Z",
          "iopub.status.idle": "2025-03-14T07:13:25.934916Z",
          "shell.execute_reply.started": "2025-03-14T07:13:25.895555Z",
          "shell.execute_reply": "2025-03-14T07:13:25.933973Z"
        },
        "id": "uzeBqIU7sywh",
        "outputId": "7c7cba75-88e0-474a-9da9-e3a7765cbb77"
      },
      "outputs": [
        {
          "name": "stderr",
          "text": "/usr/local/lib/python3.10/dist-packages/pandas/io/formats/format.py:1458: RuntimeWarning: invalid value encountered in greater\n  has_large_values = (abs_vals > 1e6).any()\n/usr/local/lib/python3.10/dist-packages/pandas/io/formats/format.py:1459: RuntimeWarning: invalid value encountered in less\n  has_small_values = ((abs_vals < 10 ** (-self.digits)) & (abs_vals > 0)).any()\n/usr/local/lib/python3.10/dist-packages/pandas/io/formats/format.py:1459: RuntimeWarning: invalid value encountered in greater\n  has_small_values = ((abs_vals < 10 ** (-self.digits)) & (abs_vals > 0)).any()\n/usr/local/lib/python3.10/dist-packages/pandas/io/formats/format.py:1458: RuntimeWarning: invalid value encountered in greater\n  has_large_values = (abs_vals > 1e6).any()\n/usr/local/lib/python3.10/dist-packages/pandas/io/formats/format.py:1459: RuntimeWarning: invalid value encountered in less\n  has_small_values = ((abs_vals < 10 ** (-self.digits)) & (abs_vals > 0)).any()\n/usr/local/lib/python3.10/dist-packages/pandas/io/formats/format.py:1459: RuntimeWarning: invalid value encountered in greater\n  has_small_values = ((abs_vals < 10 ** (-self.digits)) & (abs_vals > 0)).any()\n",
          "output_type": "stream"
        },
        {
          "execution_count": 98,
          "output_type": "execute_result",
          "data": {
            "text/plain": "            ID OcmPatTyp               NurseStation  \\\n0       608768         O           SKIN ห้องผิวหนัง   \n1       886211         O  CheckUp Center ตรวจสุขภาพ   \n2       890749         O               PED ห้องเด็ก   \n3       890751         O               PED ห้องเด็ก   \n4       894455         O               PED ห้องเด็ก   \n...        ...       ...                        ...   \n11987  1146347         O             ER ห้องฉุกเฉิน   \n11988  1146352         O             ER ห้องฉุกเฉิน   \n11989  1146357         O             ER ห้องฉุกเฉิน   \n11990  1146358         O             ER ห้องฉุกเฉิน   \n11991  1146361         I             ER ห้องฉุกเฉิน   \n\n                               CC  \\\n0                  เกลื้อนที่หลัง   \n1                ตรวจสุขภาพบริษัท   \n2                          วัคซีน   \n3                          วัคซีน   \n4      วัคซีน ไม่เอาสมุดวัคซีนมา    \n...                           ...   \n11987                   ไอ เจ็บคอ   \n11988  ลื่นล้ม ปวดเข่า2ข้าง มีแผล   \n11989             ล้ม ปวดเท้าซ้าย   \n11990             ผื่นแดงที่ขาขวา   \n11991                        ไข้    \n\n                                                      Pi  \\\n0           มีผื่นขาวที่หลัง ต้นแขนใหม่ คันเวลาเหงื่อออก   \n1                                                    NaN   \n2                                              แข็งแรงดี   \n3                                              แข็งแรงดี   \n4      ป5 รร อนุบาลนครหาดใหญ่ เรียนดี nutrition ดี \\r...   \n...                                                  ...   \n11987   2 วัน ไข้ ไอแห้งๆ ไม่มีน้ำมูก ไม่เหนื่อย เจ็บคอ    \n11988  15.00 น ลื่นล้มมีแผลถลอกที่ข้อเข่าทั้งสองข้าง ...   \n11989  ลื่นล้ม ข้อเท้าพลิก ปวดเท้าซ้าย เดินลงน้ำหนักไ...   \n11990  3-4 วัน เป็นผื่นแดงที่ขาขวา เกาแล้วเป็นแผล วัน...   \n11991  ไข้ 2 วัน ไอเสมหะ ไม่เจ็บคอ มีน้ำมูก กินยา (Pa...   \n\n                                                    Diag  \\\n0                         เกลื้อน(Pityriasis versicolor)   \n1      การตรวจทั่วไปและสืบค้นโรคในบุคคลที่ไม่มีอาการผ...   \n2      ต้องการก่อภูมิคุ้มกันต่อโรคไข้หวัดใหญ่(Need fo...   \n3      ต้องการก่อภูมิคุ้มกันต่อโรคไข้หวัดใหญ่(Need fo...   \n4      ต้องการก่อภูมิคุ้มกันต่อโรคไข้หวัดใหญ่(Need fo...   \n...                                                  ...   \n11987            คอหอยอักเสบเฉียบพลัน(Acute pharyngitis)   \n11988  การถลอกที่เข่าและขาท่อนปลาย(Abrasion of knee a...   \n11989  การเคลื่อน แพลง และเคล็ดของข้อและเอ็นที่ระดับข...   \n11990  เซลล์เนื้อเยื่ออักเสบที่ส่วนอื่นที่แขนขา(Cellu...   \n11991    ไข้อื่นที่มีลักษณะจำเพาะ(Other specified fever)   \n\n                                                    Plan  \\\n0                                                    NaN   \n1                                                    NaN   \n2                                         Influvac tetra   \n3                                         Influvac tetra   \n4                         advice side effect of vaccine    \n...                                                  ...   \n11987                                                med   \n11988  =dressing wound od >> f/U 2/1/68 13.00 น \\r\\n=...   \n11989  - Film: no Fx >> ankle spraing Gr.2\\r\\n- on sh...   \n11990      Dressing wound, HM ATBx, F/U OPD Sx. พรุ่งนี้   \n11991                          Swab + Admit IV hydration   \n\n                                                     Inv  \\\n0                                                    NaN   \n1      CBC, UA (Urine Analysis), FBS, BUN, Creatinine...   \n2                                                    NaN   \n3                                                    NaN   \n4                                                    NaN   \n...                                                  ...   \n11987                                                NaN   \n11988                                                NaN   \n11989  Ankle / AP, LAT, Mortise (Left): not see fracture   \n11990                                                NaN   \n11991  Covid Ag/ Influenza A/B /RSV / Adenovirus/HMPV...   \n\n                                                  PEtext  \\\n0      hypopigmented macule with fine scale at back a...   \n1                                                    NaN   \n2        Chest: Normal, Heart: Normal, Abdomen: Normal,    \n3                         Chest: Normal, Heart: Normal,    \n4      active \\r\\nheart no murmur \\r\\nlung clear\\r\\na...   \n...                                                  ...   \n11987  good concious\\r\\nHEENT : not pale , no Jx , ph...   \n11988  Trauma PE\\r\\nHead / Face: no wound\\r\\nNeck: no...   \n11989  ? affected part: Lt ankle\\r\\n- swelling and te...   \n11990  ? affected part: Rt thigh\\r\\n- Skin redness, s...   \n11991  Alert, febrile, no dyspnea, look fatique\\r\\nHE...   \n\n                                                   ICD10  ... Amt_140 Amt_142  \\\n0                          [B36.0] Pityriasis versicolor  ...     NaN     NaN   \n1      [Z00] General examination and investigation of...  ...     NaN     NaN   \n2        [Z25.1] Need for immunization against influenza  ...     0.0     0.0   \n3        [Z25.1] Need for immunization against influenza  ...     0.0     0.0   \n4        [Z25.1] Need for immunization against influenza  ...     0.0     0.0   \n...                                                  ...  ...     ...     ...   \n11987                            [J02] Acute pharyngitis  ...     0.0     0.0   \n11988             [S80.80] Abrasion of knee and leg (TM)  ...     0.0     0.0   \n11989  [S93] Dislocation, sprain and strain of joints...  ...     0.0     0.0   \n11990          [L03.1] Cellulitis of other parts of limb  ...     0.0     0.0   \n11991            [J12.3] Human metapneumovirus pneumonia  ...     NaN     NaN   \n\n       Amt_143  Amt_145  Amt_156  Amt_157  Amt_159  Amt_160  Amt_166  Amt_175  \n0          NaN      NaN      NaN      NaN      NaN      NaN      NaN      NaN  \n1          NaN      NaN      NaN      NaN      NaN      NaN      NaN      NaN  \n2          0.0      0.0      0.0      0.0      0.0      0.0      0.0      0.0  \n3          0.0      0.0      0.0      0.0      0.0      0.0      0.0      0.0  \n4          0.0      0.0      0.0      0.0      0.0      0.0      0.0      0.0  \n...        ...      ...      ...      ...      ...      ...      ...      ...  \n11987      0.0      0.0      0.0      0.0      0.0      0.0      0.0      0.0  \n11988      0.0      0.0      0.0      0.0      0.0      0.0      0.0      0.0  \n11989      0.0      0.0      0.0      0.0      0.0      0.0      0.0      0.0  \n11990      0.0      0.0      0.0      0.0      0.0      0.0      0.0      0.0  \n11991      NaN      NaN      NaN      NaN      NaN      NaN      NaN      NaN  \n\n[11992 rows x 84 columns]",
            "text/html": "<div>\n<style scoped>\n    .dataframe tbody tr th:only-of-type {\n        vertical-align: middle;\n    }\n\n    .dataframe tbody tr th {\n        vertical-align: top;\n    }\n\n    .dataframe thead th {\n        text-align: right;\n    }\n</style>\n<table border=\"1\" class=\"dataframe\">\n  <thead>\n    <tr style=\"text-align: right;\">\n      <th></th>\n      <th>ID</th>\n      <th>OcmPatTyp</th>\n      <th>NurseStation</th>\n      <th>CC</th>\n      <th>Pi</th>\n      <th>Diag</th>\n      <th>Plan</th>\n      <th>Inv</th>\n      <th>PEtext</th>\n      <th>ICD10</th>\n      <th>...</th>\n      <th>Amt_140</th>\n      <th>Amt_142</th>\n      <th>Amt_143</th>\n      <th>Amt_145</th>\n      <th>Amt_156</th>\n      <th>Amt_157</th>\n      <th>Amt_159</th>\n      <th>Amt_160</th>\n      <th>Amt_166</th>\n      <th>Amt_175</th>\n    </tr>\n  </thead>\n  <tbody>\n    <tr>\n      <th>0</th>\n      <td>608768</td>\n      <td>O</td>\n      <td>SKIN ห้องผิวหนัง</td>\n      <td>เกลื้อนที่หลัง</td>\n      <td>มีผื่นขาวที่หลัง ต้นแขนใหม่ คันเวลาเหงื่อออก</td>\n      <td>เกลื้อน(Pityriasis versicolor)</td>\n      <td>NaN</td>\n      <td>NaN</td>\n      <td>hypopigmented macule with fine scale at back a...</td>\n      <td>[B36.0] Pityriasis versicolor</td>\n      <td>...</td>\n      <td>NaN</td>\n      <td>NaN</td>\n      <td>NaN</td>\n      <td>NaN</td>\n      <td>NaN</td>\n      <td>NaN</td>\n      <td>NaN</td>\n      <td>NaN</td>\n      <td>NaN</td>\n      <td>NaN</td>\n    </tr>\n    <tr>\n      <th>1</th>\n      <td>886211</td>\n      <td>O</td>\n      <td>CheckUp Center ตรวจสุขภาพ</td>\n      <td>ตรวจสุขภาพบริษัท</td>\n      <td>NaN</td>\n      <td>การตรวจทั่วไปและสืบค้นโรคในบุคคลที่ไม่มีอาการผ...</td>\n      <td>NaN</td>\n      <td>CBC, UA (Urine Analysis), FBS, BUN, Creatinine...</td>\n      <td>NaN</td>\n      <td>[Z00] General examination and investigation of...</td>\n      <td>...</td>\n      <td>NaN</td>\n      <td>NaN</td>\n      <td>NaN</td>\n      <td>NaN</td>\n      <td>NaN</td>\n      <td>NaN</td>\n      <td>NaN</td>\n      <td>NaN</td>\n      <td>NaN</td>\n      <td>NaN</td>\n    </tr>\n    <tr>\n      <th>2</th>\n      <td>890749</td>\n      <td>O</td>\n      <td>PED ห้องเด็ก</td>\n      <td>วัคซีน</td>\n      <td>แข็งแรงดี</td>\n      <td>ต้องการก่อภูมิคุ้มกันต่อโรคไข้หวัดใหญ่(Need fo...</td>\n      <td>Influvac tetra</td>\n      <td>NaN</td>\n      <td>Chest: Normal, Heart: Normal, Abdomen: Normal,</td>\n      <td>[Z25.1] Need for immunization against influenza</td>\n      <td>...</td>\n      <td>0.0</td>\n      <td>0.0</td>\n      <td>0.0</td>\n      <td>0.0</td>\n      <td>0.0</td>\n      <td>0.0</td>\n      <td>0.0</td>\n      <td>0.0</td>\n      <td>0.0</td>\n      <td>0.0</td>\n    </tr>\n    <tr>\n      <th>3</th>\n      <td>890751</td>\n      <td>O</td>\n      <td>PED ห้องเด็ก</td>\n      <td>วัคซีน</td>\n      <td>แข็งแรงดี</td>\n      <td>ต้องการก่อภูมิคุ้มกันต่อโรคไข้หวัดใหญ่(Need fo...</td>\n      <td>Influvac tetra</td>\n      <td>NaN</td>\n      <td>Chest: Normal, Heart: Normal,</td>\n      <td>[Z25.1] Need for immunization against influenza</td>\n      <td>...</td>\n      <td>0.0</td>\n      <td>0.0</td>\n      <td>0.0</td>\n      <td>0.0</td>\n      <td>0.0</td>\n      <td>0.0</td>\n      <td>0.0</td>\n      <td>0.0</td>\n      <td>0.0</td>\n      <td>0.0</td>\n    </tr>\n    <tr>\n      <th>4</th>\n      <td>894455</td>\n      <td>O</td>\n      <td>PED ห้องเด็ก</td>\n      <td>วัคซีน ไม่เอาสมุดวัคซีนมา</td>\n      <td>ป5 รร อนุบาลนครหาดใหญ่ เรียนดี nutrition ดี \\r...</td>\n      <td>ต้องการก่อภูมิคุ้มกันต่อโรคไข้หวัดใหญ่(Need fo...</td>\n      <td>advice side effect of vaccine</td>\n      <td>NaN</td>\n      <td>active \\r\\nheart no murmur \\r\\nlung clear\\r\\na...</td>\n      <td>[Z25.1] Need for immunization against influenza</td>\n      <td>...</td>\n      <td>0.0</td>\n      <td>0.0</td>\n      <td>0.0</td>\n      <td>0.0</td>\n      <td>0.0</td>\n      <td>0.0</td>\n      <td>0.0</td>\n      <td>0.0</td>\n      <td>0.0</td>\n      <td>0.0</td>\n    </tr>\n    <tr>\n      <th>...</th>\n      <td>...</td>\n      <td>...</td>\n      <td>...</td>\n      <td>...</td>\n      <td>...</td>\n      <td>...</td>\n      <td>...</td>\n      <td>...</td>\n      <td>...</td>\n      <td>...</td>\n      <td>...</td>\n      <td>...</td>\n      <td>...</td>\n      <td>...</td>\n      <td>...</td>\n      <td>...</td>\n      <td>...</td>\n      <td>...</td>\n      <td>...</td>\n      <td>...</td>\n      <td>...</td>\n    </tr>\n    <tr>\n      <th>11987</th>\n      <td>1146347</td>\n      <td>O</td>\n      <td>ER ห้องฉุกเฉิน</td>\n      <td>ไอ เจ็บคอ</td>\n      <td>2 วัน ไข้ ไอแห้งๆ ไม่มีน้ำมูก ไม่เหนื่อย เจ็บคอ</td>\n      <td>คอหอยอักเสบเฉียบพลัน(Acute pharyngitis)</td>\n      <td>med</td>\n      <td>NaN</td>\n      <td>good concious\\r\\nHEENT : not pale , no Jx , ph...</td>\n      <td>[J02] Acute pharyngitis</td>\n      <td>...</td>\n      <td>0.0</td>\n      <td>0.0</td>\n      <td>0.0</td>\n      <td>0.0</td>\n      <td>0.0</td>\n      <td>0.0</td>\n      <td>0.0</td>\n      <td>0.0</td>\n      <td>0.0</td>\n      <td>0.0</td>\n    </tr>\n    <tr>\n      <th>11988</th>\n      <td>1146352</td>\n      <td>O</td>\n      <td>ER ห้องฉุกเฉิน</td>\n      <td>ลื่นล้ม ปวดเข่า2ข้าง มีแผล</td>\n      <td>15.00 น ลื่นล้มมีแผลถลอกที่ข้อเข่าทั้งสองข้าง ...</td>\n      <td>การถลอกที่เข่าและขาท่อนปลาย(Abrasion of knee a...</td>\n      <td>=dressing wound od &gt;&gt; f/U 2/1/68 13.00 น \\r\\n=...</td>\n      <td>NaN</td>\n      <td>Trauma PE\\r\\nHead / Face: no wound\\r\\nNeck: no...</td>\n      <td>[S80.80] Abrasion of knee and leg (TM)</td>\n      <td>...</td>\n      <td>0.0</td>\n      <td>0.0</td>\n      <td>0.0</td>\n      <td>0.0</td>\n      <td>0.0</td>\n      <td>0.0</td>\n      <td>0.0</td>\n      <td>0.0</td>\n      <td>0.0</td>\n      <td>0.0</td>\n    </tr>\n    <tr>\n      <th>11989</th>\n      <td>1146357</td>\n      <td>O</td>\n      <td>ER ห้องฉุกเฉิน</td>\n      <td>ล้ม ปวดเท้าซ้าย</td>\n      <td>ลื่นล้ม ข้อเท้าพลิก ปวดเท้าซ้าย เดินลงน้ำหนักไ...</td>\n      <td>การเคลื่อน แพลง และเคล็ดของข้อและเอ็นที่ระดับข...</td>\n      <td>- Film: no Fx &gt;&gt; ankle spraing Gr.2\\r\\n- on sh...</td>\n      <td>Ankle / AP, LAT, Mortise (Left): not see fracture</td>\n      <td>? affected part: Lt ankle\\r\\n- swelling and te...</td>\n      <td>[S93] Dislocation, sprain and strain of joints...</td>\n      <td>...</td>\n      <td>0.0</td>\n      <td>0.0</td>\n      <td>0.0</td>\n      <td>0.0</td>\n      <td>0.0</td>\n      <td>0.0</td>\n      <td>0.0</td>\n      <td>0.0</td>\n      <td>0.0</td>\n      <td>0.0</td>\n    </tr>\n    <tr>\n      <th>11990</th>\n      <td>1146358</td>\n      <td>O</td>\n      <td>ER ห้องฉุกเฉิน</td>\n      <td>ผื่นแดงที่ขาขวา</td>\n      <td>3-4 วัน เป็นผื่นแดงที่ขาขวา เกาแล้วเป็นแผล วัน...</td>\n      <td>เซลล์เนื้อเยื่ออักเสบที่ส่วนอื่นที่แขนขา(Cellu...</td>\n      <td>Dressing wound, HM ATBx, F/U OPD Sx. พรุ่งนี้</td>\n      <td>NaN</td>\n      <td>? affected part: Rt thigh\\r\\n- Skin redness, s...</td>\n      <td>[L03.1] Cellulitis of other parts of limb</td>\n      <td>...</td>\n      <td>0.0</td>\n      <td>0.0</td>\n      <td>0.0</td>\n      <td>0.0</td>\n      <td>0.0</td>\n      <td>0.0</td>\n      <td>0.0</td>\n      <td>0.0</td>\n      <td>0.0</td>\n      <td>0.0</td>\n    </tr>\n    <tr>\n      <th>11991</th>\n      <td>1146361</td>\n      <td>I</td>\n      <td>ER ห้องฉุกเฉิน</td>\n      <td>ไข้</td>\n      <td>ไข้ 2 วัน ไอเสมหะ ไม่เจ็บคอ มีน้ำมูก กินยา (Pa...</td>\n      <td>ไข้อื่นที่มีลักษณะจำเพาะ(Other specified fever)</td>\n      <td>Swab + Admit IV hydration</td>\n      <td>Covid Ag/ Influenza A/B /RSV / Adenovirus/HMPV...</td>\n      <td>Alert, febrile, no dyspnea, look fatique\\r\\nHE...</td>\n      <td>[J12.3] Human metapneumovirus pneumonia</td>\n      <td>...</td>\n      <td>NaN</td>\n      <td>NaN</td>\n      <td>NaN</td>\n      <td>NaN</td>\n      <td>NaN</td>\n      <td>NaN</td>\n      <td>NaN</td>\n      <td>NaN</td>\n      <td>NaN</td>\n      <td>NaN</td>\n    </tr>\n  </tbody>\n</table>\n<p>11992 rows × 84 columns</p>\n</div>"
          },
          "metadata": {}
        }
      ],
      "execution_count": null
    },
    {
      "cell_type": "code",
      "source": [
        "import pandas as pd\n",
        "import re\n",
        "\n",
        "# แทนค่าด้วย DataFrame ของคุณ\n",
        "df = df_test\n",
        "df = df.drop(columns=[\"ID\"])  # ลบ ID ออก\n",
        "\n",
        "\n",
        "# ฟังก์ชันล้างอักขระพิเศษ\n",
        "def clean_text(text):\n",
        "    if isinstance(text, str):\n",
        "        return re.sub(r\"[^ก-๙a-zA-Z0-9\\s]\", \"\", text) # ลบอักขระที่ไม่ใช่ตัวอักษรหรือตัวเลข\n",
        "    return text\n",
        "\n",
        "# ฟังก์ชันลบ \\r และ \\n ออก\n",
        "def remove_newlines(text):\n",
        "    if isinstance(text, str):\n",
        "        return text.replace(\"\\r\", \"\").replace(\"\\n\", \"\").strip()  # ลบ \\r \\n และ Trim ช่องว่าง\n",
        "    return text\n",
        "\n",
        "# ใช้ remove_newlines กับทุกคอลัมน์ที่เป็นข้อความ\n",
        "for col in df.columns[:12]:  # หรือเลือกคอลัมน์ที่ต้องการ\n",
        "    df[col] = df[col].apply(remove_newlines).apply(clean_text)\n",
        "\n",
        "# เลือก Feature และ Target\n",
        "X = df.iloc[:, 0:11].fillna(\"Null\")  # เติม NaN ใน X ด้วย \"Null\"\n",
        "y = df.iloc[:, 11:].fillna(0)  # เติม NaN ใน y ด้วย 0\n"
      ],
      "metadata": {
        "trusted": true,
        "execution": {
          "iopub.status.busy": "2025-03-14T07:51:31.753098Z",
          "iopub.execute_input": "2025-03-14T07:51:31.753393Z",
          "iopub.status.idle": "2025-03-14T07:51:31.997516Z",
          "shell.execute_reply.started": "2025-03-14T07:51:31.753371Z",
          "shell.execute_reply": "2025-03-14T07:51:31.996856Z"
        },
        "id": "Qe0o-2D9sywh"
      },
      "outputs": [],
      "execution_count": null
    },
    {
      "cell_type": "code",
      "source": [
        "df"
      ],
      "metadata": {
        "trusted": true,
        "execution": {
          "iopub.status.busy": "2025-03-14T07:51:34.529613Z",
          "iopub.execute_input": "2025-03-14T07:51:34.529906Z",
          "iopub.status.idle": "2025-03-14T07:51:34.567716Z",
          "shell.execute_reply.started": "2025-03-14T07:51:34.529882Z",
          "shell.execute_reply": "2025-03-14T07:51:34.5668Z"
        },
        "id": "JL51sd7dsywh",
        "outputId": "47b82903-8a9d-431d-e051-e47ab4f7e427"
      },
      "outputs": [
        {
          "execution_count": 140,
          "output_type": "execute_result",
          "data": {
            "text/plain": "      OcmPatTyp               NurseStation                          CC  \\\n0             O           SKIN ห้องผิวหนัง              เกลื้อนที่หลัง   \n1             O  CheckUp Center ตรวจสุขภาพ            ตรวจสุขภาพบริษัท   \n2             O               PED ห้องเด็ก                      วัคซีน   \n3             O               PED ห้องเด็ก                      วัคซีน   \n4             O               PED ห้องเด็ก   วัคซีน ไม่เอาสมุดวัคซีนมา   \n...         ...                        ...                         ...   \n11987         O             ER ห้องฉุกเฉิน                   ไอ เจ็บคอ   \n11988         O             ER ห้องฉุกเฉิน  ลื่นล้ม ปวดเข่า2ข้าง มีแผล   \n11989         O             ER ห้องฉุกเฉิน             ล้ม ปวดเท้าซ้าย   \n11990         O             ER ห้องฉุกเฉิน             ผื่นแดงที่ขาขวา   \n11991         I             ER ห้องฉุกเฉิน                         ไข้   \n\n                                                      Pi  \\\n0           มีผื่นขาวที่หลัง ต้นแขนใหม่ คันเวลาเหงื่อออก   \n1                                                    NaN   \n2                                              แข็งแรงดี   \n3                                              แข็งแรงดี   \n4      ป5 รร อนุบาลนครหาดใหญ่ เรียนดี nutrition ดี ออ...   \n...                                                  ...   \n11987    2 วัน ไข้ ไอแห้งๆ ไม่มีน้ำมูก ไม่เหนื่อย เจ็บคอ   \n11988  1500 น ลื่นล้มมีแผลถลอกที่ข้อเข่าทั้งสองข้าง เ...   \n11989  ลื่นล้ม ข้อเท้าพลิก ปวดเท้าซ้าย เดินลงน้ำหนักไ...   \n11990  34 วัน เป็นผื่นแดงที่ขาขวา เกาแล้วเป็นแผล วันน...   \n11991  ไข้ 2 วัน ไอเสมหะ ไม่เจ็บคอ มีน้ำมูก กินยา Par...   \n\n                                                    Diag  \\\n0                           เกลื้อนPityriasis versicolor   \n1      การตรวจทั่วไปและสืบค้นโรคในบุคคลที่ไม่มีอาการผ...   \n2      ต้องการก่อภูมิคุ้มกันต่อโรคไข้หวัดใหญ่Need for...   \n3      ต้องการก่อภูมิคุ้มกันต่อโรคไข้หวัดใหญ่Need for...   \n4      ต้องการก่อภูมิคุ้มกันต่อโรคไข้หวัดใหญ่Need for...   \n...                                                  ...   \n11987              คอหอยอักเสบเฉียบพลันAcute pharyngitis   \n11988  การถลอกที่เข่าและขาท่อนปลายAbrasion of knee an...   \n11989  การเคลื่อน แพลง และเคล็ดของข้อและเอ็นที่ระดับข...   \n11990  เซลล์เนื้อเยื่ออักเสบที่ส่วนอื่นที่แขนขาCellul...   \n11991      ไข้อื่นที่มีลักษณะจำเพาะOther specified fever   \n\n                                                    Plan  \\\n0                                                    NaN   \n1                                                    NaN   \n2                                         Influvac tetra   \n3                                         Influvac tetra   \n4                          advice side effect of vaccine   \n...                                                  ...   \n11987                                                med   \n11988              dressing wound od  fU 2168 1300 น med   \n11989  Film no Fx  ankle spraing Gr2 on short leg sla...   \n11990          Dressing wound HM ATBx FU OPD Sx พรุ่งนี้   \n11991                           Swab  Admit IV hydration   \n\n                                                     Inv  \\\n0                                                    NaN   \n1      CBC UA Urine Analysis FBS BUN Creatinine Chole...   \n2                                                    NaN   \n3                                                    NaN   \n4                                                    NaN   \n...                                                  ...   \n11987                                                NaN   \n11988                                                NaN   \n11989        Ankle  AP LAT Mortise Left not see fracture   \n11990                                                NaN   \n11991      Covid Ag Influenza AB RSV  AdenovirusHMPVHPIV   \n\n                                                  PEtext  \\\n0      hypopigmented macule with fine scale at back a...   \n1                                                    NaN   \n2               Chest Normal Heart Normal Abdomen Normal   \n3                              Chest Normal Heart Normal   \n4      active heart no murmur lung clearabd soft not ...   \n...                                                  ...   \n11987  good conciousHEENT  not pale  no Jx  pharynx m...   \n11988  Trauma PEHead  Face no woundNeck no wound full...   \n11989  affected part Lt ankle swelling and tender at ...   \n11990  affected part Rt thigh Skin redness swelling f...   \n11991  Alert febrile no dyspnea look fatiqueHEENT  no...   \n\n                                                   ICD10 PhyDtrCod  ...  \\\n0                             B360 Pityriasis versicolor   DRF0096  ...   \n1      Z00 General examination and investigation of p...   DRF0235  ...   \n2           Z251 Need for immunization against influenza   DRF0322  ...   \n3           Z251 Need for immunization against influenza   DRF0322  ...   \n4           Z251 Need for immunization against influenza   DRF0916  ...   \n...                                                  ...       ...  ...   \n11987                              J02 Acute pharyngitis   DRF0944  ...   \n11988                  S8080 Abrasion of knee and leg TM   DRF0944  ...   \n11989  S93 Dislocation sprain and strain of joints an...   DRF1222  ...   \n11990             L031 Cellulitis of other parts of limb   DRF1222  ...   \n11991               J123 Human metapneumovirus pneumonia   DRF1222  ...   \n\n      Amt_140  Amt_142  Amt_143  Amt_145  Amt_156  Amt_157  Amt_159  Amt_160  \\\n0         NaN      NaN      NaN      NaN      NaN      NaN      NaN      NaN   \n1         NaN      NaN      NaN      NaN      NaN      NaN      NaN      NaN   \n2         0.0      0.0      0.0      0.0      0.0      0.0      0.0      0.0   \n3         0.0      0.0      0.0      0.0      0.0      0.0      0.0      0.0   \n4         0.0      0.0      0.0      0.0      0.0      0.0      0.0      0.0   \n...       ...      ...      ...      ...      ...      ...      ...      ...   \n11987     0.0      0.0      0.0      0.0      0.0      0.0      0.0      0.0   \n11988     0.0      0.0      0.0      0.0      0.0      0.0      0.0      0.0   \n11989     0.0      0.0      0.0      0.0      0.0      0.0      0.0      0.0   \n11990     0.0      0.0      0.0      0.0      0.0      0.0      0.0      0.0   \n11991     NaN      NaN      NaN      NaN      NaN      NaN      NaN      NaN   \n\n       Amt_166  Amt_175  \n0          NaN      NaN  \n1          NaN      NaN  \n2          0.0      0.0  \n3          0.0      0.0  \n4          0.0      0.0  \n...        ...      ...  \n11987      0.0      0.0  \n11988      0.0      0.0  \n11989      0.0      0.0  \n11990      0.0      0.0  \n11991      NaN      NaN  \n\n[11992 rows x 83 columns]",
            "text/html": "<div>\n<style scoped>\n    .dataframe tbody tr th:only-of-type {\n        vertical-align: middle;\n    }\n\n    .dataframe tbody tr th {\n        vertical-align: top;\n    }\n\n    .dataframe thead th {\n        text-align: right;\n    }\n</style>\n<table border=\"1\" class=\"dataframe\">\n  <thead>\n    <tr style=\"text-align: right;\">\n      <th></th>\n      <th>OcmPatTyp</th>\n      <th>NurseStation</th>\n      <th>CC</th>\n      <th>Pi</th>\n      <th>Diag</th>\n      <th>Plan</th>\n      <th>Inv</th>\n      <th>PEtext</th>\n      <th>ICD10</th>\n      <th>PhyDtrCod</th>\n      <th>...</th>\n      <th>Amt_140</th>\n      <th>Amt_142</th>\n      <th>Amt_143</th>\n      <th>Amt_145</th>\n      <th>Amt_156</th>\n      <th>Amt_157</th>\n      <th>Amt_159</th>\n      <th>Amt_160</th>\n      <th>Amt_166</th>\n      <th>Amt_175</th>\n    </tr>\n  </thead>\n  <tbody>\n    <tr>\n      <th>0</th>\n      <td>O</td>\n      <td>SKIN ห้องผิวหนัง</td>\n      <td>เกลื้อนที่หลัง</td>\n      <td>มีผื่นขาวที่หลัง ต้นแขนใหม่ คันเวลาเหงื่อออก</td>\n      <td>เกลื้อนPityriasis versicolor</td>\n      <td>NaN</td>\n      <td>NaN</td>\n      <td>hypopigmented macule with fine scale at back a...</td>\n      <td>B360 Pityriasis versicolor</td>\n      <td>DRF0096</td>\n      <td>...</td>\n      <td>NaN</td>\n      <td>NaN</td>\n      <td>NaN</td>\n      <td>NaN</td>\n      <td>NaN</td>\n      <td>NaN</td>\n      <td>NaN</td>\n      <td>NaN</td>\n      <td>NaN</td>\n      <td>NaN</td>\n    </tr>\n    <tr>\n      <th>1</th>\n      <td>O</td>\n      <td>CheckUp Center ตรวจสุขภาพ</td>\n      <td>ตรวจสุขภาพบริษัท</td>\n      <td>NaN</td>\n      <td>การตรวจทั่วไปและสืบค้นโรคในบุคคลที่ไม่มีอาการผ...</td>\n      <td>NaN</td>\n      <td>CBC UA Urine Analysis FBS BUN Creatinine Chole...</td>\n      <td>NaN</td>\n      <td>Z00 General examination and investigation of p...</td>\n      <td>DRF0235</td>\n      <td>...</td>\n      <td>NaN</td>\n      <td>NaN</td>\n      <td>NaN</td>\n      <td>NaN</td>\n      <td>NaN</td>\n      <td>NaN</td>\n      <td>NaN</td>\n      <td>NaN</td>\n      <td>NaN</td>\n      <td>NaN</td>\n    </tr>\n    <tr>\n      <th>2</th>\n      <td>O</td>\n      <td>PED ห้องเด็ก</td>\n      <td>วัคซีน</td>\n      <td>แข็งแรงดี</td>\n      <td>ต้องการก่อภูมิคุ้มกันต่อโรคไข้หวัดใหญ่Need for...</td>\n      <td>Influvac tetra</td>\n      <td>NaN</td>\n      <td>Chest Normal Heart Normal Abdomen Normal</td>\n      <td>Z251 Need for immunization against influenza</td>\n      <td>DRF0322</td>\n      <td>...</td>\n      <td>0.0</td>\n      <td>0.0</td>\n      <td>0.0</td>\n      <td>0.0</td>\n      <td>0.0</td>\n      <td>0.0</td>\n      <td>0.0</td>\n      <td>0.0</td>\n      <td>0.0</td>\n      <td>0.0</td>\n    </tr>\n    <tr>\n      <th>3</th>\n      <td>O</td>\n      <td>PED ห้องเด็ก</td>\n      <td>วัคซีน</td>\n      <td>แข็งแรงดี</td>\n      <td>ต้องการก่อภูมิคุ้มกันต่อโรคไข้หวัดใหญ่Need for...</td>\n      <td>Influvac tetra</td>\n      <td>NaN</td>\n      <td>Chest Normal Heart Normal</td>\n      <td>Z251 Need for immunization against influenza</td>\n      <td>DRF0322</td>\n      <td>...</td>\n      <td>0.0</td>\n      <td>0.0</td>\n      <td>0.0</td>\n      <td>0.0</td>\n      <td>0.0</td>\n      <td>0.0</td>\n      <td>0.0</td>\n      <td>0.0</td>\n      <td>0.0</td>\n      <td>0.0</td>\n    </tr>\n    <tr>\n      <th>4</th>\n      <td>O</td>\n      <td>PED ห้องเด็ก</td>\n      <td>วัคซีน ไม่เอาสมุดวัคซีนมา</td>\n      <td>ป5 รร อนุบาลนครหาดใหญ่ เรียนดี nutrition ดี ออ...</td>\n      <td>ต้องการก่อภูมิคุ้มกันต่อโรคไข้หวัดใหญ่Need for...</td>\n      <td>advice side effect of vaccine</td>\n      <td>NaN</td>\n      <td>active heart no murmur lung clearabd soft not ...</td>\n      <td>Z251 Need for immunization against influenza</td>\n      <td>DRF0916</td>\n      <td>...</td>\n      <td>0.0</td>\n      <td>0.0</td>\n      <td>0.0</td>\n      <td>0.0</td>\n      <td>0.0</td>\n      <td>0.0</td>\n      <td>0.0</td>\n      <td>0.0</td>\n      <td>0.0</td>\n      <td>0.0</td>\n    </tr>\n    <tr>\n      <th>...</th>\n      <td>...</td>\n      <td>...</td>\n      <td>...</td>\n      <td>...</td>\n      <td>...</td>\n      <td>...</td>\n      <td>...</td>\n      <td>...</td>\n      <td>...</td>\n      <td>...</td>\n      <td>...</td>\n      <td>...</td>\n      <td>...</td>\n      <td>...</td>\n      <td>...</td>\n      <td>...</td>\n      <td>...</td>\n      <td>...</td>\n      <td>...</td>\n      <td>...</td>\n      <td>...</td>\n    </tr>\n    <tr>\n      <th>11987</th>\n      <td>O</td>\n      <td>ER ห้องฉุกเฉิน</td>\n      <td>ไอ เจ็บคอ</td>\n      <td>2 วัน ไข้ ไอแห้งๆ ไม่มีน้ำมูก ไม่เหนื่อย เจ็บคอ</td>\n      <td>คอหอยอักเสบเฉียบพลันAcute pharyngitis</td>\n      <td>med</td>\n      <td>NaN</td>\n      <td>good conciousHEENT  not pale  no Jx  pharynx m...</td>\n      <td>J02 Acute pharyngitis</td>\n      <td>DRF0944</td>\n      <td>...</td>\n      <td>0.0</td>\n      <td>0.0</td>\n      <td>0.0</td>\n      <td>0.0</td>\n      <td>0.0</td>\n      <td>0.0</td>\n      <td>0.0</td>\n      <td>0.0</td>\n      <td>0.0</td>\n      <td>0.0</td>\n    </tr>\n    <tr>\n      <th>11988</th>\n      <td>O</td>\n      <td>ER ห้องฉุกเฉิน</td>\n      <td>ลื่นล้ม ปวดเข่า2ข้าง มีแผล</td>\n      <td>1500 น ลื่นล้มมีแผลถลอกที่ข้อเข่าทั้งสองข้าง เ...</td>\n      <td>การถลอกที่เข่าและขาท่อนปลายAbrasion of knee an...</td>\n      <td>dressing wound od  fU 2168 1300 น med</td>\n      <td>NaN</td>\n      <td>Trauma PEHead  Face no woundNeck no wound full...</td>\n      <td>S8080 Abrasion of knee and leg TM</td>\n      <td>DRF0944</td>\n      <td>...</td>\n      <td>0.0</td>\n      <td>0.0</td>\n      <td>0.0</td>\n      <td>0.0</td>\n      <td>0.0</td>\n      <td>0.0</td>\n      <td>0.0</td>\n      <td>0.0</td>\n      <td>0.0</td>\n      <td>0.0</td>\n    </tr>\n    <tr>\n      <th>11989</th>\n      <td>O</td>\n      <td>ER ห้องฉุกเฉิน</td>\n      <td>ล้ม ปวดเท้าซ้าย</td>\n      <td>ลื่นล้ม ข้อเท้าพลิก ปวดเท้าซ้าย เดินลงน้ำหนักไ...</td>\n      <td>การเคลื่อน แพลง และเคล็ดของข้อและเอ็นที่ระดับข...</td>\n      <td>Film no Fx  ankle spraing Gr2 on short leg sla...</td>\n      <td>Ankle  AP LAT Mortise Left not see fracture</td>\n      <td>affected part Lt ankle swelling and tender at ...</td>\n      <td>S93 Dislocation sprain and strain of joints an...</td>\n      <td>DRF1222</td>\n      <td>...</td>\n      <td>0.0</td>\n      <td>0.0</td>\n      <td>0.0</td>\n      <td>0.0</td>\n      <td>0.0</td>\n      <td>0.0</td>\n      <td>0.0</td>\n      <td>0.0</td>\n      <td>0.0</td>\n      <td>0.0</td>\n    </tr>\n    <tr>\n      <th>11990</th>\n      <td>O</td>\n      <td>ER ห้องฉุกเฉิน</td>\n      <td>ผื่นแดงที่ขาขวา</td>\n      <td>34 วัน เป็นผื่นแดงที่ขาขวา เกาแล้วเป็นแผล วันน...</td>\n      <td>เซลล์เนื้อเยื่ออักเสบที่ส่วนอื่นที่แขนขาCellul...</td>\n      <td>Dressing wound HM ATBx FU OPD Sx พรุ่งนี้</td>\n      <td>NaN</td>\n      <td>affected part Rt thigh Skin redness swelling f...</td>\n      <td>L031 Cellulitis of other parts of limb</td>\n      <td>DRF1222</td>\n      <td>...</td>\n      <td>0.0</td>\n      <td>0.0</td>\n      <td>0.0</td>\n      <td>0.0</td>\n      <td>0.0</td>\n      <td>0.0</td>\n      <td>0.0</td>\n      <td>0.0</td>\n      <td>0.0</td>\n      <td>0.0</td>\n    </tr>\n    <tr>\n      <th>11991</th>\n      <td>I</td>\n      <td>ER ห้องฉุกเฉิน</td>\n      <td>ไข้</td>\n      <td>ไข้ 2 วัน ไอเสมหะ ไม่เจ็บคอ มีน้ำมูก กินยา Par...</td>\n      <td>ไข้อื่นที่มีลักษณะจำเพาะOther specified fever</td>\n      <td>Swab  Admit IV hydration</td>\n      <td>Covid Ag Influenza AB RSV  AdenovirusHMPVHPIV</td>\n      <td>Alert febrile no dyspnea look fatiqueHEENT  no...</td>\n      <td>J123 Human metapneumovirus pneumonia</td>\n      <td>DRF1222</td>\n      <td>...</td>\n      <td>NaN</td>\n      <td>NaN</td>\n      <td>NaN</td>\n      <td>NaN</td>\n      <td>NaN</td>\n      <td>NaN</td>\n      <td>NaN</td>\n      <td>NaN</td>\n      <td>NaN</td>\n      <td>NaN</td>\n    </tr>\n  </tbody>\n</table>\n<p>11992 rows × 83 columns</p>\n</div>"
          },
          "metadata": {}
        }
      ],
      "execution_count": null
    },
    {
      "cell_type": "code",
      "source": [
        "print(X.dtypes)"
      ],
      "metadata": {
        "trusted": true,
        "execution": {
          "iopub.status.busy": "2025-03-14T07:51:41.572109Z",
          "iopub.execute_input": "2025-03-14T07:51:41.572425Z",
          "iopub.status.idle": "2025-03-14T07:51:41.577885Z",
          "shell.execute_reply.started": "2025-03-14T07:51:41.572398Z",
          "shell.execute_reply": "2025-03-14T07:51:41.576934Z"
        },
        "id": "ViGDPIVYsywh",
        "outputId": "3e20756e-7020-4e37-a340-c8ff5702b8d8"
      },
      "outputs": [
        {
          "name": "stdout",
          "text": "OcmPatTyp       object\nNurseStation    object\nCC              object\nPi              object\nDiag            object\nPlan            object\nInv             object\nPEtext          object\nICD10           object\nPhyDtrCod       object\ndocname         object\ndtype: object\n",
          "output_type": "stream"
        }
      ],
      "execution_count": null
    },
    {
      "cell_type": "markdown",
      "source": [
        "Cleaning"
      ],
      "metadata": {
        "id": "FpgIuO7usywh"
      }
    },
    {
      "cell_type": "code",
      "source": [
        "import re\n",
        "from sklearn.model_selection import train_test_split, GridSearchCV, cross_val_score\n",
        "from sklearn.pipeline import Pipeline\n",
        "from sklearn.feature_extraction.text import TfidfVectorizer\n",
        "from sklearn.preprocessing import StandardScaler\n",
        "from sklearn.multioutput import MultiOutputRegressor\n",
        "from sklearn.tree import DecisionTreeRegressor\n",
        "from sklearn.ensemble import RandomForestRegressor\n",
        "from sklearn.svm import SVR\n",
        "import xgboost as xgb\n",
        "import lightgbm as lgb\n",
        "from sklearn.metrics import mean_squared_error, mean_absolute_error, r2_score"
      ],
      "metadata": {
        "trusted": true,
        "execution": {
          "iopub.status.busy": "2025-03-14T07:51:45.301179Z",
          "iopub.execute_input": "2025-03-14T07:51:45.301452Z",
          "iopub.status.idle": "2025-03-14T07:51:45.305887Z",
          "shell.execute_reply.started": "2025-03-14T07:51:45.301431Z",
          "shell.execute_reply": "2025-03-14T07:51:45.305026Z"
        },
        "id": "iIYHsoDusywi"
      },
      "outputs": [],
      "execution_count": null
    },
    {
      "cell_type": "code",
      "source": [
        "# 2️⃣ แยก Train-Test\n",
        "X_train, X_test, y_train, y_test = train_test_split(X, y, test_size=0.2, random_state=42)"
      ],
      "metadata": {
        "trusted": true,
        "execution": {
          "iopub.status.busy": "2025-03-14T07:53:49.639135Z",
          "iopub.execute_input": "2025-03-14T07:53:49.639414Z",
          "iopub.status.idle": "2025-03-14T07:53:49.654768Z",
          "shell.execute_reply.started": "2025-03-14T07:53:49.639394Z",
          "shell.execute_reply": "2025-03-14T07:53:49.653977Z"
        },
        "id": "eQN3sZK2sywi"
      },
      "outputs": [],
      "execution_count": null
    },
    {
      "cell_type": "code",
      "source": [
        "# 3️⃣ ทำ StandardScaler กับ y\n",
        "scaler_y = StandardScaler()\n",
        "y_train_scaled = scaler_y.fit_transform(y_train)\n",
        "y_test_scaled = scaler_y.transform(y_test)\n",
        "\n",
        "# 4️⃣ โมเดลที่เราจะทดสอบ\n",
        "models = {\n",
        "    \"DecisionTree\": DecisionTreeRegressor(),\n",
        "    \"RandomForest\": RandomForestRegressor(),\n",
        "    \"SVR\": SVR(),\n",
        "    \"XGBoost\": xgb.XGBRegressor(objective=\"reg:squarederror\"),\n",
        "    \"LightGBM\": lgb.LGBMRegressor()\n",
        "}\n",
        "\n",
        "# 5️⃣ พารามิเตอร์สำหรับ GridSearchCV\n",
        "param_grid = {\n",
        "    \"DecisionTree\": {\n",
        "        'model__estimator__max_depth': [None, 10, 20, 30],\n",
        "        'model__estimator__min_samples_split': [2, 5, 10],\n",
        "        'model__estimator__min_samples_leaf': [1, 2, 4],\n",
        "        'model__estimator__max_features': ['sqrt', 'log2', None]\n",
        "    },\n",
        "\n",
        "    \"RandomForest\": {\n",
        "        'model__estimator__n_estimators': [50, 100, 200],\n",
        "        'model__estimator__max_depth': [None, 10, 20, 30],\n",
        "        'model__estimator__min_samples_split': [2, 5, 10],\n",
        "        'model__estimator__min_samples_leaf': [1, 2, 4],\n",
        "        'model__estimator__max_features': ['sqrt', 'log2', None]\n",
        "    },\n",
        "\n",
        "    \"SVR\": {\n",
        "        'model__estimator__C': [0.1, 1, 10, 100],\n",
        "        'model__estimator__gamma': ['scale', 'auto', 0.1, 0.01],\n",
        "        'model__estimator__kernel': ['rbf', 'linear'],\n",
        "        'model__estimator__epsilon': [0.1, 0.2, 0.5]\n",
        "    },\n",
        "\n",
        "    \"XGBoost\": {\n",
        "        'model__estimator__n_estimators': [50, 100, 200],\n",
        "        'model__estimator__learning_rate': [0.01, 0.1, 0.3]\n",
        "    },\n",
        "\n",
        "    \"LightGBM\": {\n",
        "        'model__estimator__n_estimators': [50, 100, 200],\n",
        "        'model__estimator__learning_rate': [0.01, 0.1, 0.3]\n",
        "    }\n",
        "}\n",
        "\n",
        "best_models = {}\n",
        "\n",
        "for name, model in models.items():\n",
        "    print(f\"🔍 Training {name}...\")\n",
        "\n",
        "    # สร้าง Pipeline\n",
        "    pipeline = Pipeline([\n",
        "        ('vectorizer', TfidfVectorizer(max_features=500)),\n",
        "        ('model', MultiOutputRegressor(model))\n",
        "    ])\n",
        "\n",
        "    # ใช้ GridSearch หา Best Parameter\n",
        "    grid_search = GridSearchCV(pipeline, param_grid[name], cv=5, scoring=\"neg_mean_squared_error\", n_jobs=-1)\n",
        "    grid_search.fit(X_train.apply(lambda x: \" \".join(x), axis=1), y_train_scaled)\n",
        "\n",
        "    # เก็บ Best Model\n",
        "    best_models[name] = grid_search.best_estimator_\n",
        "\n",
        "    print(f\"✅ Best Params for {name}: {grid_search.best_params_}\")\n",
        "\n",
        "# 6️⃣ วัดผลแต่ละโมเดล\n",
        "results = {}\n",
        "\n",
        "for name, model in best_models.items():\n",
        "    print(f\"\\n📊 Evaluating {name}...\")\n",
        "\n",
        "    # พยากรณ์ค่า y บน Test Set\n",
        "    y_pred_scaled = model.predict(X_test.apply(lambda x: \" \".join(x), axis=1))\n",
        "    y_pred = scaler_y.inverse_transform(y_pred_scaled)\n",
        "\n",
        "    # คำนวณ Metrics\n",
        "    mse = mean_squared_error(y_test, y_pred)\n",
        "    rmse = np.sqrt(mse)\n",
        "    mae = mean_absolute_error(y_test, y_pred)\n",
        "    r2 = r2_score(y_test, y_pred)\n",
        "\n",
        "    # เก็บผลลัพธ์\n",
        "    results[name] = {\n",
        "        \"RMSE\": rmse,\n",
        "        \"MSE\": mse,\n",
        "        \"MAE\": mae,\n",
        "        \"R²\": r2\n",
        "    }\n",
        "\n",
        "    print(f\"📌 RMSE: {rmse:.4f}\")\n",
        "    print(f\"📌 MSE: {mse:.4f}\")\n",
        "    print(f\"📌 MAE: {mae:.4f}\")\n",
        "    print(f\"📌 R² Score: {r2:.4f}\")\n",
        "\n",
        "# 7️⃣ แสดงผลเปรียบเทียบทุกโมเดล\n",
        "print(\"\\n📊 📊 Model Performance Comparison 📊 📊\\n\")\n",
        "df_results = pd.DataFrame(results).T\n",
        "print(df_results)\n",
        "\n",
        "# 🔹 พยากรณ์ 5 ตัวอย่างจาก Test Set ด้วยโมเดลที่ดีที่สุด\n",
        "best_model_name = df_results[\"R²\"].idxmax()\n",
        "final_model = best_models[best_model_name]\n",
        "print(f\"\\n🏆 Using Best Model: {best_model_name}\")\n",
        "\n",
        "y_pred_scaled = final_model.predict(X_test.apply(lambda x: \" \".join(x), axis=1))\n",
        "y_pred = scaler_y.inverse_transform(y_pred_scaled)\n",
        "\n",
        "# 🔹 แสดงตัวอย่างการพยากรณ์ 5 ตัว\n",
        "sample_indices = np.random.choice(len(X_test), 5, replace=False)\n",
        "print(\"\\n🎯 ตัวอย่างการพยากรณ์ 5 ตัว:\\n\")\n",
        "for i in sample_indices:\n",
        "    print(f\"📌 ข้อมูลจริง: {y_test.iloc[i].values}\")\n",
        "    print(f\"📊 ค่าพยากรณ์: {y_pred[i]}\\n\")"
      ],
      "metadata": {
        "id": "58UjdqOX05kz",
        "outputId": "2c7e0999-9b59-4cd8-a42b-838624990d82",
        "trusted": true,
        "execution": {
          "iopub.status.busy": "2025-03-14T07:53:59.97772Z",
          "iopub.execute_input": "2025-03-14T07:53:59.978084Z"
        }
      },
      "outputs": [
        {
          "name": "stdout",
          "text": "🔍 Training DecisionTree...\n",
          "output_type": "stream"
        }
      ],
      "execution_count": null
    },
    {
      "cell_type": "markdown",
      "source": [
        "# Other\n"
      ],
      "metadata": {
        "id": "S9zY1_qictcC"
      }
    },
    {
      "cell_type": "markdown",
      "source": [
        "## **เราต้องการโมเดลทำนาย Amt ของแต่ละ IncomeCode**\n",
        "\n",
        "\n"
      ],
      "metadata": {
        "id": "Nx_8Z7nr6RJR"
      }
    },
    {
      "cell_type": "markdown",
      "source": [
        "### **numerical transform**"
      ],
      "metadata": {
        "id": "w2YzWWzhA0dO"
      }
    },
    {
      "cell_type": "code",
      "source": [
        "print(data2['IncomeCode'].isnull().sum())\n",
        "print(data1['OcmPatTyp'].isnull().sum())\n",
        "print(data1['NurseStation'].isnull().sum())\n",
        "print(data1['PhyDtrCod'].isnull().sum())"
      ],
      "metadata": {
        "id": "ZEEghihyEigX",
        "trusted": true,
        "execution": {
          "iopub.status.busy": "2025-03-14T07:13:26.706095Z",
          "iopub.status.idle": "2025-03-14T07:13:26.706364Z",
          "shell.execute_reply": "2025-03-14T07:13:26.706263Z"
        }
      },
      "outputs": [],
      "execution_count": null
    },
    {
      "cell_type": "code",
      "source": [
        "print(data2['IncomeCode'].nunique())\n",
        "print(data1['OcmPatTyp'].nunique())\n",
        "print(data1['NurseStation'].nunique())\n",
        "print(data1['PhyDtrCod'].nunique())"
      ],
      "metadata": {
        "id": "1IeG3FTy6ETi",
        "trusted": true,
        "execution": {
          "iopub.status.busy": "2025-03-14T07:13:26.707207Z",
          "iopub.status.idle": "2025-03-14T07:13:26.707547Z",
          "shell.execute_reply": "2025-03-14T07:13:26.707388Z"
        }
      },
      "outputs": [],
      "execution_count": null
    },
    {
      "cell_type": "code",
      "source": [
        "data1[data1['ICD10'].isnull()]"
      ],
      "metadata": {
        "id": "UhBsOcHqA9fc",
        "trusted": true,
        "execution": {
          "iopub.status.busy": "2025-03-14T07:13:26.708581Z",
          "iopub.status.idle": "2025-03-14T07:13:26.708918Z",
          "shell.execute_reply": "2025-03-14T07:13:26.708762Z"
        }
      },
      "outputs": [],
      "execution_count": null
    },
    {
      "cell_type": "markdown",
      "source": [
        "### **freetext columns**"
      ],
      "metadata": {
        "id": "CnVIrf4oCpH0"
      }
    },
    {
      "cell_type": "code",
      "source": [
        "print(data1[(data1['PEtext'].notnull())]['PEtext'].iloc[0])\n",
        "print(f\"----\")\n",
        "print(data1[(data1['PEtext'].notnull())]['PEtext'].iloc[1])\n",
        "print(f\"----\")\n",
        "print(data1[(data1['PEtext'].notnull())]['PEtext'].iloc[2])\n",
        "print(f\"----\")\n",
        "print(data1[(data1['PEtext'].notnull())]['PEtext'].iloc[3])\n",
        "print(f\"----\")\n",
        "print(data1[(data1['PEtext'].notnull())]['PEtext'].iloc[4])\n",
        "print(f\"----\")\n",
        "print(data1[(data1['PEtext'].notnull())]['PEtext'].iloc[5])\n",
        "print(f\"----\")\n",
        "print(data1[(data1['PEtext'].notnull())]['PEtext'].iloc[6])\n",
        "print(f\"----\")\n",
        "print(data1[(data1['PEtext'].notnull())]['PEtext'].iloc[7])"
      ],
      "metadata": {
        "id": "-M3CnSlwBO9B",
        "trusted": true,
        "execution": {
          "iopub.status.busy": "2025-03-14T07:13:26.709864Z",
          "iopub.status.idle": "2025-03-14T07:13:26.71016Z",
          "shell.execute_reply": "2025-03-14T07:13:26.710047Z"
        }
      },
      "outputs": [],
      "execution_count": null
    },
    {
      "cell_type": "code",
      "source": [
        "print(data1[(data1['Inv'].notnull())]['Inv'].iloc[0])\n",
        "print(f\"----\")\n",
        "print(data1[(data1['Inv'].notnull())]['Inv'].iloc[1])\n",
        "print(f\"----\")\n",
        "print(data1[(data1['Inv'].notnull())]['Inv'].iloc[2])\n",
        "print(f\"----\")\n",
        "print(data1[(data1['Inv'].notnull())]['Inv'].iloc[3])\n",
        "print(f\"----\")\n",
        "print(data1[(data1['Inv'].notnull())]['Inv'].iloc[4])\n",
        "print(f\"----\")\n",
        "print(data1[(data1['Inv'].notnull())]['Inv'].iloc[5])\n",
        "print(f\"----\")\n",
        "print(data1[(data1['Inv'].notnull())]['Inv'].iloc[6])\n",
        "print(f\"----\")\n",
        "print(data1[(data1['Inv'].notnull())]['Inv'].iloc[7])"
      ],
      "metadata": {
        "id": "55tFYfcUCoXT",
        "trusted": true,
        "execution": {
          "iopub.status.busy": "2025-03-14T07:13:26.711119Z",
          "iopub.status.idle": "2025-03-14T07:13:26.711497Z",
          "shell.execute_reply": "2025-03-14T07:13:26.711332Z"
        }
      },
      "outputs": [],
      "execution_count": null
    },
    {
      "cell_type": "code",
      "source": [
        "print(data1[(data1['Diag'].notnull())]['Diag'].iloc[0])\n",
        "print(f\"----\")\n",
        "print(data1[(data1['Diag'].notnull())]['Diag'].iloc[1])\n",
        "print(f\"----\")\n",
        "print(data1[(data1['Diag'].notnull())]['Diag'].iloc[2])\n",
        "print(f\"----\")\n",
        "print(data1[(data1['Diag'].notnull())]['Diag'].iloc[3])\n",
        "print(f\"----\")\n",
        "print(data1[(data1['Diag'].notnull())]['Diag'].iloc[4])\n",
        "print(f\"----\")\n",
        "print(data1[(data1['Diag'].notnull())]['Diag'].iloc[5])\n",
        "print(f\"----\")\n",
        "print(data1[(data1['Diag'].notnull())]['Diag'].iloc[6])\n",
        "print(f\"----\")\n",
        "print(data1[(data1['Diag'].notnull())]['Diag'].iloc[7])"
      ],
      "metadata": {
        "id": "jVt_-va1C787",
        "trusted": true,
        "execution": {
          "iopub.status.busy": "2025-03-14T07:13:26.712517Z",
          "iopub.status.idle": "2025-03-14T07:13:26.712854Z",
          "shell.execute_reply": "2025-03-14T07:13:26.712661Z"
        }
      },
      "outputs": [],
      "execution_count": null
    },
    {
      "cell_type": "code",
      "source": [
        "print(data1[(data1['Plan'].notnull())]['Plan'].iloc[0])\n",
        "print(f\"----\")\n",
        "print(data1[(data1['Plan'].notnull())]['Plan'].iloc[1])\n",
        "print(f\"----\")\n",
        "print(data1[(data1['Plan'].notnull())]['Plan'].iloc[2])\n",
        "print(f\"----\")\n",
        "print(data1[(data1['Plan'].notnull())]['Plan'].iloc[3])\n",
        "print(f\"----\")\n",
        "print(data1[(data1['Plan'].notnull())]['Plan'].iloc[4])\n",
        "print(f\"----\")\n",
        "print(data1[(data1['Plan'].notnull())]['Plan'].iloc[5])\n",
        "print(f\"----\")\n",
        "print(data1[(data1['Plan'].notnull())]['Plan'].iloc[6])\n",
        "print(f\"----\")\n",
        "print(data1[(data1['Plan'].notnull())]['Plan'].iloc[7])"
      ],
      "metadata": {
        "id": "D1Wt0IPVDKms",
        "trusted": true,
        "execution": {
          "iopub.status.busy": "2025-03-14T07:13:26.713533Z",
          "iopub.status.idle": "2025-03-14T07:13:26.713878Z",
          "shell.execute_reply": "2025-03-14T07:13:26.713765Z"
        }
      },
      "outputs": [],
      "execution_count": null
    },
    {
      "cell_type": "code",
      "source": [
        "data1[data1['ID'].duplicated()].head()"
      ],
      "metadata": {
        "id": "kCsqjcyPFsu1",
        "trusted": true,
        "execution": {
          "iopub.status.busy": "2025-03-14T07:13:26.714673Z",
          "iopub.status.idle": "2025-03-14T07:13:26.715013Z",
          "shell.execute_reply": "2025-03-14T07:13:26.714821Z"
        }
      },
      "outputs": [],
      "execution_count": null
    },
    {
      "cell_type": "code",
      "source": [
        "data1.info()"
      ],
      "metadata": {
        "id": "YV48Fz2_5Ri7",
        "trusted": true,
        "execution": {
          "iopub.status.busy": "2025-03-14T07:13:26.71597Z",
          "iopub.status.idle": "2025-03-14T07:13:26.716269Z",
          "shell.execute_reply": "2025-03-14T07:13:26.716148Z"
        }
      },
      "outputs": [],
      "execution_count": null
    },
    {
      "cell_type": "code",
      "source": [
        "data2.info()"
      ],
      "metadata": {
        "id": "60AEP5tB57-4",
        "trusted": true,
        "execution": {
          "iopub.status.busy": "2025-03-14T07:13:26.716978Z",
          "iopub.status.idle": "2025-03-14T07:13:26.717294Z",
          "shell.execute_reply": "2025-03-14T07:13:26.717148Z"
        }
      },
      "outputs": [],
      "execution_count": null
    }
  ]
}