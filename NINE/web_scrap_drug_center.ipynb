{
  "nbformat": 4,
  "nbformat_minor": 0,
  "metadata": {
    "colab": {
      "provenance": [],
      "toc_visible": true,
      "authorship_tag": "ABX9TyOubE1bHwVJ87KNMK4IV1Hh",
      "include_colab_link": true
    },
    "kernelspec": {
      "name": "python3",
      "display_name": "Python 3"
    },
    "language_info": {
      "name": "python"
    }
  },
  "cells": [
    {
      "cell_type": "markdown",
      "metadata": {
        "id": "view-in-github",
        "colab_type": "text"
      },
      "source": [
        "<a href=\"https://colab.research.google.com/github/nxxk23/NAKBID/blob/main/NINE/web_scrap_drug_center.ipynb\" target=\"_parent\"><img src=\"https://colab.research.google.com/assets/colab-badge.svg\" alt=\"Open In Colab\"/></a>"
      ]
    },
    {
      "cell_type": "code",
      "execution_count": null,
      "metadata": {
        "id": "umpu8Tqs1GAu"
      },
      "outputs": [],
      "source": [
        "import os\n",
        "import time\n",
        "import requests\n",
        "from selenium import webdriver\n",
        "from selenium.webdriver.common.by import By\n",
        "from selenium.webdriver.support.ui import WebDriverWait\n",
        "from selenium.webdriver.support import expected_conditions as EC\n",
        "\n",
        "# 🔹 ตั้งค่าข้อมูลล็อกอินและดาวน์โหลด\n",
        "USERNAME = \"chanatip0615@gmail.com\"  # เปลี่ยนเป็นของคุณ\n",
        "PASSWORD = \"#chanatip2011\"  # เปลี่ยนเป็นของคุณ\n",
        "LOGIN_URL = \"https://www.this.or.th/en/account/\"\n",
        "DOWNLOAD_PAGE = \"https://www.this.or.th/en/download/\"\n",
        "SAVE_PATH = \"C:/Users/Asus/Downloads/downloaded_file.zip\"\n",
        "\n",
        "# 🔹 ตั้งค่า Chrome\n",
        "options = webdriver.ChromeOptions()\n",
        "options.add_argument(\"--start-maximized\")\n",
        "driver = webdriver.Chrome(options=options)\n",
        "wait = WebDriverWait(driver, 10)\n",
        "\n",
        "try:\n",
        "    # 🔹 ล็อกอิน\n",
        "    driver.get(LOGIN_URL)\n",
        "    wait.until(EC.presence_of_element_located((By.NAME, \"log\"))).send_keys(USERNAME)\n",
        "    wait.until(EC.presence_of_element_located((By.NAME, \"pwd\"))).send_keys(PASSWORD)\n",
        "    wait.until(EC.element_to_be_clickable((By.ID, \"wp-submit\"))).click()\n",
        "\n",
        "    # 🔹 รอเปลี่ยนหน้า\n",
        "    wait.until(EC.url_changes(LOGIN_URL))\n",
        "    print(\"✅ ล็อกอินสำเร็จ\")\n",
        "\n",
        "    # 🔹 ไปยังหน้าดาวน์โหลด\n",
        "    driver.get(DOWNLOAD_PAGE)\n",
        "\n",
        "    # 🔹 รอปุ่มดาวน์โหลดปรากฏ\n",
        "    try:\n",
        "        download_button = wait.until(EC.element_to_be_clickable((By.CSS_SELECTOR, \"a.t-button.t-download\")))\n",
        "        download_url = download_button.get_attribute(\"href\")\n",
        "        print(f\"⏳ พบปุ่มดาวน์โหลด: {download_url}\")\n",
        "    except:\n",
        "        print(\"❌ ไม่พบปุ่มดาวน์โหลด\")\n",
        "        driver.quit()\n",
        "        exit()\n",
        "\n",
        "    # 🔹 ดึง Cookie จาก Selenium\n",
        "    cookies = {cookie['name']: cookie['value'] for cookie in driver.get_cookies()}\n",
        "    print(\"✅ ดึง Cookie สำเร็จ\")\n",
        "\n",
        "finally:\n",
        "    driver.quit()\n",
        "\n",
        "# 🔹 ใช้ requests ดาวน์โหลดไฟล์พร้อม Cookie\n",
        "print(f\"⏳ กำลังดาวน์โหลดไฟล์จาก: {download_url}\")\n",
        "headers = {\"User-Agent\": \"Mozilla/5.0\"}  # ป้องกันเว็บบล็อกบอท\n",
        "session = requests.Session()\n",
        "session.cookies.update(cookies)\n",
        "\n",
        "response = session.get(download_url, stream=True, headers=headers)\n",
        "\n",
        "if response.status_code == 200:\n",
        "    with open(SAVE_PATH, \"wb\") as file:\n",
        "        for chunk in response.iter_content(1024):\n",
        "            file.write(chunk)\n",
        "    print(f\"✅ ดาวน์โหลดไฟล์สำเร็จ: {SAVE_PATH}\")\n",
        "else:\n",
        "    print(f\"❌ ดาวน์โหลดไม่สำเร็จ (Error {response.status_code})\")\n"
      ]
    }
  ]
}