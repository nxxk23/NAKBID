{
  "nbformat": 4,
  "nbformat_minor": 0,
  "metadata": {
    "colab": {
      "provenance": [],
      "authorship_tag": "ABX9TyOS8dHvSizFoOndlnqEQ1JK",
      "include_colab_link": true
    },
    "kernelspec": {
      "name": "python3",
      "display_name": "Python 3"
    },
    "language_info": {
      "name": "python"
    }
  },
  "cells": [
    {
      "cell_type": "markdown",
      "metadata": {
        "id": "view-in-github",
        "colab_type": "text"
      },
      "source": [
        "<a href=\"https://colab.research.google.com/github/nxxk23/NAKBID/blob/main/NINK/gradio.ipynb\" target=\"_parent\"><img src=\"https://colab.research.google.com/assets/colab-badge.svg\" alt=\"Open In Colab\"/></a>"
      ]
    },
    {
      "cell_type": "code",
      "execution_count": 1,
      "metadata": {
        "colab": {
          "base_uri": "https://localhost:8080/"
        },
        "id": "5YCPk3OuhDyJ",
        "outputId": "970e93d6-a6b7-476b-dfd8-5a692242aa05"
      },
      "outputs": [
        {
          "output_type": "stream",
          "name": "stdout",
          "text": [
            "\u001b[2K   \u001b[90m━━━━━━━━━━━━━━━━━━━━━━━━━━━━━━━━━━━━━━━━\u001b[0m \u001b[32m62.3/62.3 MB\u001b[0m \u001b[31m12.8 MB/s\u001b[0m eta \u001b[36m0:00:00\u001b[0m\n",
            "\u001b[2K   \u001b[90m━━━━━━━━━━━━━━━━━━━━━━━━━━━━━━━━━━━━━━━━\u001b[0m \u001b[32m322.1/322.1 kB\u001b[0m \u001b[31m11.1 MB/s\u001b[0m eta \u001b[36m0:00:00\u001b[0m\n",
            "\u001b[2K   \u001b[90m━━━━━━━━━━━━━━━━━━━━━━━━━━━━━━━━━━━━━━━━\u001b[0m \u001b[32m94.8/94.8 kB\u001b[0m \u001b[31m5.2 MB/s\u001b[0m eta \u001b[36m0:00:00\u001b[0m\n",
            "\u001b[2K   \u001b[90m━━━━━━━━━━━━━━━━━━━━━━━━━━━━━━━━━━━━━━━━\u001b[0m \u001b[32m12.6/12.6 MB\u001b[0m \u001b[31m71.7 MB/s\u001b[0m eta \u001b[36m0:00:00\u001b[0m\n",
            "\u001b[2K   \u001b[90m━━━━━━━━━━━━━━━━━━━━━━━━━━━━━━━━━━━━━━━━\u001b[0m \u001b[32m71.5/71.5 kB\u001b[0m \u001b[31m3.8 MB/s\u001b[0m eta \u001b[36m0:00:00\u001b[0m\n",
            "\u001b[2K   \u001b[90m━━━━━━━━━━━━━━━━━━━━━━━━━━━━━━━━━━━━━━━━\u001b[0m \u001b[32m62.3/62.3 kB\u001b[0m \u001b[31m4.2 MB/s\u001b[0m eta \u001b[36m0:00:00\u001b[0m\n",
            "\u001b[?25h"
          ]
        }
      ],
      "source": [
        "!pip -q install gradio requests"
      ]
    },
    {
      "cell_type": "code",
      "source": [
        "import gradio as gr\n",
        "import requests\n",
        "\n",
        "# Function to call the FastAPI endpoint and get drug interactions\n",
        "def get_interactions(drug_names, tpuid_ids):\n",
        "    url = \"http://quanta2.manageai.co.th:7777/interactions/\"\n",
        "    # Prepare the data to send to FastAPI\n",
        "    data = {\n",
        "        \"input_text\": drug_names.split(\",\"),\n",
        "        \"tpu_id\": [int(x) for x in tpuid_ids.split(\",\")]\n",
        "    }\n",
        "    response = requests.post(url, json=data)\n",
        "\n",
        "    if response.status_code == 200:\n",
        "        interactions_data = response.json().get(\"interactions\", [])\n",
        "        interaction_pairs = []\n",
        "        # Prepare a list of drug pairs to show in the dropdown\n",
        "        for interaction in interactions_data:\n",
        "            pair_name = f\"{interaction['drug_name1']} <-> {interaction['drug_name2']}\"\n",
        "            interaction_pairs.append(pair_name)  # Just names for dropdown\n",
        "        return interaction_pairs, interactions_data  # Return pairs and full interaction data\n",
        "    else:\n",
        "        print(f\"Error fetching data: {response.status_code}\")\n",
        "        return [], []\n",
        "\n",
        "# Function to fetch details of a selected interaction\n",
        "def get_interaction_details(selected_interaction, interaction_data):\n",
        "    print(f\"Selected interaction: {selected_interaction}\")  # Log the selected interaction\n",
        "\n",
        "    # Split the selected interaction into two drug names\n",
        "    drug_name1, drug_name2 = selected_interaction.split(\" <-> \")\n",
        "    print(f\"Drug 1: {drug_name1}, Drug 2: {drug_name2}\")  # Log the split drug names\n",
        "\n",
        "    # Find the details for the selected pair\n",
        "    details = next((item for item in interaction_data\n",
        "                    if item['drug_name1'] == drug_name1 and item['drug_name2'] == drug_name2), None)\n",
        "\n",
        "    if details:\n",
        "        print(f\"Found details: {details}\")  # Log the found details\n",
        "        return {\n",
        "            \"Significance\": details[\"Significance\"],\n",
        "            \"Onset\": details[\"Onset\"],\n",
        "            \"Severity\": details[\"Severity\"],\n",
        "            \"Documentation\": details[\"Documentation\"],\n",
        "            \"Effect\": details.get(\"effect\", \"\"),\n",
        "            \"Mechanism\": details.get(\"mechanism\", \"\"),\n",
        "            \"Management\": details.get(\"management\", \"\"),\n",
        "            \"Discussion\": details.get(\"discussion\", \"\")\n",
        "        }\n",
        "    else:\n",
        "        print(\"No details found for the selected interaction\")  # Log if details aren't found\n",
        "    return {}\n",
        "\n",
        "\n",
        "# Define sample input sets for convenience\n",
        "def set_sample_input(sample_set):\n",
        "    samples = {\n",
        "        \"Set 1\": (\"AMILORIDE+HCTZ TAB., POTASSIUM CHLORIDE INJ 20MEQ/10ML,ASPIRIN 300 MG TAB,BEFARIN 3\", \"262926, 519545,226243,108159\"),\n",
        "        \"Set 2\": (\"AMILORIDE+HCTZ TAB., POTASSIUM CHLORIDE INJ 20MEQ/10ML\", \"262926, 519545\"),\n",
        "        \"Set 3\": (\"AMILORIDE+HCTZ TAB., POTASSIUM CHLORIDE INJ 20MEQ/10ML,ASPIRIN 300 MG TAB,BEFARIN 3\", \"262926, 519545, 226243, 108159\"),\n",
        "        \"Set 4\": (\"AAAA,BBBB\", \"0000000, 0000000\")  # No interactions expected\n",
        "    }\n",
        "    return samples.get(sample_set, (\"\", \"\"))\n",
        "\n",
        "# Gradio UI Setup\n",
        "with gr.Blocks() as demo:\n",
        "    gr.Markdown(\"## 💊 Drug Interaction Checker\")\n",
        "\n",
        "    # Dropdown for selecting sample set\n",
        "    sample_set_dropdown = gr.Dropdown(\n",
        "        choices=[\"Select Sample Set\", \"Set 1\", \"Set 2\", \"Set 3\", \"Set 4\"],\n",
        "        label=\"Select Test Sample\",\n",
        "        interactive=True\n",
        "    )\n",
        "\n",
        "    # Inputs for drug names and TPUIDs\n",
        "    with gr.Row():\n",
        "        drug_input = gr.Textbox(label=\"Enter Drug Names (comma-separated)\")\n",
        "        tpu_input = gr.Textbox(label=\"Enter TPUIDs (comma-separated)\")\n",
        "\n",
        "    submit_btn = gr.Button(\"Check Interactions\")\n",
        "\n",
        "    # Dropdown for displaying interactions\n",
        "    interaction_output = gr.Dropdown(\n",
        "        label=\"Select Drug Interaction\",\n",
        "        choices=[],  # Start with an empty list\n",
        "        interactive=True\n",
        "    )\n",
        "\n",
        "    # Textboxes for displaying details of the selected interaction\n",
        "    with gr.Row():\n",
        "        significance_box = gr.Textbox(label=\"Significance\", interactive=False)\n",
        "        onset_box = gr.Textbox(label=\"Onset\", interactive=False)\n",
        "        severity_box = gr.Textbox(label=\"Severity\", interactive=False)\n",
        "        documentation_box = gr.Textbox(label=\"Documentation\", interactive=False)\n",
        "\n",
        "    with gr.Accordion(\"Effect\", open=True):\n",
        "        effect_box = gr.Textbox(label=\"Effect\", interactive=False, lines=1.5)\n",
        "\n",
        "    with gr.Accordion(\"Mechanism\", open=True):\n",
        "        mechanism_box = gr.Textbox(label=\"Mechanism\", interactive=False, lines=1.5)\n",
        "\n",
        "    with gr.Accordion(\"Management\", open=True):\n",
        "        management_box = gr.Textbox(label=\"Management\", interactive=False, lines=1.5)\n",
        "\n",
        "    with gr.Accordion(\"Discussion\", open=True):\n",
        "        discussion_box = gr.Textbox(label=\"Discussion\", interactive=False, lines=1.5)\n",
        "\n",
        "    footer = gr.Markdown(\"\")\n",
        "\n",
        "    # Link sample set selection to the inputs\n",
        "    sample_set_dropdown.change(\n",
        "        set_sample_input,\n",
        "        inputs=[sample_set_dropdown],\n",
        "        outputs=[drug_input, tpu_input]\n",
        "    )\n",
        "\n",
        "        # Handle the submit button to fetch interactions\n",
        "    def on_submit(drug_names, tpuid_ids):\n",
        "        interactions, interaction_data = get_interactions(drug_names, tpuid_ids)\n",
        "        print(f\"Fetched interactions: {interactions}\")  # Log fetched interactions\n",
        "        print(f\"Interaction Data: {interaction_data}\")  # Log the entire interaction data for inspection\n",
        "\n",
        "        if not interactions:\n",
        "            return [], [], []  # Return empty dropdown if no interactions found\n",
        "        return gr.update(choices=interactions), gr.update(value=interaction_data), gr.State(interaction_data)\n",
        "\n",
        "    # Add an error output (gr.Textbox) for error messages\n",
        "    error_message_box = gr.Textbox(label=\"Error\", interactive=False, visible=False)\n",
        "\n",
        "    submit_btn.click(\n",
        "        on_submit,\n",
        "        inputs=[drug_input, tpu_input],\n",
        "        outputs=[interaction_output, error_message_box, gr.State()]\n",
        "    )\n",
        "\n",
        "    # When an interaction is selected, show details in the textboxes\n",
        "    def on_interaction_select(selected_interaction, interaction_data):\n",
        "        print(f\"Selected interaction: {selected_interaction}\")  # Log the selected interaction\n",
        "        print(f\"Interaction data available: {interaction_data}\")  # Log the available interaction data\n",
        "\n",
        "        if not interaction_data:\n",
        "            return [\"\", \"\", \"\", \"\", \"\", \"\", \"\", \"\"]\n",
        "\n",
        "        # Split the selected interaction to extract drug names\n",
        "        try:\n",
        "            drug_name1, drug_name2 = selected_interaction.split(\" <-> \")\n",
        "            print(f\"Drug 1: {drug_name1.strip()}, Drug 2: {drug_name2.strip()}\")  # Log the split drug names\n",
        "        except Exception as e:\n",
        "            print(f\"Error splitting selected interaction: {e}\")  # Log any error that happens during splitting\n",
        "            return [\"\", \"\", \"\", \"\", \"\", \"\", \"\", \"\"]\n",
        "\n",
        "        # Try to find the interaction details from the data\n",
        "        details = next((item for item in interaction_data\n",
        "                        if item['drug_name1'].strip() == drug_name1.strip() and item['drug_name2'].strip() == drug_name2.strip()), None)\n",
        "\n",
        "        if details:\n",
        "            print(f\"Found details: {details}\")  # Log the found details\n",
        "            return (\n",
        "                details.get(\"Significance\", \"\"),\n",
        "                details.get(\"Onset\", \"\"),\n",
        "                details.get(\"Severity\", \"\"),\n",
        "                details.get(\"Documentation\", \"\"),\n",
        "                details.get(\"Effect\", \"\"),\n",
        "                details.get(\"Mechanism\", \"\"),\n",
        "                details.get(\"Management\", \"\"),\n",
        "                details.get(\"Discussion\", \"\")\n",
        "            )\n",
        "        else:\n",
        "            print(\"No details found for the selected interaction\")  # Log if details aren't found\n",
        "        return [\"\", \"\", \"\", \"\", \"\", \"\", \"\", \"\"]\n",
        "\n",
        "\n",
        "    # Update the interaction details on selection\n",
        "    interaction_output.select(\n",
        "        on_interaction_select,\n",
        "        inputs=[interaction_output, gr.State()],\n",
        "        outputs=[significance_box, onset_box, severity_box, documentation_box,\n",
        "                 effect_box, mechanism_box, management_box, discussion_box]\n",
        "    )\n",
        "\n",
        "# Launch the Gradio interface\n",
        "demo.launch(debug=True)\n"
      ],
      "metadata": {
        "colab": {
          "base_uri": "https://localhost:8080/",
          "height": 715
        },
        "id": "vz3JI5ffk4cI",
        "outputId": "450de597-5a28-45b1-b302-2f10dd22c9cf"
      },
      "execution_count": null,
      "outputs": [
        {
          "output_type": "stream",
          "name": "stdout",
          "text": [
            "Running Gradio in a Colab notebook requires sharing enabled. Automatically setting `share=True` (you can turn this off by setting `share=False` in `launch()` explicitly).\n",
            "\n",
            "Colab notebook detected. This cell will run indefinitely so that you can see errors and logs. To turn off, set debug=False in launch().\n",
            "* Running on public URL: https://12b38f8ee61e1183a0.gradio.live\n",
            "\n",
            "This share link expires in 72 hours. For free permanent hosting and GPU upgrades, run `gradio deploy` from the terminal in the working directory to deploy to Hugging Face Spaces (https://huggingface.co/spaces)\n"
          ]
        },
        {
          "output_type": "display_data",
          "data": {
            "text/plain": [
              "<IPython.core.display.HTML object>"
            ],
            "text/html": [
              "<div><iframe src=\"https://12b38f8ee61e1183a0.gradio.live\" width=\"100%\" height=\"500\" allow=\"autoplay; camera; microphone; clipboard-read; clipboard-write;\" frameborder=\"0\" allowfullscreen></iframe></div>"
            ]
          },
          "metadata": {}
        },
        {
          "output_type": "stream",
          "name": "stdout",
          "text": [
            "Fetched interactions: ['AMILORIDE+HCTZ TAB. <-> POTASSIUM CHLORIDE INJ 20MEQ/10ML', 'WARFARIN 3 MG TAB <-> ASPIRIN 300 MG TAB']\n",
            "Interaction Data: [{'tpuid1': 262926, 'tpuid2': 519545, 'drug_name1': 'AMILORIDE+HCTZ TAB.', 'drug_name2': 'POTASSIUM CHLORIDE INJ 20MEQ/10ML', 'interaction_detail': 'POTASSIUM SPARING DIURETICS will increase potassium retention and can produce severe hyperkalemia.', 'Onset': 2, 'Severity': 1, 'Documentation': 1, 'Significance': 1, 'management': 'Do not use this combination without documented evidence that a patient has clinical symptoms of hypokalemia unresponsive to either agent alone. If the combination is required, the patient should have strict dietary counseling and close monitoring of serum', 'mechanism': 'A reduction in renal elimination of the potassium ion.', 'discussion': 'One study shows death from hyperkalemia due to potassium supplementation to be one of the more common causes of drug related deaths.3 Studies have shown that potassium sparing diuretics enhance potassium retention.1,2,4 A number of studies and case report', 'upduser': '-', 'reference': 'DRUG INTERACTION FACT 2009'}, {'tpuid1': 108159, 'tpuid2': 226243, 'drug_name1': 'WARFARIN 3 MG TAB', 'drug_name2': 'ASPIRIN 300 MG TAB', 'interaction_detail': 'ANTICOAGULANT activity may be enhanced. The adverse reactions of ASPIRIN on gastric mucosa and platelet function also may enhance the possibility of hemorrhage.', 'Onset': 2, 'Severity': 1, 'Documentation': 1, 'Significance': 1, 'management': 'If concurrent use cannot be avoided, frequently monitor INR and adjust ANTICOAGULANT dose accordingly when starting or stopping SALICYLATE therapy. Instruct patients to report unusual bleeding or bruising if ASPIRIN or topical SALICYLATES and ANTICOAGULAN', 'mechanism': 'See discussion', 'discussion': 'Controlled studies in patients receiving oral anticoagulants consistently demonstrated enhanced anticoagulant activity when aspirin doses exceeded 3 g/day.1 4 Platelet aggregation is inhibited in large and smaller aspirin doses.5,6 Severe hypoprothrombine', 'upduser': '-', 'reference': 'DRUG INTERACTION FACT 2009'}]\n",
            "Selected interaction: AMILORIDE+HCTZ TAB. <-> POTASSIUM CHLORIDE INJ 20MEQ/10ML\n",
            "Interaction data available: None\n"
          ]
        }
      ]
    },
    {
      "cell_type": "code",
      "source": [],
      "metadata": {
        "id": "6mWAds0R0EW5"
      },
      "execution_count": null,
      "outputs": []
    }
  ]
}