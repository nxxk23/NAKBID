{
  "cells": [
    {
      "cell_type": "markdown",
      "metadata": {
        "colab_type": "text",
        "id": "view-in-github"
      },
      "source": [
        "<a href=\"https://colab.research.google.com/github/nxxk23/NAKBID/blob/main/NINK/gradio.ipynb\" target=\"_parent\"><img src=\"https://colab.research.google.com/assets/colab-badge.svg\" alt=\"Open In Colab\"/></a>"
      ]
    },
    {
      "cell_type": "code",
      "execution_count": 1,
      "metadata": {
        "colab": {
          "base_uri": "https://localhost:8080/"
        },
        "id": "5YCPk3OuhDyJ",
        "outputId": "970e93d6-a6b7-476b-dfd8-5a692242aa05"
      },
      "outputs": [],
      "source": [
        "!pip -q install gradio requests"
      ]
    },
    {
      "cell_type": "code",
      "execution_count": 1,
      "metadata": {},
      "outputs": [
        {
          "name": "stderr",
          "output_type": "stream",
          "text": [
            "c:\\Users\\kantaphong\\anaconda3\\envs\\llm-env\\Lib\\site-packages\\tqdm\\auto.py:21: TqdmExperimentalWarning: Using `tqdm.autonotebook.tqdm` in notebook mode. Use `tqdm.tqdm` instead to force console mode (e.g. in jupyter console)\n",
            "  from .autonotebook import tqdm as notebook_tqdm\n"
          ]
        }
      ],
      "source": [
        "import gradio as gr\n",
        "import requests\n",
        "\n",
        "def get_interactions(drug_names, tpuid_ids):\n",
        "    url = \"http://quanta2.manageai.co.th:7777/interactions/\"\n",
        "    # Prepare the data to send to FastAPI\n",
        "    data = {\n",
        "        \"input_text\": drug_names.split(\",\"),\n",
        "        \"tpu_id\": [int(x) for x in tpuid_ids.split(\",\")]\n",
        "    }\n",
        "    response = requests.post(url, json=data)\n",
        "\n",
        "    if response.status_code == 200:\n",
        "        interactions_data = response.json().get(\"interactions\", [])\n",
        "        interaction_pairs = []\n",
        "        # Prepare a list of drug pairs to show in the dropdown\n",
        "        for interaction in interactions_data:\n",
        "            pair_name = f\"{interaction['drug_name1']} <-> {interaction['drug_name2']}\"\n",
        "            interaction_pairs.append(pair_name)  # Just names for dropdown\n",
        "        return interaction_pairs, interactions_data  # Return pairs and full interaction data\n",
        "    else:\n",
        "        print(f\"Error fetching data: {response.status_code}\")\n",
        "        return [], []\n",
        "    \n"
      ]
    },
    {
      "cell_type": "code",
      "execution_count": 2,
      "metadata": {},
      "outputs": [],
      "source": [
        "drug_names  = \"AMILORIDE+HCTZ TAB., POTASSIUM CHLORIDE INJ 20MEQ/10ML,ASPIRIN 300 MG TAB,BEFARIN 3\"\n",
        "tpuid_ids = \"262926, 519545,226243,108159\"\n",
        "drug_names2 = \"AMILORIDE+HCTZ TAB., POTASSIUM CHLORIDE INJ 20MEQ/10ML\"\n",
        "tpuid_ids2 = \"262926, 519545\"\n",
        "interactions, interaction_data = get_interactions(drug_names, tpuid_ids)\n"
      ]
    },
    {
      "cell_type": "code",
      "execution_count": 44,
      "metadata": {},
      "outputs": [
        {
          "data": {
            "text/plain": [
              "{'tpuid1': 262926,\n",
              " 'tpuid2': 519545,\n",
              " 'drug_name1': 'AMILORIDE+HCTZ TAB.',\n",
              " 'drug_name2': 'POTASSIUM CHLORIDE INJ 20MEQ/10ML',\n",
              " 'interaction_detail': 'POTASSIUM SPARING DIURETICS will increase potassium retention and can produce severe hyperkalemia.',\n",
              " 'Onset': 2,\n",
              " 'Severity': 1,\n",
              " 'Documentation': 1,\n",
              " 'Significance': 1,\n",
              " 'management': 'Do not use this combination without documented evidence that a patient has clinical symptoms of hypokalemia unresponsive to either agent alone. If the combination is required, the patient should have strict dietary counseling and close monitoring of serum',\n",
              " 'mechanism': 'A reduction in renal elimination of the potassium ion.',\n",
              " 'discussion': 'One study shows death from hyperkalemia due to potassium supplementation to be one of the more common causes of drug related deaths.3 Studies have shown that potassium sparing diuretics enhance potassium retention.1,2,4 A number of studies and case report',\n",
              " 'upduser': '-',\n",
              " 'reference': 'DRUG INTERACTION FACT 2009'}"
            ]
          },
          "execution_count": 44,
          "metadata": {},
          "output_type": "execute_result"
        }
      ],
      "source": [
        "interaction_data[0]"
      ]
    },
    {
      "cell_type": "code",
      "execution_count": 14,
      "metadata": {},
      "outputs": [
        {
          "name": "stdout",
          "output_type": "stream",
          "text": [
            "Found interaction: {'tpuid1': 262926, 'tpuid2': 519545, 'drug_name1': 'AMILORIDE+HCTZ TAB.', 'drug_name2': 'POTASSIUM CHLORIDE INJ 20MEQ/10ML', 'interaction_detail': 'POTASSIUM SPARING DIURETICS will increase potassium retention and can produce severe hyperkalemia.', 'Onset': 2, 'Severity': 1, 'Documentation': 1, 'Significance': 1, 'management': 'Do not use this combination without documented evidence that a patient has clinical symptoms of hypokalemia unresponsive to either agent alone. If the combination is required, the patient should have strict dietary counseling and close monitoring of serum', 'mechanism': 'A reduction in renal elimination of the potassium ion.', 'discussion': 'One study shows death from hyperkalemia due to potassium supplementation to be one of the more common causes of drug related deaths.3 Studies have shown that potassium sparing diuretics enhance potassium retention.1,2,4 A number of studies and case report', 'upduser': '-', 'reference': 'DRUG INTERACTION FACT 2009'}\n",
            "Significance: 1\n",
            "Onset: 2\n",
            "Severity: 1\n",
            "Management: Do not use this combination without documented evidence that a patient has clinical symptoms of hypokalemia unresponsive to either agent alone. If the combination is required, the patient should have strict dietary counseling and close monitoring of serum\n",
            "Mechanism: A reduction in renal elimination of the potassium ion.\n",
            "Discussion: One study shows death from hyperkalemia due to potassium supplementation to be one of the more common causes of drug related deaths.3 Studies have shown that potassium sparing diuretics enhance potassium retention.1,2,4 A number of studies and case report\n",
            "Reference: DRUG INTERACTION FACT 2009\n",
            "Found interaction: {'tpuid1': 108159, 'tpuid2': 226243, 'drug_name1': 'WARFARIN 3 MG TAB', 'drug_name2': 'ASPIRIN 300 MG TAB', 'interaction_detail': 'ANTICOAGULANT activity may be enhanced. The adverse reactions of ASPIRIN on gastric mucosa and platelet function also may enhance the possibility of hemorrhage.', 'Onset': 2, 'Severity': 1, 'Documentation': 1, 'Significance': 1, 'management': 'If concurrent use cannot be avoided, frequently monitor INR and adjust ANTICOAGULANT dose accordingly when starting or stopping SALICYLATE therapy. Instruct patients to report unusual bleeding or bruising if ASPIRIN or topical SALICYLATES and ANTICOAGULAN', 'mechanism': 'See discussion', 'discussion': 'Controlled studies in patients receiving oral anticoagulants consistently demonstrated enhanced anticoagulant activity when aspirin doses exceeded 3 g/day.1 4 Platelet aggregation is inhibited in large and smaller aspirin doses.5,6 Severe hypoprothrombine', 'upduser': '-', 'reference': 'DRUG INTERACTION FACT 2009'}\n",
            "Significance: 1\n",
            "Onset: 2\n",
            "Severity: 1\n",
            "Management: If concurrent use cannot be avoided, frequently monitor INR and adjust ANTICOAGULANT dose accordingly when starting or stopping SALICYLATE therapy. Instruct patients to report unusual bleeding or bruising if ASPIRIN or topical SALICYLATES and ANTICOAGULAN\n",
            "Mechanism: See discussion\n",
            "Discussion: Controlled studies in patients receiving oral anticoagulants consistently demonstrated enhanced anticoagulant activity when aspirin doses exceeded 3 g/day.1 4 Platelet aggregation is inhibited in large and smaller aspirin doses.5,6 Severe hypoprothrombine\n",
            "Reference: DRUG INTERACTION FACT 2009\n"
          ]
        }
      ],
      "source": [
        "# Example usage\n",
        "drug_names  = \"AMILORIDE+HCTZ TAB., POTASSIUM CHLORIDE INJ 20MEQ/10ML,ASPIRIN 300 MG TAB,BEFARIN 3\"\n",
        "tpuid_ids = \"262926, 519545,226243,108159\"\n",
        "drug_names2 = \"AMILORIDE+HCTZ TAB., POTASSIUM CHLORIDE INJ 20MEQ/10ML\"\n",
        "tpuid_ids2 = \"262926, 519545\"\n",
        "interactions, interaction_data = get_interactions(drug_names, tpuid_ids)\n",
        "\n",
        "for details in interaction_data:\n",
        "    print(f\"Found interaction: {details}\")\n",
        "    print(f\"Significance: {details.get('Significance', '')}\")\n",
        "    print(f\"Onset: {details.get('Onset', '')}\")\n",
        "    print(f\"Severity: {details.get('Severity', '')}\")\n",
        "    print(f\"Management: {details.get('management', '')}\")\n",
        "    print(f\"Mechanism: {details.get('mechanism', '')}\")\n",
        "    print(f\"Discussion: {details.get('discussion', '')}\")\n",
        "    print(f\"Reference: {details.get('reference', '')}\")"
      ]
    },
    {
      "cell_type": "code",
      "execution_count": 13,
      "metadata": {},
      "outputs": [],
      "source": [
        "def store_detail(interaction_data):\n",
        "    # If there's no interaction data, return empty fields\n",
        "    if not interaction_data:\n",
        "        print(\"No interaction data available.\")  # Log when no data exists\n",
        "        return [[\"\", \"\", \"\", \"\", \"\", \"\", \"\", \"\"]]  # Return an empty set of values\n",
        "\n",
        "    all_details = []\n",
        "    # Iterate over all interaction data and collect the details\n",
        "    for details in interaction_data:\n",
        "        print(f\"Found details: {details}\")  # Log the found details\n",
        "\n",
        "        # Collect the details for each interaction, defaulting to empty string if not available\n",
        "        interaction_details = (\n",
        "            details.get(\"Significance\", \"\"),\n",
        "            details.get(\"Onset\", \"\"),\n",
        "            details.get(\"Severity\", \"\"),\n",
        "            details.get(\"Documentation\", \"\"),\n",
        "            details.get(\"mechanism\", \"\"),\n",
        "            details.get(\"management\", \"\"),\n",
        "            details.get(\"discussion\", \"\")\n",
        "        )\n",
        "        \n",
        "        all_details.append(interaction_details)\n",
        "    return all_details\n",
        "\n"
      ]
    },
    {
      "cell_type": "code",
      "execution_count": 72,
      "metadata": {},
      "outputs": [
        {
          "data": {
            "text/plain": [
              "['AMILORIDE+HCTZ TAB. <-> POTASSIUM CHLORIDE INJ 20MEQ/10ML',\n",
              " 'WARFARIN 3 MG TAB <-> ASPIRIN 300 MG TAB']"
            ]
          },
          "execution_count": 72,
          "metadata": {},
          "output_type": "execute_result"
        }
      ],
      "source": [
        "interactions2"
      ]
    },
    {
      "cell_type": "code",
      "execution_count": null,
      "metadata": {},
      "outputs": [
        {
          "ename": "IndentationError",
          "evalue": "unindent does not match any outer indentation level (<string>, line 10)",
          "output_type": "error",
          "traceback": [
            "\u001b[1;36m  File \u001b[1;32m<string>:10\u001b[1;36m\u001b[0m\n\u001b[1;33m    all_details = []\u001b[0m\n\u001b[1;37m                    ^\u001b[0m\n\u001b[1;31mIndentationError\u001b[0m\u001b[1;31m:\u001b[0m unindent does not match any outer indentation level\n"
          ]
        }
      ],
      "source": [
        "interactions, interaction_detail = get_interactions(drug_names, tpuid_ids)\n",
        "selected_interaction = 'AMILORIDE+HCTZ TAB. <-> POTASSIUM CHLORIDE INJ 20MEQ/10ML'\n",
        "\n",
        "def on_interaction_select(selected_interaction, drug_input, tpu_input):\n",
        "    print(f\"Selected interaction: {selected_interaction}\")  # Log the selected interaction\n",
        "    interactions, interaction_detail = get_interactions(drug_input, tpu_input)\n",
        "    for idx, interaction in enumerate(interactions):\n",
        "        if selected_interaction == interaction:\n",
        "            print(f\"Found matchingฆinteraction: {selected_interaction}\")  # Log when a match is found\n",
        "            # Extract the corresponding interaction_detail for the matched interaction\n",
        "            matching_interaction_detail = interaction_detail[idx]\n",
        "            print(f\"Interaction detail: {matching_interaction_detail}\")  # Log the corresponding interaction details\n",
        "             # Store the matching details using store_detail function\n",
        "            my_store = store_detail([matching_interaction_detail])  # Pass the matched interaction details as a list\n",
        "            # return my_store[0]  # Return the details for the first matching interaction\n",
        "\n",
        "            return my_store\n"
      ]
    },
    {
      "cell_type": "code",
      "execution_count": 17,
      "metadata": {},
      "outputs": [
        {
          "name": "stdout",
          "output_type": "stream",
          "text": [
            "Selected interaction: AMILORIDE+HCTZ TAB. <-> POTASSIUM CHLORIDE INJ 20MEQ/10ML\n",
            "Found matchingฆinteraction: AMILORIDE+HCTZ TAB. <-> POTASSIUM CHLORIDE INJ 20MEQ/10ML\n",
            "Interaction detail: {'tpuid1': 262926, 'tpuid2': 519545, 'drug_name1': 'AMILORIDE+HCTZ TAB.', 'drug_name2': 'POTASSIUM CHLORIDE INJ 20MEQ/10ML', 'interaction_detail': 'POTASSIUM SPARING DIURETICS will increase potassium retention and can produce severe hyperkalemia.', 'Onset': 2, 'Severity': 1, 'Documentation': 1, 'Significance': 1, 'management': 'Do not use this combination without documented evidence that a patient has clinical symptoms of hypokalemia unresponsive to either agent alone. If the combination is required, the patient should have strict dietary counseling and close monitoring of serum', 'mechanism': 'A reduction in renal elimination of the potassium ion.', 'discussion': 'One study shows death from hyperkalemia due to potassium supplementation to be one of the more common causes of drug related deaths.3 Studies have shown that potassium sparing diuretics enhance potassium retention.1,2,4 A number of studies and case report', 'upduser': '-', 'reference': 'DRUG INTERACTION FACT 2009'}\n",
            "Found details: {'tpuid1': 262926, 'tpuid2': 519545, 'drug_name1': 'AMILORIDE+HCTZ TAB.', 'drug_name2': 'POTASSIUM CHLORIDE INJ 20MEQ/10ML', 'interaction_detail': 'POTASSIUM SPARING DIURETICS will increase potassium retention and can produce severe hyperkalemia.', 'Onset': 2, 'Severity': 1, 'Documentation': 1, 'Significance': 1, 'management': 'Do not use this combination without documented evidence that a patient has clinical symptoms of hypokalemia unresponsive to either agent alone. If the combination is required, the patient should have strict dietary counseling and close monitoring of serum', 'mechanism': 'A reduction in renal elimination of the potassium ion.', 'discussion': 'One study shows death from hyperkalemia due to potassium supplementation to be one of the more common causes of drug related deaths.3 Studies have shown that potassium sparing diuretics enhance potassium retention.1,2,4 A number of studies and case report', 'upduser': '-', 'reference': 'DRUG INTERACTION FACT 2009'}\n"
          ]
        }
      ],
      "source": [
        "selected_interaction = 'AMILORIDE+HCTZ TAB. <-> POTASSIUM CHLORIDE INJ 20MEQ/10ML'\n",
        "my_store = on_interaction_select(selected_interaction,drug_names, tpuid_ids)"
      ]
    },
    {
      "cell_type": "code",
      "execution_count": 18,
      "metadata": {},
      "outputs": [
        {
          "data": {
            "text/plain": [
              "[(1,\n",
              "  2,\n",
              "  1,\n",
              "  1,\n",
              "  'A reduction in renal elimination of the potassium ion.',\n",
              "  'Do not use this combination without documented evidence that a patient has clinical symptoms of hypokalemia unresponsive to either agent alone. If the combination is required, the patient should have strict dietary counseling and close monitoring of serum',\n",
              "  'One study shows death from hyperkalemia due to potassium supplementation to be one of the more common causes of drug related deaths.3 Studies have shown that potassium sparing diuretics enhance potassium retention.1,2,4 A number of studies and case report')]"
            ]
          },
          "execution_count": 18,
          "metadata": {},
          "output_type": "execute_result"
        }
      ],
      "source": [
        "my_store"
      ]
    },
    {
      "cell_type": "code",
      "execution_count": 20,
      "metadata": {},
      "outputs": [
        {
          "data": {
            "text/plain": [
              "{'tpuid1': 262926,\n",
              " 'tpuid2': 519545,\n",
              " 'drug_name1': 'AMILORIDE+HCTZ TAB.',\n",
              " 'drug_name2': 'POTASSIUM CHLORIDE INJ 20MEQ/10ML',\n",
              " 'interaction_detail': 'POTASSIUM SPARING DIURETICS will increase potassium retention and can produce severe hyperkalemia.',\n",
              " 'Onset': 2,\n",
              " 'Severity': 1,\n",
              " 'Documentation': 1,\n",
              " 'Significance': 1,\n",
              " 'management': 'Do not use this combination without documented evidence that a patient has clinical symptoms of hypokalemia unresponsive to either agent alone. If the combination is required, the patient should have strict dietary counseling and close monitoring of serum',\n",
              " 'mechanism': 'A reduction in renal elimination of the potassium ion.',\n",
              " 'discussion': 'One study shows death from hyperkalemia due to potassium supplementation to be one of the more common causes of drug related deaths.3 Studies have shown that potassium sparing diuretics enhance potassium retention.1,2,4 A number of studies and case report',\n",
              " 'upduser': '-',\n",
              " 'reference': 'DRUG INTERACTION FACT 2009'}"
            ]
          },
          "execution_count": 20,
          "metadata": {},
          "output_type": "execute_result"
        }
      ],
      "source": [
        "interaction_detail[0]"
      ]
    },
    {
      "cell_type": "code",
      "execution_count": null,
      "metadata": {
        "colab": {
          "base_uri": "https://localhost:8080/",
          "height": 715
        },
        "id": "vz3JI5ffk4cI",
        "outputId": "450de597-5a28-45b1-b302-2f10dd22c9cf"
      },
      "outputs": [
        {
          "name": "stdout",
          "output_type": "stream",
          "text": [
            "* Running on local URL:  http://127.0.0.1:7860\n",
            "\n",
            "To create a public link, set `share=True` in `launch()`.\n"
          ]
        },
        {
          "data": {
            "text/html": [
              "<div><iframe src=\"http://127.0.0.1:7860/\" width=\"100%\" height=\"500\" allow=\"autoplay; camera; microphone; clipboard-read; clipboard-write;\" frameborder=\"0\" allowfullscreen></iframe></div>"
            ],
            "text/plain": [
              "<IPython.core.display.HTML object>"
            ]
          },
          "metadata": {},
          "output_type": "display_data"
        },
        {
          "name": "stdout",
          "output_type": "stream",
          "text": [
            "Fetched interactions: ['AMILORIDE+HCTZ TAB. <-> POTASSIUM CHLORIDE INJ 20MEQ/10ML', 'WARFARIN 3 MG TAB <-> ASPIRIN 300 MG TAB']\n",
            "Interaction Data: [{'tpuid1': 262926, 'tpuid2': 519545, 'drug_name1': 'AMILORIDE+HCTZ TAB.', 'drug_name2': 'POTASSIUM CHLORIDE INJ 20MEQ/10ML', 'interaction_detail': 'POTASSIUM SPARING DIURETICS will increase potassium retention and can produce severe hyperkalemia.', 'Onset': 2, 'Severity': 1, 'Documentation': 1, 'Significance': 1, 'management': 'Do not use this combination without documented evidence that a patient has clinical symptoms of hypokalemia unresponsive to either agent alone. If the combination is required, the patient should have strict dietary counseling and close monitoring of serum', 'mechanism': 'A reduction in renal elimination of the potassium ion.', 'discussion': 'One study shows death from hyperkalemia due to potassium supplementation to be one of the more common causes of drug related deaths.3 Studies have shown that potassium sparing diuretics enhance potassium retention.1,2,4 A number of studies and case report', 'upduser': '-', 'reference': 'DRUG INTERACTION FACT 2009'}, {'tpuid1': 108159, 'tpuid2': 226243, 'drug_name1': 'WARFARIN 3 MG TAB', 'drug_name2': 'ASPIRIN 300 MG TAB', 'interaction_detail': 'ANTICOAGULANT activity may be enhanced. The adverse reactions of ASPIRIN on gastric mucosa and platelet function also may enhance the possibility of hemorrhage.', 'Onset': 2, 'Severity': 1, 'Documentation': 1, 'Significance': 1, 'management': 'If concurrent use cannot be avoided, frequently monitor INR and adjust ANTICOAGULANT dose accordingly when starting or stopping SALICYLATE therapy. Instruct patients to report unusual bleeding or bruising if ASPIRIN or topical SALICYLATES and ANTICOAGULAN', 'mechanism': 'See discussion', 'discussion': 'Controlled studies in patients receiving oral anticoagulants consistently demonstrated enhanced anticoagulant activity when aspirin doses exceeded 3 g/day.1 4 Platelet aggregation is inhibited in large and smaller aspirin doses.5,6 Severe hypoprothrombine', 'upduser': '-', 'reference': 'DRUG INTERACTION FACT 2009'}]\n",
            "Fetched interactions: ['AMILORIDE+HCTZ TAB. <-> POTASSIUM CHLORIDE INJ 20MEQ/10ML', 'WARFARIN 3 MG TAB <-> ASPIRIN 300 MG TAB']\n",
            "Interaction Data: [{'tpuid1': 262926, 'tpuid2': 519545, 'drug_name1': 'AMILORIDE+HCTZ TAB.', 'drug_name2': 'POTASSIUM CHLORIDE INJ 20MEQ/10ML', 'interaction_detail': 'POTASSIUM SPARING DIURETICS will increase potassium retention and can produce severe hyperkalemia.', 'Onset': 2, 'Severity': 1, 'Documentation': 1, 'Significance': 1, 'management': 'Do not use this combination without documented evidence that a patient has clinical symptoms of hypokalemia unresponsive to either agent alone. If the combination is required, the patient should have strict dietary counseling and close monitoring of serum', 'mechanism': 'A reduction in renal elimination of the potassium ion.', 'discussion': 'One study shows death from hyperkalemia due to potassium supplementation to be one of the more common causes of drug related deaths.3 Studies have shown that potassium sparing diuretics enhance potassium retention.1,2,4 A number of studies and case report', 'upduser': '-', 'reference': 'DRUG INTERACTION FACT 2009'}, {'tpuid1': 108159, 'tpuid2': 226243, 'drug_name1': 'WARFARIN 3 MG TAB', 'drug_name2': 'ASPIRIN 300 MG TAB', 'interaction_detail': 'ANTICOAGULANT activity may be enhanced. The adverse reactions of ASPIRIN on gastric mucosa and platelet function also may enhance the possibility of hemorrhage.', 'Onset': 2, 'Severity': 1, 'Documentation': 1, 'Significance': 1, 'management': 'If concurrent use cannot be avoided, frequently monitor INR and adjust ANTICOAGULANT dose accordingly when starting or stopping SALICYLATE therapy. Instruct patients to report unusual bleeding or bruising if ASPIRIN or topical SALICYLATES and ANTICOAGULAN', 'mechanism': 'See discussion', 'discussion': 'Controlled studies in patients receiving oral anticoagulants consistently demonstrated enhanced anticoagulant activity when aspirin doses exceeded 3 g/day.1 4 Platelet aggregation is inhibited in large and smaller aspirin doses.5,6 Severe hypoprothrombine', 'upduser': '-', 'reference': 'DRUG INTERACTION FACT 2009'}]\n",
            "Selected interaction: AMILORIDE+HCTZ TAB. <-> POTASSIUM CHLORIDE INJ 20MEQ/10ML\n",
            "Found matching interaction: AMILORIDE+HCTZ TAB. <-> POTASSIUM CHLORIDE INJ 20MEQ/10ML\n",
            "Interaction detail: {'tpuid1': 262926, 'tpuid2': 519545, 'drug_name1': 'AMILORIDE+HCTZ TAB.', 'drug_name2': 'POTASSIUM CHLORIDE INJ 20MEQ/10ML', 'interaction_detail': 'POTASSIUM SPARING DIURETICS will increase potassium retention and can produce severe hyperkalemia.', 'Onset': 2, 'Severity': 1, 'Documentation': 1, 'Significance': 1, 'management': 'Do not use this combination without documented evidence that a patient has clinical symptoms of hypokalemia unresponsive to either agent alone. If the combination is required, the patient should have strict dietary counseling and close monitoring of serum', 'mechanism': 'A reduction in renal elimination of the potassium ion.', 'discussion': 'One study shows death from hyperkalemia due to potassium supplementation to be one of the more common causes of drug related deaths.3 Studies have shown that potassium sparing diuretics enhance potassium retention.1,2,4 A number of studies and case report', 'upduser': '-', 'reference': 'DRUG INTERACTION FACT 2009'}\n",
            "Found details: {'tpuid1': 262926, 'tpuid2': 519545, 'drug_name1': 'AMILORIDE+HCTZ TAB.', 'drug_name2': 'POTASSIUM CHLORIDE INJ 20MEQ/10ML', 'interaction_detail': 'POTASSIUM SPARING DIURETICS will increase potassium retention and can produce severe hyperkalemia.', 'Onset': 2, 'Severity': 1, 'Documentation': 1, 'Significance': 1, 'management': 'Do not use this combination without documented evidence that a patient has clinical symptoms of hypokalemia unresponsive to either agent alone. If the combination is required, the patient should have strict dietary counseling and close monitoring of serum', 'mechanism': 'A reduction in renal elimination of the potassium ion.', 'discussion': 'One study shows death from hyperkalemia due to potassium supplementation to be one of the more common causes of drug related deaths.3 Studies have shown that potassium sparing diuretics enhance potassium retention.1,2,4 A number of studies and case report', 'upduser': '-', 'reference': 'DRUG INTERACTION FACT 2009'}\n",
            "(1, 2, 1, 1, 'A reduction in renal elimination of the potassium ion.', 'Do not use this combination without documented evidence that a patient has clinical symptoms of hypokalemia unresponsive to either agent alone. If the combination is required, the patient should have strict dietary counseling and close monitoring of serum', 'One study shows death from hyperkalemia due to potassium supplementation to be one of the more common causes of drug related deaths.3 Studies have shown that potassium sparing diuretics enhance potassium retention.1,2,4 A number of studies and case report')\n",
            "Selected interaction: WARFARIN 3 MG TAB <-> ASPIRIN 300 MG TAB\n",
            "Found matching interaction: WARFARIN 3 MG TAB <-> ASPIRIN 300 MG TAB\n",
            "Interaction detail: {'tpuid1': 108159, 'tpuid2': 226243, 'drug_name1': 'WARFARIN 3 MG TAB', 'drug_name2': 'ASPIRIN 300 MG TAB', 'interaction_detail': 'ANTICOAGULANT activity may be enhanced. The adverse reactions of ASPIRIN on gastric mucosa and platelet function also may enhance the possibility of hemorrhage.', 'Onset': 2, 'Severity': 1, 'Documentation': 1, 'Significance': 1, 'management': 'If concurrent use cannot be avoided, frequently monitor INR and adjust ANTICOAGULANT dose accordingly when starting or stopping SALICYLATE therapy. Instruct patients to report unusual bleeding or bruising if ASPIRIN or topical SALICYLATES and ANTICOAGULAN', 'mechanism': 'See discussion', 'discussion': 'Controlled studies in patients receiving oral anticoagulants consistently demonstrated enhanced anticoagulant activity when aspirin doses exceeded 3 g/day.1 4 Platelet aggregation is inhibited in large and smaller aspirin doses.5,6 Severe hypoprothrombine', 'upduser': '-', 'reference': 'DRUG INTERACTION FACT 2009'}\n",
            "Found details: {'tpuid1': 108159, 'tpuid2': 226243, 'drug_name1': 'WARFARIN 3 MG TAB', 'drug_name2': 'ASPIRIN 300 MG TAB', 'interaction_detail': 'ANTICOAGULANT activity may be enhanced. The adverse reactions of ASPIRIN on gastric mucosa and platelet function also may enhance the possibility of hemorrhage.', 'Onset': 2, 'Severity': 1, 'Documentation': 1, 'Significance': 1, 'management': 'If concurrent use cannot be avoided, frequently monitor INR and adjust ANTICOAGULANT dose accordingly when starting or stopping SALICYLATE therapy. Instruct patients to report unusual bleeding or bruising if ASPIRIN or topical SALICYLATES and ANTICOAGULAN', 'mechanism': 'See discussion', 'discussion': 'Controlled studies in patients receiving oral anticoagulants consistently demonstrated enhanced anticoagulant activity when aspirin doses exceeded 3 g/day.1 4 Platelet aggregation is inhibited in large and smaller aspirin doses.5,6 Severe hypoprothrombine', 'upduser': '-', 'reference': 'DRUG INTERACTION FACT 2009'}\n",
            "(1, 2, 1, 1, 'See discussion', 'If concurrent use cannot be avoided, frequently monitor INR and adjust ANTICOAGULANT dose accordingly when starting or stopping SALICYLATE therapy. Instruct patients to report unusual bleeding or bruising if ASPIRIN or topical SALICYLATES and ANTICOAGULAN', 'Controlled studies in patients receiving oral anticoagulants consistently demonstrated enhanced anticoagulant activity when aspirin doses exceeded 3 g/day.1 4 Platelet aggregation is inhibited in large and smaller aspirin doses.5,6 Severe hypoprothrombine')\n",
            "Fetched interactions: ['AMILORIDE+HCTZ TAB. <-> POTASSIUM CHLORIDE INJ 20MEQ/10ML', 'WARFARIN 3 MG TAB <-> ASPIRIN 300 MG TAB']\n",
            "Interaction Data: [{'tpuid1': 262926, 'tpuid2': 519545, 'drug_name1': 'AMILORIDE+HCTZ TAB.', 'drug_name2': 'POTASSIUM CHLORIDE INJ 20MEQ/10ML', 'interaction_detail': 'POTASSIUM SPARING DIURETICS will increase potassium retention and can produce severe hyperkalemia.', 'Onset': 2, 'Severity': 1, 'Documentation': 1, 'Significance': 1, 'management': 'Do not use this combination without documented evidence that a patient has clinical symptoms of hypokalemia unresponsive to either agent alone. If the combination is required, the patient should have strict dietary counseling and close monitoring of serum', 'mechanism': 'A reduction in renal elimination of the potassium ion.', 'discussion': 'One study shows death from hyperkalemia due to potassium supplementation to be one of the more common causes of drug related deaths.3 Studies have shown that potassium sparing diuretics enhance potassium retention.1,2,4 A number of studies and case report', 'upduser': '-', 'reference': 'DRUG INTERACTION FACT 2009'}, {'tpuid1': 108159, 'tpuid2': 226243, 'drug_name1': 'WARFARIN 3 MG TAB', 'drug_name2': 'ASPIRIN 300 MG TAB', 'interaction_detail': 'ANTICOAGULANT activity may be enhanced. The adverse reactions of ASPIRIN on gastric mucosa and platelet function also may enhance the possibility of hemorrhage.', 'Onset': 2, 'Severity': 1, 'Documentation': 1, 'Significance': 1, 'management': 'If concurrent use cannot be avoided, frequently monitor INR and adjust ANTICOAGULANT dose accordingly when starting or stopping SALICYLATE therapy. Instruct patients to report unusual bleeding or bruising if ASPIRIN or topical SALICYLATES and ANTICOAGULAN', 'mechanism': 'See discussion', 'discussion': 'Controlled studies in patients receiving oral anticoagulants consistently demonstrated enhanced anticoagulant activity when aspirin doses exceeded 3 g/day.1 4 Platelet aggregation is inhibited in large and smaller aspirin doses.5,6 Severe hypoprothrombine', 'upduser': '-', 'reference': 'DRUG INTERACTION FACT 2009'}]\n",
            "Selected interaction: AMILORIDE+HCTZ TAB. <-> POTASSIUM CHLORIDE INJ 20MEQ/10ML\n",
            "Found matching interaction: AMILORIDE+HCTZ TAB. <-> POTASSIUM CHLORIDE INJ 20MEQ/10ML\n",
            "Interaction detail: {'tpuid1': 262926, 'tpuid2': 519545, 'drug_name1': 'AMILORIDE+HCTZ TAB.', 'drug_name2': 'POTASSIUM CHLORIDE INJ 20MEQ/10ML', 'interaction_detail': 'POTASSIUM SPARING DIURETICS will increase potassium retention and can produce severe hyperkalemia.', 'Onset': 2, 'Severity': 1, 'Documentation': 1, 'Significance': 1, 'management': 'Do not use this combination without documented evidence that a patient has clinical symptoms of hypokalemia unresponsive to either agent alone. If the combination is required, the patient should have strict dietary counseling and close monitoring of serum', 'mechanism': 'A reduction in renal elimination of the potassium ion.', 'discussion': 'One study shows death from hyperkalemia due to potassium supplementation to be one of the more common causes of drug related deaths.3 Studies have shown that potassium sparing diuretics enhance potassium retention.1,2,4 A number of studies and case report', 'upduser': '-', 'reference': 'DRUG INTERACTION FACT 2009'}\n",
            "Found details: {'tpuid1': 262926, 'tpuid2': 519545, 'drug_name1': 'AMILORIDE+HCTZ TAB.', 'drug_name2': 'POTASSIUM CHLORIDE INJ 20MEQ/10ML', 'interaction_detail': 'POTASSIUM SPARING DIURETICS will increase potassium retention and can produce severe hyperkalemia.', 'Onset': 2, 'Severity': 1, 'Documentation': 1, 'Significance': 1, 'management': 'Do not use this combination without documented evidence that a patient has clinical symptoms of hypokalemia unresponsive to either agent alone. If the combination is required, the patient should have strict dietary counseling and close monitoring of serum', 'mechanism': 'A reduction in renal elimination of the potassium ion.', 'discussion': 'One study shows death from hyperkalemia due to potassium supplementation to be one of the more common causes of drug related deaths.3 Studies have shown that potassium sparing diuretics enhance potassium retention.1,2,4 A number of studies and case report', 'upduser': '-', 'reference': 'DRUG INTERACTION FACT 2009'}\n",
            "(1, 2, 1, 1, 'A reduction in renal elimination of the potassium ion.', 'Do not use this combination without documented evidence that a patient has clinical symptoms of hypokalemia unresponsive to either agent alone. If the combination is required, the patient should have strict dietary counseling and close monitoring of serum', 'One study shows death from hyperkalemia due to potassium supplementation to be one of the more common causes of drug related deaths.3 Studies have shown that potassium sparing diuretics enhance potassium retention.1,2,4 A number of studies and case report')\n"
          ]
        }
      ],
      "source": [
        "\n",
        "import gradio as gr\n",
        "import requests\n",
        "\n",
        "# Function to call the FastAPI endpoint and get drug interactions\n",
        "def get_interactions(drug_names, tpuid_ids):\n",
        "    url = \"http://quanta2.manageai.co.th:7777/interactions/\"\n",
        "    # Prepare the data to send to FastAPI\n",
        "    data = {\n",
        "        \"input_text\": drug_names.split(\",\"),\n",
        "        \"tpu_id\": [int(x) for x in tpuid_ids.split(\",\")]\n",
        "    }\n",
        "    response = requests.post(url, json=data)\n",
        "\n",
        "    if response.status_code == 200:\n",
        "        interactions_data = response.json().get(\"interactions\", [])\n",
        "        interaction_pairs = []\n",
        "        # Prepare a list of drug pairs to show in the dropdown\n",
        "        for interaction in interactions_data:\n",
        "            pair_name = f\"{interaction['drug_name1']} <-> {interaction['drug_name2']}\"\n",
        "            interaction_pairs.append(pair_name)  # Just names for dropdown\n",
        "        return interaction_pairs, interactions_data  # Return pairs and full interaction data\n",
        "    else:\n",
        "        print(f\"Error fetching data: {response.status_code}\")\n",
        "        return [], []\n",
        "\n",
        "\n",
        "\n",
        "# Define sample input sets for convenience\n",
        "def set_sample_input(sample_set):\n",
        "    samples = {\n",
        "        \"Set 1\": (\"AMILORIDE+HCTZ TAB., POTASSIUM CHLORIDE INJ 20MEQ/10ML,ASPIRIN 300 MG TAB,BEFARIN 3\", \"262926, 519545,226243,108159\"),\n",
        "        \"Set 2\": (\"AMILORIDE+HCTZ TAB., POTASSIUM CHLORIDE INJ 20MEQ/10ML\", \"262926, 519545\"),\n",
        "        \"Set 3\": (\"AMILORIDE+HCTZ TAB., POTASSIUM CHLORIDE INJ 20MEQ/10ML,ASPIRIN 300 MG TAB,BEFARIN 3\", \"262926, 519545, 226243, 108159\"),\n",
        "        \"Set 4\": (\"AAAA,BBBB\", \"0000000, 0000000\")  # No interactions expected\n",
        "    }\n",
        "    return samples.get(sample_set, (\"\", \"\"))\n",
        "\n",
        "# Gradio UI Setup\n",
        "with gr.Blocks() as demo:\n",
        "    gr.Markdown(\"## 💊 Drug Interaction Checker\")\n",
        "\n",
        "    # Dropdown for selecting sample set\n",
        "    sample_set_dropdown = gr.Dropdown(\n",
        "        choices=[\"Select Sample Set\", \"Set 1\", \"Set 2\", \"Set 3\", \"Set 4\"],\n",
        "        label=\"Select Test Sample\",\n",
        "        interactive=True\n",
        "    )\n",
        "\n",
        "    # Inputs for drug names and TPUIDs\n",
        "    with gr.Row():\n",
        "        drug_input = gr.Textbox(label=\"Enter Drug Names (comma-separated)\")\n",
        "        tpu_input = gr.Textbox(label=\"Enter TPUIDs (comma-separated)\")\n",
        "\n",
        "    submit_btn = gr.Button(\"Check Interactions\")\n",
        "\n",
        "    # Dropdown for displaying interactions\n",
        "    interaction_output = gr.Dropdown(\n",
        "        label=\"Select Drug Interaction\",\n",
        "        choices=[],  # Start with an empty list\n",
        "        interactive=True\n",
        "    )\n",
        "\n",
        "    # Textboxes for displaying details of the selected interaction\n",
        "    with gr.Row():\n",
        "        significance_box = gr.Textbox(label=\"Significance\", interactive=False)\n",
        "        onset_box = gr.Textbox(label=\"Onset\", interactive=False)\n",
        "        severity_box = gr.Textbox(label=\"Severity\", interactive=False)\n",
        "        documentation_box = gr.Textbox(label=\"Documentation\", interactive=False)\n",
        "\n",
        "    # with gr.Accordion(\"Effect\", open=True):\n",
        "    #     effect_box = gr.Textbox(label=\"Effect\", interactive=False, lines=1.5)\n",
        "\n",
        "    with gr.Accordion(\"Mechanism\", open=True):\n",
        "        mechanism_box = gr.Textbox(label=\"Mechanism\", interactive=False, lines=1.5)\n",
        "\n",
        "    with gr.Accordion(\"Management\", open=True):\n",
        "        management_box = gr.Textbox(label=\"Management\", interactive=False, lines=1.5)\n",
        "\n",
        "    with gr.Accordion(\"Discussion\", open=True):\n",
        "        discussion_box = gr.Textbox(label=\"Discussion\", interactive=False, lines=1.5)\n",
        "\n",
        "    footer = gr.Markdown(\"\")\n",
        "\n",
        "    # Link sample set selection to the inputs\n",
        "    sample_set_dropdown.change(\n",
        "        set_sample_input,\n",
        "        inputs=[sample_set_dropdown],\n",
        "        outputs=[drug_input, tpu_input]\n",
        "    )\n",
        "\n",
        "        # Handle the submit button to fetch interactions\n",
        "    def on_submit(drug_names, tpuid_ids):\n",
        "        interactions, interaction_data = get_interactions(drug_names, tpuid_ids)\n",
        "        print(f\"Fetched interactions: {interactions}\")  # Log fetched interactions\n",
        "        print(f\"Interaction Data: {interaction_data}\")  # Log the entire interaction data for inspection\n",
        "\n",
        "        if not interactions:\n",
        "            return [], [], []  # Return empty dropdown if no interactions found\n",
        "        return gr.update(choices=interactions), gr.update(value=interaction_data), gr.State(interaction_data)\n",
        "\n",
        "    # Add an error output (gr.Textbox) for error messages\n",
        "    error_message_box = gr.Textbox(label=\"Error\", interactive=False, visible=False)\n",
        "\n",
        "    submit_btn.click(\n",
        "        on_submit,\n",
        "        inputs=[drug_input, tpu_input],\n",
        "        outputs=[interaction_output, error_message_box, gr.State()]\n",
        "    )\n",
        "\n",
        "    def store_detail(interaction_data):\n",
        "        # If there's no interaction data, return empty fields\n",
        "        if not interaction_data:\n",
        "            print(\"No interaction data available.\")  # Log when no data exists\n",
        "            return [[\"\", \"\", \"\", \"\", \"\", \"\", \"\"]]  # Return an empty set of values\n",
        "\n",
        "        all_details = []\n",
        "        # Iterate over all interaction data and collect the details\n",
        "        for details in interaction_data:\n",
        "            print(f\"Found details: {details}\")  # Log the found details\n",
        "\n",
        "            # Collect the details for each interaction, defaulting to empty string if not available\n",
        "            interaction_details = [\n",
        "                detail.get(\"interaction\",\"\"),\n",
        "                details.get(\"Significance\", \"\"),\n",
        "                details.get(\"Onset\", \"\"),\n",
        "                details.get(\"Severity\", \"\"),\n",
        "                details.get(\"Documentation\", \"\"),\n",
        "                details.get(\"mechanism\", \"\"),\n",
        "                details.get(\"management\", \"\"),\n",
        "                details.get(\"discussion\", \"\"),\n",
        "            ]\n",
        "\n",
        "            all_details.append(interaction_details)\n",
        "        return all_details\n",
        "\n",
        "    def on_interaction_select(selected_interaction, drug_input, tpu_input):\n",
        "        print(f\"Selected interaction: {selected_interaction}\")  # Log the selected interaction\n",
        "        interactions, interaction_detail = get_interactions(drug_input, tpu_input)\n",
        "        \n",
        "        for idx, interaction in enumerate(interactions):\n",
        "            if selected_interaction == interaction:\n",
        "                print(f\"Found matching interaction: {selected_interaction}\")  # Log when a match is found\n",
        "    \n",
        "                # Extract the corresponding interaction_detail for the matched interaction\n",
        "                matching_interaction_detail = interaction_detail[idx]\n",
        "                print(f\"Interaction detail: {matching_interaction_detail}\")  # Log the corresponding interaction details\n",
        "    \n",
        "                # Store the matching details using store_detail function\n",
        "                my_store = store_detail([matching_interaction_detail])  # จะได้ list ซ้อน [[...]]\n",
        "                print(tuple(my_store[0]))\n",
        "                # ต้องแยกค่าออกมาเป็น 8 ตัว ไม่ใช่ list ซ้อน\n",
        "                return tuple(my_store[0])  # ใช้ tuple เพื่อให้แยกค่าเป็น 8 ตัว\n",
        "\n",
        "\n",
        "    # Update the interaction details on selection\n",
        "    interaction_output.select(\n",
        "        on_interaction_select,\n",
        "        inputs=[interaction_output, drug_input, tpu_input],\n",
        "        outputs=[\n",
        "            significance_box, onset_box, severity_box, documentation_box, mechanism_box, management_box, discussion_box\n",
        "        ]\n",
        "    )\n",
        "\n",
        "# Launch the Gradio interface\n",
        "demo.launch(debug=True)\n",
        "\n",
        "\n",
        "     "
      ]
    },
    {
      "cell_type": "code",
      "execution_count": null,
      "metadata": {
        "id": "6mWAds0R0EW5"
      },
      "outputs": [],
      "source": []
    }
  ],
  "metadata": {
    "colab": {
      "authorship_tag": "ABX9TyOS8dHvSizFoOndlnqEQ1JK",
      "include_colab_link": true,
      "provenance": []
    },
    "kernelspec": {
      "display_name": "llm-env",
      "language": "python",
      "name": "python3"
    },
    "language_info": {
      "codemirror_mode": {
        "name": "ipython",
        "version": 3
      },
      "file_extension": ".py",
      "mimetype": "text/x-python",
      "name": "python",
      "nbconvert_exporter": "python",
      "pygments_lexer": "ipython3",
      "version": "3.12.7"
    }
  },
  "nbformat": 4,
  "nbformat_minor": 0
}
